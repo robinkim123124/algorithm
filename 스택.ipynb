{
 "cells": [
  {
   "cell_type": "code",
   "execution_count": 1,
   "id": "77eed126",
   "metadata": {
    "ExecuteTime": {
     "end_time": "2022-04-09T15:03:53.980753Z",
     "start_time": "2022-04-09T15:03:53.970649Z"
    }
   },
   "outputs": [],
   "source": [
    "def recursive(data):\n",
    "    if data<0:\n",
    "        print('end')\n",
    "    else:\n",
    "        print(data)\n",
    "        recursive(data-1)\n",
    "        print('return',data)\n",
    "        "
   ]
  },
  {
   "cell_type": "code",
   "execution_count": 2,
   "id": "c5bc6efc",
   "metadata": {
    "ExecuteTime": {
     "end_time": "2022-04-09T15:03:57.968248Z",
     "start_time": "2022-04-09T15:03:57.962154Z"
    }
   },
   "outputs": [
    {
     "name": "stdout",
     "output_type": "stream",
     "text": [
      "4\n",
      "3\n",
      "2\n",
      "1\n",
      "0\n",
      "end\n",
      "return 0\n",
      "return 1\n",
      "return 2\n",
      "return 3\n",
      "return 4\n"
     ]
    }
   ],
   "source": [
    "recursive(4)"
   ]
  },
  {
   "cell_type": "code",
   "execution_count": null,
   "id": "9192298b",
   "metadata": {},
   "outputs": [],
   "source": [
    "stack_list = list()\n",
    "\n",
    "def push(data):\n",
    "    stack_list.append(data)\n",
    "\n",
    "def pop():\n",
    "    data = stack_list[-1]\n",
    "    del stack_list[-1]\n",
    "    return data"
   ]
  },
  {
   "cell_type": "code",
   "execution_count": 3,
   "id": "a5fde2cb",
   "metadata": {
    "ExecuteTime": {
     "end_time": "2022-04-09T15:04:34.566476Z",
     "start_time": "2022-04-09T15:04:34.553604Z"
    }
   },
   "outputs": [],
   "source": [
    "def pop():\n",
    "    data=stack_list[-1]\n",
    "    del stack_list[-1]\n",
    "    return data"
   ]
  },
  {
   "cell_type": "code",
   "execution_count": 5,
   "id": "989e244e",
   "metadata": {
    "ExecuteTime": {
     "end_time": "2022-04-09T15:05:02.057643Z",
     "start_time": "2022-04-09T15:05:02.033800Z"
    }
   },
   "outputs": [
    {
     "ename": "NameError",
     "evalue": "name 'stack_list' is not defined",
     "output_type": "error",
     "traceback": [
      "\u001b[1;31m---------------------------------------------------------------------------\u001b[0m",
      "\u001b[1;31mNameError\u001b[0m                                 Traceback (most recent call last)",
      "\u001b[1;32m<ipython-input-5-f7369d373345>\u001b[0m in \u001b[0;36m<module>\u001b[1;34m\u001b[0m\n\u001b[1;32m----> 1\u001b[1;33m \u001b[0mpop\u001b[0m\u001b[1;33m(\u001b[0m\u001b[1;33m)\u001b[0m\u001b[1;33m\u001b[0m\u001b[1;33m\u001b[0m\u001b[0m\n\u001b[0m",
      "\u001b[1;32m<ipython-input-3-1951a565b38d>\u001b[0m in \u001b[0;36mpop\u001b[1;34m()\u001b[0m\n\u001b[0;32m      1\u001b[0m \u001b[1;32mdef\u001b[0m \u001b[0mpop\u001b[0m\u001b[1;33m(\u001b[0m\u001b[1;33m)\u001b[0m\u001b[1;33m:\u001b[0m\u001b[1;33m\u001b[0m\u001b[1;33m\u001b[0m\u001b[0m\n\u001b[1;32m----> 2\u001b[1;33m     \u001b[0mdata\u001b[0m\u001b[1;33m=\u001b[0m\u001b[0mstack_list\u001b[0m\u001b[1;33m[\u001b[0m\u001b[1;33m-\u001b[0m\u001b[1;36m1\u001b[0m\u001b[1;33m]\u001b[0m\u001b[1;33m\u001b[0m\u001b[1;33m\u001b[0m\u001b[0m\n\u001b[0m\u001b[0;32m      3\u001b[0m     \u001b[1;32mdel\u001b[0m \u001b[0mstack_list\u001b[0m\u001b[1;33m[\u001b[0m\u001b[1;33m-\u001b[0m\u001b[1;36m1\u001b[0m\u001b[1;33m]\u001b[0m\u001b[1;33m\u001b[0m\u001b[1;33m\u001b[0m\u001b[0m\n\u001b[0;32m      4\u001b[0m     \u001b[1;32mreturn\u001b[0m \u001b[0mdata\u001b[0m\u001b[1;33m\u001b[0m\u001b[1;33m\u001b[0m\u001b[0m\n",
      "\u001b[1;31mNameError\u001b[0m: name 'stack_list' is not defined"
     ]
    }
   ],
   "source": [
    "pop()"
   ]
  },
  {
   "cell_type": "code",
   "execution_count": null,
   "id": "bd18da76",
   "metadata": {},
   "outputs": [],
   "source": []
  }
 ],
 "metadata": {
  "kernelspec": {
   "display_name": "Python 3",
   "language": "python",
   "name": "python3"
  },
  "language_info": {
   "codemirror_mode": {
    "name": "ipython",
    "version": 3
   },
   "file_extension": ".py",
   "mimetype": "text/x-python",
   "name": "python",
   "nbconvert_exporter": "python",
   "pygments_lexer": "ipython3",
   "version": "3.8.8"
  },
  "nbTranslate": {
   "displayLangs": [
    "*"
   ],
   "hotkey": "alt-t",
   "langInMainMenu": true,
   "sourceLang": "en",
   "targetLang": "fr",
   "useGoogleTranslate": true
  },
  "toc": {
   "base_numbering": 1,
   "nav_menu": {},
   "number_sections": true,
   "sideBar": true,
   "skip_h1_title": false,
   "title_cell": "Table of Contents",
   "title_sidebar": "Contents",
   "toc_cell": false,
   "toc_position": {},
   "toc_section_display": true,
   "toc_window_display": false
  },
  "varInspector": {
   "cols": {
    "lenName": 16,
    "lenType": 16,
    "lenVar": 40
   },
   "kernels_config": {
    "python": {
     "delete_cmd_postfix": "",
     "delete_cmd_prefix": "del ",
     "library": "var_list.py",
     "varRefreshCmd": "print(var_dic_list())"
    },
    "r": {
     "delete_cmd_postfix": ") ",
     "delete_cmd_prefix": "rm(",
     "library": "var_list.r",
     "varRefreshCmd": "cat(var_dic_list()) "
    }
   },
   "types_to_exclude": [
    "module",
    "function",
    "builtin_function_or_method",
    "instance",
    "_Feature"
   ],
   "window_display": false
  }
 },
 "nbformat": 4,
 "nbformat_minor": 5
}
