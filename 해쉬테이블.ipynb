{
 "cells": [
  {
   "cell_type": "markdown",
   "id": "a5f05ee8",
   "metadata": {},
   "source": [
    "## 대표적인 데이터 구조6: 해쉬 테이블 (Hash Table)\n",
    "\n",
    "### 1. 해쉬 구조\n",
    "* Hash Table: 키(Key)에 데이터(Value)를 저장하는 데이터 구조\n",
    "  - Key를 통해 바로 데이터를 받아올 수 있으므로, 속도가 획기적으로 빨라짐\n",
    "  - 파이썬 딕셔너리(Dictionary) 타입이 해쉬 테이블의 예: Key를 가지고 바로 데이터(Value)를 꺼냄\n",
    "  - 보통 배열로 미리 Hash Table 사이즈만큼 생성 후에 사용 (공간과 탐색 시간을 맞바꾸는 기법)\n",
    "  - <font color='#BF360C'>단, 파이썬에서는 해쉬를 별도 구현할 이유가 없음 - 딕셔너리 타입을 사용하면 됨</font>"
   ]
  },
  {
   "cell_type": "code",
   "execution_count": 5,
   "id": "d4fd27f9",
   "metadata": {
    "ExecuteTime": {
     "end_time": "2022-04-12T14:23:01.781114Z",
     "start_time": "2022-04-12T14:23:01.762692Z"
    }
   },
   "outputs": [
    {
     "data": {
      "text/plain": [
       "[0, 1, 2, 3, 4, 5, 6, 7, 8, 9]"
      ]
     },
     "execution_count": 5,
     "metadata": {},
     "output_type": "execute_result"
    }
   ],
   "source": [
    "[i for i in range(10)]"
   ]
  },
  {
   "cell_type": "markdown",
   "id": "aae1aca7",
   "metadata": {
    "ExecuteTime": {
     "end_time": "2022-04-12T14:22:32.458244Z",
     "start_time": "2022-04-12T14:22:32.450108Z"
    }
   },
   "source": [
    "#### 초간단 해쉬테이블"
   ]
  },
  {
   "cell_type": "code",
   "execution_count": 6,
   "id": "f4a3b7a7",
   "metadata": {
    "ExecuteTime": {
     "end_time": "2022-04-12T14:24:27.223937Z",
     "start_time": "2022-04-12T14:24:27.217894Z"
    }
   },
   "outputs": [],
   "source": [
    "def hash_func(key):\n",
    "    return key%5"
   ]
  },
  {
   "cell_type": "code",
   "execution_count": 7,
   "id": "dd779bd6",
   "metadata": {
    "ExecuteTime": {
     "end_time": "2022-04-12T14:34:49.677724Z",
     "start_time": "2022-04-12T14:34:49.673422Z"
    }
   },
   "outputs": [],
   "source": [
    "data1 = 'Andy'\n",
    "data2 = 'Dave'\n",
    "data3 = 'Trump'\n",
    "data4 = 'Anthor'"
   ]
  },
  {
   "cell_type": "code",
   "execution_count": 8,
   "id": "b812f06b",
   "metadata": {
    "ExecuteTime": {
     "end_time": "2022-04-12T14:34:53.117547Z",
     "start_time": "2022-04-12T14:34:53.105750Z"
    }
   },
   "outputs": [
    {
     "name": "stdout",
     "output_type": "stream",
     "text": [
      "65 68 84\n"
     ]
    }
   ],
   "source": [
    "print (ord(data1[0]), ord(data2[0]), ord(data3[0]))"
   ]
  },
  {
   "cell_type": "code",
   "execution_count": 10,
   "id": "c6acb2ab",
   "metadata": {
    "ExecuteTime": {
     "end_time": "2022-04-12T14:35:09.338350Z",
     "start_time": "2022-04-12T14:35:09.320123Z"
    }
   },
   "outputs": [
    {
     "name": "stdout",
     "output_type": "stream",
     "text": [
      "3\n"
     ]
    }
   ],
   "source": [
    "print(hash_func(ord(data2[0])))"
   ]
  },
  {
   "cell_type": "code",
   "execution_count": 17,
   "id": "7d26fcfc",
   "metadata": {
    "ExecuteTime": {
     "end_time": "2022-04-12T14:39:07.640334Z",
     "start_time": "2022-04-12T14:39:07.631952Z"
    }
   },
   "outputs": [],
   "source": [
    "def storage_data(data,value):\n",
    "    key=ord(data[0])\n",
    "    hash_address=hash_func(key)\n",
    "    hash_table[hash_address]=value"
   ]
  },
  {
   "cell_type": "code",
   "execution_count": 18,
   "id": "a53de810",
   "metadata": {
    "ExecuteTime": {
     "end_time": "2022-04-12T14:39:08.010643Z",
     "start_time": "2022-04-12T14:39:07.999546Z"
    }
   },
   "outputs": [],
   "source": [
    "storage_data('Andy', '01055553333')"
   ]
  },
  {
   "cell_type": "code",
   "execution_count": 19,
   "id": "e6a59610",
   "metadata": {
    "ExecuteTime": {
     "end_time": "2022-04-12T14:39:09.904313Z",
     "start_time": "2022-04-12T14:39:09.888275Z"
    }
   },
   "outputs": [],
   "source": [
    "def get_data(data):\n",
    "    key = ord(data[0])\n",
    "    hash_address = hash_func(key)\n",
    "    return hash_table[hash_address]"
   ]
  },
  {
   "cell_type": "code",
   "execution_count": 20,
   "id": "6962da5a",
   "metadata": {
    "ExecuteTime": {
     "end_time": "2022-04-12T14:39:10.119410Z",
     "start_time": "2022-04-12T14:39:10.104581Z"
    }
   },
   "outputs": [
    {
     "data": {
      "text/plain": [
       "'01055553333'"
      ]
     },
     "execution_count": 20,
     "metadata": {},
     "output_type": "execute_result"
    }
   ],
   "source": [
    "get_data('Andy')"
   ]
  },
  {
   "cell_type": "code",
   "execution_count": 16,
   "id": "fd80fc01",
   "metadata": {
    "ExecuteTime": {
     "end_time": "2022-04-12T14:38:39.014321Z",
     "start_time": "2022-04-12T14:38:39.006484Z"
    }
   },
   "outputs": [
    {
     "data": {
      "text/plain": [
       "['01055553333', 1, 2, 3, 4, 5, 6, 7, 8, 9]"
      ]
     },
     "execution_count": 16,
     "metadata": {},
     "output_type": "execute_result"
    }
   ],
   "source": [
    "hash_table"
   ]
  },
  {
   "cell_type": "markdown",
   "id": "c4e5b94d",
   "metadata": {},
   "source": [
    "### 충돌 해결"
   ]
  },
  {
   "cell_type": "markdown",
   "id": "71a5677f",
   "metadata": {},
   "source": [
    "1.6  6. 충돌(Collision) 해결 알고리즘 (좋은 해쉬 함수 사용하기)\n",
    "해쉬 테이블의 가장 큰 문제는 충돌(Collision)의 경우입니다. 이 문제를 충돌(Collision) 또는 해쉬 충돌(Hash Collision)이라고 부릅니다."
   ]
  },
  {
   "cell_type": "markdown",
   "id": "41008dfc",
   "metadata": {},
   "source": [
    "1.6.1  6.1. Chaining 기법\n",
    "개방 해슁 또는 Open Hashing 기법 중 하나: 해쉬 테이블 저장공간 외의 공간을 활용하는 기법\n",
    "충돌이 일어나면, 링크드 리스트라는 자료 구조를 사용해서, 링크드 리스트로 데이터를 추가로 뒤에 연결시켜서 저장하는 기법"
   ]
  },
  {
   "cell_type": "code",
   "execution_count": 50,
   "id": "0cc72671",
   "metadata": {
    "ExecuteTime": {
     "end_time": "2022-04-23T07:57:20.656020Z",
     "start_time": "2022-04-23T07:57:20.650342Z"
    }
   },
   "outputs": [],
   "source": [
    "hash_table = list([0 for i in range(8)])\n",
    "\n",
    "def get_key(data):\n",
    "    return hash(data)\n",
    "\n",
    "def hash_function(key):\n",
    "    return key % 8\n",
    "\n",
    "def save_data(data, value):\n",
    "    index_key = get_key(data)\n",
    "    hash_address = hash_function(index_key)\n",
    "    if hash_table[hash_address] != 0:\n",
    "        for index in range(len(hash_table[hash_address])):\n",
    "            \n",
    "                return\n",
    "        hash_table[hash_address].append([index_key, value])\n",
    "    else:\n",
    "        hash_table[hash_address] = [[index_key, value]]\n",
    "    \n",
    "def read_data(data):\n",
    "    index_key = get_key(data)\n",
    "    hash_address = hash_function(index_key)\n",
    "\n",
    "    if hash_table[hash_address] != 0:\n",
    "        for index in range(len(hash_table[hash_address])):\n",
    "            if hash_table[hash_address][index][0] == index_key:\n",
    "                return hash_table[hash_address][index][1]\n",
    "        return None\n",
    "    else:\n",
    "        return None\n"
   ]
  },
  {
   "cell_type": "code",
   "execution_count": 22,
   "id": "589c355f",
   "metadata": {
    "ExecuteTime": {
     "end_time": "2022-04-23T07:33:29.864036Z",
     "start_time": "2022-04-23T07:33:29.854978Z"
    }
   },
   "outputs": [
    {
     "name": "stdout",
     "output_type": "stream",
     "text": [
      "5\n",
      "7\n",
      "4\n"
     ]
    }
   ],
   "source": [
    "print (hash('Dave') % 8)\n",
    "print (hash('Dd') % 8)\n",
    "print (hash('Data') % 8)"
   ]
  },
  {
   "cell_type": "code",
   "execution_count": 4,
   "id": "d425816d",
   "metadata": {
    "ExecuteTime": {
     "end_time": "2022-04-23T07:14:33.937300Z",
     "start_time": "2022-04-23T07:14:33.920908Z"
    }
   },
   "outputs": [
    {
     "data": {
      "text/plain": [
       "[0, 0, 0, 0, 0, 0, 0, 0]"
      ]
     },
     "execution_count": 4,
     "metadata": {},
     "output_type": "execute_result"
    }
   ],
   "source": [
    "hash_table"
   ]
  },
  {
   "cell_type": "code",
   "execution_count": 59,
   "id": "67136c43",
   "metadata": {
    "ExecuteTime": {
     "end_time": "2022-04-23T07:58:30.289205Z",
     "start_time": "2022-04-23T07:58:30.281124Z"
    }
   },
   "outputs": [],
   "source": [
    "hash_table = list([0 for i in range(8)])\n",
    "\n",
    "def get_key(data):\n",
    "    return hash(data)\n",
    "\n",
    "def hash_function(key):\n",
    "    return key % 8\n",
    "\n",
    "def save_data(data, value):\n",
    "    index_key = get_key(data)\n",
    "    hash_address = hash_function(index_key)\n",
    "    if hash_table[hash_address] != 0:\n",
    "        for index in range(len(hash_table[hash_address])):\n",
    "            \n",
    "                return\n",
    "        hash_table[hash_address].append([index_key, value])\n",
    "    else:\n",
    "        hash_table[hash_address] = [[index_key, value]]\n",
    "    \n",
    "def read_data(data):\n",
    "    index_key = get_key(data)\n",
    "    hash_address = hash_function(index_key)\n",
    "\n",
    "    if hash_table[hash_address] != 0:\n",
    "        for index in range(len(hash_table[hash_address])):\n",
    "            if hash_table[hash_address][index][0] == index_key:\n",
    "                return hash_table[hash_address][index][1]\n",
    "        return None\n",
    "    else:\n",
    "        return None\n"
   ]
  },
  {
   "cell_type": "code",
   "execution_count": 60,
   "id": "5b2e5e39",
   "metadata": {
    "ExecuteTime": {
     "end_time": "2022-04-23T07:58:30.518878Z",
     "start_time": "2022-04-23T07:58:30.507604Z"
    }
   },
   "outputs": [
    {
     "name": "stdout",
     "output_type": "stream",
     "text": [
      "5\n",
      "7\n",
      "4\n",
      "1\n",
      "7\n"
     ]
    }
   ],
   "source": [
    "print (hash('Dave') % 8)\n",
    "print (hash('Dd') % 8)\n",
    "print (hash('Data') % 8)\n",
    "print (hash('Data2') % 8)\n",
    "print (hash('Data3') % 8)"
   ]
  },
  {
   "cell_type": "code",
   "execution_count": 66,
   "id": "8a8bce5d",
   "metadata": {
    "ExecuteTime": {
     "end_time": "2022-04-23T07:58:52.522734Z",
     "start_time": "2022-04-23T07:58:52.511677Z"
    }
   },
   "outputs": [
    {
     "data": {
      "text/plain": [
       "'1201023010'"
      ]
     },
     "execution_count": 66,
     "metadata": {},
     "output_type": "execute_result"
    }
   ],
   "source": [
    "save_data('Dd', '3301023012')\n",
    "save_data('Data3', '3301023012')\n",
    "read_data('Dd')"
   ]
  },
  {
   "cell_type": "code",
   "execution_count": null,
   "id": "140fa065",
   "metadata": {},
   "outputs": [],
   "source": []
  },
  {
   "cell_type": "code",
   "execution_count": 1,
   "id": "6f4f0061",
   "metadata": {
    "ExecuteTime": {
     "end_time": "2022-04-23T07:14:17.013682Z",
     "start_time": "2022-04-23T07:14:17.002116Z"
    }
   },
   "outputs": [
    {
     "data": {
      "text/plain": [
       "<function hash(obj, /)>"
      ]
     },
     "execution_count": 1,
     "metadata": {},
     "output_type": "execute_result"
    }
   ],
   "source": [
    "hash"
   ]
  },
  {
   "cell_type": "markdown",
   "id": "48c740cb",
   "metadata": {},
   "source": [
    "#### 6.2. Linear Probing 기법\n",
    "- **폐쇄 해슁 또는 Close Hashing 기법** 중 하나: 해쉬 테이블 저장공간 안에서 충돌 문제를 해결하는 기법\n",
    "- 충돌이 일어나면, 해당 hash address의 다음 address부터 맨 처음 나오는 빈공간에 저장하는 기법\n",
    "  - 저장공간 활용도를 높이기 위한 기법"
   ]
  },
  {
   "cell_type": "code",
   "execution_count": 13,
   "id": "8760b39e",
   "metadata": {
    "ExecuteTime": {
     "end_time": "2022-04-23T13:44:43.981537Z",
     "start_time": "2022-04-23T13:44:43.968290Z"
    }
   },
   "outputs": [],
   "source": [
    "hash_table = list([0 for i in range(8)])\n",
    "\n",
    "def get_key(data):\n",
    "    return hash(data)\n",
    "\n",
    "def hash_function(key):\n",
    "    return key % 8\n",
    "\n",
    "def save_data(data, value):\n",
    "    index_key = get_key(data)\n",
    "    hash_address = hash_function(index_key)\n",
    "    if hash_table[hash_address] != 0:\n",
    "        for index in range(hash_address, len(hash_table)):\n",
    "            if hash_table[index] == 0:\n",
    "                hash_table[index] = [index_key, value]\n",
    "                return\n",
    "            elif hash_table[index][0] == index_key:\n",
    "                hash_table[index][1] = value\n",
    "                return\n",
    "    else:\n",
    "        hash_table[hash_address] = [index_key, value]\n",
    "\n",
    "def read_data(data):\n",
    "    index_key = get_key(data)\n",
    "    hash_address = hash_function(index_key)\n",
    "    \n",
    "    if hash_table[hash_address] != 0:\n",
    "        for index in range(hash_address, len(hash_table)):\n",
    "            if hash_table[index] == 0:\n",
    "                return None\n",
    "            elif hash_table[index][0] == index_key:\n",
    "                return hash_table[index][1]\n",
    "    else:\n",
    "        return None\n"
   ]
  },
  {
   "cell_type": "code",
   "execution_count": 10,
   "id": "f04b4d65",
   "metadata": {
    "ExecuteTime": {
     "end_time": "2022-04-23T13:37:44.272968Z",
     "start_time": "2022-04-23T13:37:44.263912Z"
    }
   },
   "outputs": [],
   "source": [
    "for index,index2 in range(5,4):\n",
    "    print(index,index2)"
   ]
  },
  {
   "cell_type": "code",
   "execution_count": 14,
   "id": "0dece769",
   "metadata": {
    "ExecuteTime": {
     "end_time": "2022-04-23T13:44:57.989314Z",
     "start_time": "2022-04-23T13:44:57.977343Z"
    }
   },
   "outputs": [
    {
     "name": "stdout",
     "output_type": "stream",
     "text": [
      "7\n",
      "1\n",
      "7\n"
     ]
    }
   ],
   "source": [
    "print (hash('dk') % 8)\n",
    "print (hash('da') % 8)\n",
    "print (hash('dc') % 8)"
   ]
  },
  {
   "cell_type": "code",
   "execution_count": 15,
   "id": "116f049f",
   "metadata": {
    "ExecuteTime": {
     "end_time": "2022-04-23T13:44:58.632120Z",
     "start_time": "2022-04-23T13:44:58.623940Z"
    }
   },
   "outputs": [],
   "source": [
    "save_data('dk', '01200123123')\n",
    "save_data('da', '3333333333')\n",
    "read_data('dc')"
   ]
  },
  {
   "cell_type": "markdown",
   "id": "32c0d556",
   "metadata": {},
   "source": [
    "#### 6.3. 빈번한 충돌을 개선하는 기법\n",
    "- 해쉬 함수을 재정의 및 해쉬 테이블 저장공간을 확대\n",
    "- 예:\n",
    "\n",
    "```python\n",
    "hash_table = list([None for i in range(16)])\n",
    "\n",
    "def hash_function(key):\n",
    "    return key % 16\n",
    "```"
   ]
  },
  {
   "cell_type": "markdown",
   "id": "72246757",
   "metadata": {
    "ExecuteTime": {
     "end_time": "2022-04-23T13:48:31.321018Z",
     "start_time": "2022-04-23T13:48:31.303426Z"
    }
   },
   "source": [
    "### 참고: 해쉬 함수와 키 생성 함수\n",
    "- 파이썬의 hash() 함수는 실행할 때마다, 값이 달라질 수 있음\n",
    "- 유명한 해쉬 함수들이 있음: SHA(Secure Hash Algorithm, 안전한 해시 알고리즘)\n",
    "  - 어떤 데이터도 유일한 고정된 크기의 고정값을 리턴해주므로, 해쉬 함수로 유용하게 활용 가능"
   ]
  },
  {
   "cell_type": "code",
   "execution_count": 32,
   "id": "23acf656",
   "metadata": {
    "ExecuteTime": {
     "end_time": "2022-04-23T14:14:40.383016Z",
     "start_time": "2022-04-23T14:14:40.365531Z"
    }
   },
   "outputs": [
    {
     "name": "stdout",
     "output_type": "stream",
     "text": [
      "a94a8fe5ccb19ba61c4c0873d391e987982fbbd3\n"
     ]
    }
   ],
   "source": [
    "import hashlib\n",
    "\n",
    "data = 'test'.encode()\n",
    "hash_object = hashlib.sha1()\n",
    "hash_object.update(data)\n",
    "hex_dig = hash_object.hexdigest() ##16진수로 추출하기 위한 함수\n",
    "print (hex_dig)"
   ]
  },
  {
   "cell_type": "code",
   "execution_count": 33,
   "id": "8ab90ed4",
   "metadata": {
    "ExecuteTime": {
     "end_time": "2022-04-23T14:14:48.412405Z",
     "start_time": "2022-04-23T14:14:48.405657Z"
    }
   },
   "outputs": [
    {
     "name": "stdout",
     "output_type": "stream",
     "text": [
      "9f86d081884c7d659a2feaa0c55ad015a3bf4f1b2b0b822cd15d6c15b0f00a08\n"
     ]
    }
   ],
   "source": [
    "import hashlib\n",
    "\n",
    "data = 'test'.encode()\n",
    "hash_object = hashlib.sha256()\n",
    "hash_object.update(data)\n",
    "hex_dig = hash_object.hexdigest()\n",
    "print (hex_dig)"
   ]
  },
  {
   "cell_type": "code",
   "execution_count": null,
   "id": "28122d04",
   "metadata": {},
   "outputs": [],
   "source": []
  }
 ],
 "metadata": {
  "kernelspec": {
   "display_name": "Python 3",
   "language": "python",
   "name": "python3"
  },
  "language_info": {
   "codemirror_mode": {
    "name": "ipython",
    "version": 3
   },
   "file_extension": ".py",
   "mimetype": "text/x-python",
   "name": "python",
   "nbconvert_exporter": "python",
   "pygments_lexer": "ipython3",
   "version": "3.8.8"
  },
  "nbTranslate": {
   "displayLangs": [
    "*"
   ],
   "hotkey": "alt-t",
   "langInMainMenu": true,
   "sourceLang": "en",
   "targetLang": "fr",
   "useGoogleTranslate": true
  },
  "toc": {
   "base_numbering": 1,
   "nav_menu": {},
   "number_sections": true,
   "sideBar": true,
   "skip_h1_title": false,
   "title_cell": "Table of Contents",
   "title_sidebar": "Contents",
   "toc_cell": false,
   "toc_position": {},
   "toc_section_display": true,
   "toc_window_display": false
  },
  "varInspector": {
   "cols": {
    "lenName": 16,
    "lenType": 16,
    "lenVar": 40
   },
   "kernels_config": {
    "python": {
     "delete_cmd_postfix": "",
     "delete_cmd_prefix": "del ",
     "library": "var_list.py",
     "varRefreshCmd": "print(var_dic_list())"
    },
    "r": {
     "delete_cmd_postfix": ") ",
     "delete_cmd_prefix": "rm(",
     "library": "var_list.r",
     "varRefreshCmd": "cat(var_dic_list()) "
    }
   },
   "types_to_exclude": [
    "module",
    "function",
    "builtin_function_or_method",
    "instance",
    "_Feature"
   ],
   "window_display": false
  }
 },
 "nbformat": 4,
 "nbformat_minor": 5
}
