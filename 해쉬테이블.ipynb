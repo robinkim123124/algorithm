{
 "cells": [
  {
   "cell_type": "markdown",
   "id": "799e0c83",
   "metadata": {},
   "source": [
    "## 대표적인 데이터 구조6: 해쉬 테이블 (Hash Table)\n",
    "\n",
    "### 1. 해쉬 구조\n",
    "* Hash Table: 키(Key)에 데이터(Value)를 저장하는 데이터 구조\n",
    "  - Key를 통해 바로 데이터를 받아올 수 있으므로, 속도가 획기적으로 빨라짐\n",
    "  - 파이썬 딕셔너리(Dictionary) 타입이 해쉬 테이블의 예: Key를 가지고 바로 데이터(Value)를 꺼냄\n",
    "  - 보통 배열로 미리 Hash Table 사이즈만큼 생성 후에 사용 (공간과 탐색 시간을 맞바꾸는 기법)\n",
    "  - <font color='#BF360C'>단, 파이썬에서는 해쉬를 별도 구현할 이유가 없음 - 딕셔너리 타입을 사용하면 됨</font>"
   ]
  },
  {
   "cell_type": "code",
   "execution_count": 5,
   "id": "49ebb652",
   "metadata": {
    "ExecuteTime": {
     "end_time": "2022-04-12T14:23:01.781114Z",
     "start_time": "2022-04-12T14:23:01.762692Z"
    }
   },
   "outputs": [
    {
     "data": {
      "text/plain": [
       "[0, 1, 2, 3, 4, 5, 6, 7, 8, 9]"
      ]
     },
     "execution_count": 5,
     "metadata": {},
     "output_type": "execute_result"
    }
   ],
   "source": [
    "[i for i in range(10)]"
   ]
  },
  {
   "cell_type": "markdown",
   "id": "bdcae3b8",
   "metadata": {
    "ExecuteTime": {
     "end_time": "2022-04-12T14:22:32.458244Z",
     "start_time": "2022-04-12T14:22:32.450108Z"
    }
   },
   "source": [
    "#### 초간단 해쉬테이블"
   ]
  },
  {
   "cell_type": "code",
   "execution_count": 6,
   "id": "04c13ed5",
   "metadata": {
    "ExecuteTime": {
     "end_time": "2022-04-12T14:24:27.223937Z",
     "start_time": "2022-04-12T14:24:27.217894Z"
    }
   },
   "outputs": [],
   "source": [
    "def hash_func(key):\n",
    "    return key%5"
   ]
  },
  {
   "cell_type": "code",
   "execution_count": 7,
   "id": "d673b8bc",
   "metadata": {
    "ExecuteTime": {
     "end_time": "2022-04-12T14:34:49.677724Z",
     "start_time": "2022-04-12T14:34:49.673422Z"
    }
   },
   "outputs": [],
   "source": [
    "data1 = 'Andy'\n",
    "data2 = 'Dave'\n",
    "data3 = 'Trump'\n",
    "data4 = 'Anthor'"
   ]
  },
  {
   "cell_type": "code",
   "execution_count": 8,
   "id": "f5549826",
   "metadata": {
    "ExecuteTime": {
     "end_time": "2022-04-12T14:34:53.117547Z",
     "start_time": "2022-04-12T14:34:53.105750Z"
    }
   },
   "outputs": [
    {
     "name": "stdout",
     "output_type": "stream",
     "text": [
      "65 68 84\n"
     ]
    }
   ],
   "source": [
    "print (ord(data1[0]), ord(data2[0]), ord(data3[0]))"
   ]
  },
  {
   "cell_type": "code",
   "execution_count": 10,
   "id": "c7288c9c",
   "metadata": {
    "ExecuteTime": {
     "end_time": "2022-04-12T14:35:09.338350Z",
     "start_time": "2022-04-12T14:35:09.320123Z"
    }
   },
   "outputs": [
    {
     "name": "stdout",
     "output_type": "stream",
     "text": [
      "3\n"
     ]
    }
   ],
   "source": [
    "print(hash_func(ord(data2[0])))"
   ]
  },
  {
   "cell_type": "code",
   "execution_count": 17,
   "id": "edcd302e",
   "metadata": {
    "ExecuteTime": {
     "end_time": "2022-04-12T14:39:07.640334Z",
     "start_time": "2022-04-12T14:39:07.631952Z"
    }
   },
   "outputs": [],
   "source": [
    "def storage_data(data,value):\n",
    "    key=ord(data[0])\n",
    "    hash_address=hash_func(key)\n",
    "    hash_table[hash_address]=value"
   ]
  },
  {
   "cell_type": "code",
   "execution_count": 18,
   "id": "5842dc29",
   "metadata": {
    "ExecuteTime": {
     "end_time": "2022-04-12T14:39:08.010643Z",
     "start_time": "2022-04-12T14:39:07.999546Z"
    }
   },
   "outputs": [],
   "source": [
    "storage_data('Andy', '01055553333')"
   ]
  },
  {
   "cell_type": "code",
   "execution_count": 19,
   "id": "3ac7cd89",
   "metadata": {
    "ExecuteTime": {
     "end_time": "2022-04-12T14:39:09.904313Z",
     "start_time": "2022-04-12T14:39:09.888275Z"
    }
   },
   "outputs": [],
   "source": [
    "def get_data(data):\n",
    "    key = ord(data[0])\n",
    "    hash_address = hash_func(key)\n",
    "    return hash_table[hash_address]"
   ]
  },
  {
   "cell_type": "code",
   "execution_count": 20,
   "id": "7a81750b",
   "metadata": {
    "ExecuteTime": {
     "end_time": "2022-04-12T14:39:10.119410Z",
     "start_time": "2022-04-12T14:39:10.104581Z"
    }
   },
   "outputs": [
    {
     "data": {
      "text/plain": [
       "'01055553333'"
      ]
     },
     "execution_count": 20,
     "metadata": {},
     "output_type": "execute_result"
    }
   ],
   "source": [
    "get_data('Andy')"
   ]
  },
  {
   "cell_type": "code",
   "execution_count": 16,
   "id": "d10fb397",
   "metadata": {
    "ExecuteTime": {
     "end_time": "2022-04-12T14:38:39.014321Z",
     "start_time": "2022-04-12T14:38:39.006484Z"
    }
   },
   "outputs": [
    {
     "data": {
      "text/plain": [
       "['01055553333', 1, 2, 3, 4, 5, 6, 7, 8, 9]"
      ]
     },
     "execution_count": 16,
     "metadata": {},
     "output_type": "execute_result"
    }
   ],
   "source": [
    "hash_table"
   ]
  },
  {
   "cell_type": "code",
   "execution_count": null,
   "id": "fd92aedc",
   "metadata": {},
   "outputs": [],
   "source": []
  }
 ],
 "metadata": {
  "kernelspec": {
   "display_name": "Python 3",
   "language": "python",
   "name": "python3"
  },
  "language_info": {
   "codemirror_mode": {
    "name": "ipython",
    "version": 3
   },
   "file_extension": ".py",
   "mimetype": "text/x-python",
   "name": "python",
   "nbconvert_exporter": "python",
   "pygments_lexer": "ipython3",
   "version": "3.8.8"
  },
  "nbTranslate": {
   "displayLangs": [
    "*"
   ],
   "hotkey": "alt-t",
   "langInMainMenu": true,
   "sourceLang": "en",
   "targetLang": "fr",
   "useGoogleTranslate": true
  },
  "toc": {
   "base_numbering": 1,
   "nav_menu": {},
   "number_sections": true,
   "sideBar": true,
   "skip_h1_title": false,
   "title_cell": "Table of Contents",
   "title_sidebar": "Contents",
   "toc_cell": false,
   "toc_position": {},
   "toc_section_display": true,
   "toc_window_display": false
  },
  "varInspector": {
   "cols": {
    "lenName": 16,
    "lenType": 16,
    "lenVar": 40
   },
   "kernels_config": {
    "python": {
     "delete_cmd_postfix": "",
     "delete_cmd_prefix": "del ",
     "library": "var_list.py",
     "varRefreshCmd": "print(var_dic_list())"
    },
    "r": {
     "delete_cmd_postfix": ") ",
     "delete_cmd_prefix": "rm(",
     "library": "var_list.r",
     "varRefreshCmd": "cat(var_dic_list()) "
    }
   },
   "types_to_exclude": [
    "module",
    "function",
    "builtin_function_or_method",
    "instance",
    "_Feature"
   ],
   "window_display": false
  }
 },
 "nbformat": 4,
 "nbformat_minor": 5
}
