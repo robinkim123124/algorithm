{
 "cells": [
  {
   "cell_type": "code",
   "execution_count": 1,
   "id": "e4495cd6",
   "metadata": {
    "ExecuteTime": {
     "end_time": "2022-07-23T13:04:37.621823Z",
     "start_time": "2022-07-23T13:04:37.609759Z"
    }
   },
   "outputs": [],
   "source": [
    "import heapq\n",
    "\n",
    "queue = []"
   ]
  },
  {
   "cell_type": "code",
   "execution_count": 2,
   "id": "06c2f376",
   "metadata": {
    "ExecuteTime": {
     "end_time": "2022-07-23T13:05:01.327908Z",
     "start_time": "2022-07-23T13:05:01.319617Z"
    }
   },
   "outputs": [],
   "source": [
    "heapq.heappush(queue, [2,'A'])"
   ]
  },
  {
   "cell_type": "code",
   "execution_count": 4,
   "id": "3747286d",
   "metadata": {
    "ExecuteTime": {
     "end_time": "2022-07-23T13:05:21.889733Z",
     "start_time": "2022-07-23T13:05:21.879449Z"
    }
   },
   "outputs": [],
   "source": [
    "heapq.heappush(queue, [5, 'B'])\n",
    "heapq.heappush(queue, [1, 'C'])\n",
    "heapq.heappush(queue, [7, 'D'])"
   ]
  },
  {
   "cell_type": "code",
   "execution_count": 5,
   "id": "8eba7f17",
   "metadata": {
    "ExecuteTime": {
     "end_time": "2022-07-23T13:05:24.753465Z",
     "start_time": "2022-07-23T13:05:24.734667Z"
    }
   },
   "outputs": [
    {
     "data": {
      "text/plain": [
       "[[1, 'C'], [5, 'B'], [2, 'A'], [7, 'D']]"
      ]
     },
     "execution_count": 5,
     "metadata": {},
     "output_type": "execute_result"
    }
   ],
   "source": [
    "queue"
   ]
  },
  {
   "cell_type": "code",
   "execution_count": 7,
   "id": "81500b1b",
   "metadata": {
    "ExecuteTime": {
     "end_time": "2022-07-23T13:20:37.618969Z",
     "start_time": "2022-07-23T13:20:37.608477Z"
    }
   },
   "outputs": [
    {
     "name": "stdout",
     "output_type": "stream",
     "text": [
      "[1, 'C']\n",
      "[2, 'A']\n",
      "[5, 'B']\n",
      "[7, 'D']\n"
     ]
    }
   ],
   "source": [
    "for index in range(len(queue)):\n",
    "    print (heapq.heappop(queue))"
   ]
  },
  {
   "cell_type": "code",
   "execution_count": 8,
   "id": "23d40f55",
   "metadata": {
    "ExecuteTime": {
     "end_time": "2022-07-23T13:28:27.617377Z",
     "start_time": "2022-07-23T13:28:27.607395Z"
    }
   },
   "outputs": [],
   "source": [
    "mygraph = {\n",
    "    'A': {'B': 8, 'C': 1, 'D': 2},\n",
    "    'B': {},\n",
    "    'C': {'B': 5, 'D': 2},\n",
    "    'D': {'E': 3, 'F': 5},\n",
    "    'E': {'F': 1},\n",
    "    'F': {'A': 5}\n",
    "}"
   ]
  },
  {
   "cell_type": "code",
   "execution_count": 9,
   "id": "9c3a5e6d",
   "metadata": {
    "ExecuteTime": {
     "end_time": "2022-07-23T13:28:30.128588Z",
     "start_time": "2022-07-23T13:28:30.118880Z"
    }
   },
   "outputs": [
    {
     "data": {
      "text/plain": [
       "{'A': {'B': 8, 'C': 1, 'D': 2},\n",
       " 'B': {},\n",
       " 'C': {'B': 5, 'D': 2},\n",
       " 'D': {'E': 3, 'F': 5},\n",
       " 'E': {'F': 1},\n",
       " 'F': {'A': 5}}"
      ]
     },
     "execution_count": 9,
     "metadata": {},
     "output_type": "execute_result"
    }
   ],
   "source": [
    "mygraph"
   ]
  },
  {
   "cell_type": "code",
   "execution_count": 11,
   "id": "ed181f8b",
   "metadata": {
    "ExecuteTime": {
     "end_time": "2022-07-23T13:28:59.439345Z",
     "start_time": "2022-07-23T13:28:59.423298Z"
    }
   },
   "outputs": [],
   "source": [
    "distances = {node: float('inf') for node in mygraph}"
   ]
  },
  {
   "cell_type": "code",
   "execution_count": 12,
   "id": "02431ccd",
   "metadata": {
    "ExecuteTime": {
     "end_time": "2022-07-23T13:29:01.659316Z",
     "start_time": "2022-07-23T13:29:01.654226Z"
    }
   },
   "outputs": [
    {
     "data": {
      "text/plain": [
       "{'A': inf, 'B': inf, 'C': inf, 'D': inf, 'E': inf, 'F': inf}"
      ]
     },
     "execution_count": 12,
     "metadata": {},
     "output_type": "execute_result"
    }
   ],
   "source": [
    "distances"
   ]
  },
  {
   "cell_type": "code",
   "execution_count": 14,
   "id": "477cf767",
   "metadata": {
    "ExecuteTime": {
     "end_time": "2022-07-23T13:29:58.589972Z",
     "start_time": "2022-07-23T13:29:58.584919Z"
    }
   },
   "outputs": [],
   "source": [
    "distances['A'] = 0"
   ]
  },
  {
   "cell_type": "code",
   "execution_count": 15,
   "id": "db835279",
   "metadata": {
    "ExecuteTime": {
     "end_time": "2022-07-23T13:30:00.456166Z",
     "start_time": "2022-07-23T13:30:00.446565Z"
    }
   },
   "outputs": [
    {
     "data": {
      "text/plain": [
       "{'A': 0, 'B': inf, 'C': inf, 'D': inf, 'E': inf, 'F': inf}"
      ]
     },
     "execution_count": 15,
     "metadata": {},
     "output_type": "execute_result"
    }
   ],
   "source": [
    "distances"
   ]
  },
  {
   "cell_type": "code",
   "execution_count": 16,
   "id": "09aef2d1",
   "metadata": {
    "ExecuteTime": {
     "end_time": "2022-07-23T13:30:51.557507Z",
     "start_time": "2022-07-23T13:30:51.545421Z"
    }
   },
   "outputs": [],
   "source": [
    "import heapq\n",
    "\n",
    "def dijkstra(graph, start):\n",
    "    \n",
    "    distances = {node: float('inf') for node in graph}\n",
    "    distances[start] = 0\n",
    "    queue = []\n",
    "    heapq.heappush(queue, [distances[start], start])\n",
    "    \n",
    "    while queue:\n",
    "        current_distance, current_node = heapq.heappop(queue)\n",
    "        \n",
    "        if distances[current_node] < current_distance:\n",
    "            continue\n",
    "            \n",
    "        for adjacent, weight in graph[current_node].items():\n",
    "            distance = current_distance + weight\n",
    "            \n",
    "            if distance < distances[adjacent]:\n",
    "                distances[adjacent] = distance\n",
    "                heapq.heappush(queue, [distance, adjacent])\n",
    "                \n",
    "    return distances"
   ]
  },
  {
   "cell_type": "code",
   "execution_count": 17,
   "id": "3384461d",
   "metadata": {
    "ExecuteTime": {
     "end_time": "2022-07-23T13:30:54.601198Z",
     "start_time": "2022-07-23T13:30:54.593162Z"
    }
   },
   "outputs": [
    {
     "data": {
      "text/plain": [
       "{'A': 0, 'B': 6, 'C': 1, 'D': 2, 'E': 5, 'F': 6}"
      ]
     },
     "execution_count": 17,
     "metadata": {},
     "output_type": "execute_result"
    }
   ],
   "source": [
    "dijkstra(mygraph, 'A')"
   ]
  },
  {
   "cell_type": "code",
   "execution_count": null,
   "id": "227b7038",
   "metadata": {},
   "outputs": [],
   "source": []
  }
 ],
 "metadata": {
  "kernelspec": {
   "display_name": "Python 3",
   "language": "python",
   "name": "python3"
  },
  "language_info": {
   "codemirror_mode": {
    "name": "ipython",
    "version": 3
   },
   "file_extension": ".py",
   "mimetype": "text/x-python",
   "name": "python",
   "nbconvert_exporter": "python",
   "pygments_lexer": "ipython3",
   "version": "3.8.8"
  },
  "nbTranslate": {
   "displayLangs": [
    "*"
   ],
   "hotkey": "alt-t",
   "langInMainMenu": true,
   "sourceLang": "en",
   "targetLang": "fr",
   "useGoogleTranslate": true
  },
  "toc": {
   "base_numbering": 1,
   "nav_menu": {},
   "number_sections": true,
   "sideBar": true,
   "skip_h1_title": false,
   "title_cell": "Table of Contents",
   "title_sidebar": "Contents",
   "toc_cell": false,
   "toc_position": {},
   "toc_section_display": true,
   "toc_window_display": false
  },
  "varInspector": {
   "cols": {
    "lenName": 16,
    "lenType": 16,
    "lenVar": 40
   },
   "kernels_config": {
    "python": {
     "delete_cmd_postfix": "",
     "delete_cmd_prefix": "del ",
     "library": "var_list.py",
     "varRefreshCmd": "print(var_dic_list())"
    },
    "r": {
     "delete_cmd_postfix": ") ",
     "delete_cmd_prefix": "rm(",
     "library": "var_list.r",
     "varRefreshCmd": "cat(var_dic_list()) "
    }
   },
   "types_to_exclude": [
    "module",
    "function",
    "builtin_function_or_method",
    "instance",
    "_Feature"
   ],
   "window_display": false
  }
 },
 "nbformat": 4,
 "nbformat_minor": 5
}
