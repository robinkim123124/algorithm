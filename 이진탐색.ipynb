{
 "cells": [
  {
   "cell_type": "markdown",
   "id": "fab07432",
   "metadata": {},
   "source": [
    "### 다음 문제를 먼저 생각해보자\n",
    "<img src=\"https://www.fun-coding.org/00_Images/binarysearch.png\" />"
   ]
  },
  {
   "cell_type": "markdown",
   "id": "4db5f912",
   "metadata": {},
   "source": [
    "### 이진 탐색의 이해 (순차 탐색과 비교하며 이해하기)\n",
    "\n",
    "<img src=\"https://www.mathwarehouse.com/programming/images/binary-vs-linear-search/binary-and-linear-search-animations.gif\">\n",
    "\n",
    "* [저작자] by penjee.com [이미지 출처](https://blog.penjee.com/binary-vs-linear-search-animated-gifs)\n"
   ]
  },
  {
   "cell_type": "markdown",
   "id": "ad2cde23",
   "metadata": {},
   "source": [
    "### 2. 분할 정복 알고리즘과 이진 탐색\n",
    "- 분할 정복 알고리즘 (Divide and Conquer)\n",
    "  - Divide: 문제를 하나 또는 둘 이상으로 나눈다.\n",
    "  - Conquer: 나눠진 문제가 충분히 작고, 해결이 가능하다면 해결하고, 그렇지 않다면 다시 나눈다.\n",
    "- 이진 탐색\n",
    "  - Divide: 리스트를 두 개의 서브 리스트로 나눈다.\n",
    "  - Comquer\n",
    "    - 검색할 숫자 (search) > 중간값 이면, 뒷 부분의 서브 리스트에서 검색할 숫자를 찾는다.\n",
    "    - 검색할 숫자 (search) < 중간값 이면, 앞 부분의 서브 리스트에서 검색할 숫자를 찾는다.  "
   ]
  },
  {
   "cell_type": "markdown",
   "id": "b77d226a",
   "metadata": {
    "ExecuteTime": {
     "end_time": "2022-06-07T04:38:50.568562Z",
     "start_time": "2022-06-07T04:38:50.554664Z"
    }
   },
   "source": [
    "### 3. 어떻게 코드로 만들까?\n",
    "* 이진 탐색은 데이터가 정렬되있는 상태에서 진행\n",
    "* 데이터가 [2, 3, 8, 12, 20] 일 때,\n",
    "  - binary_search(data_list, find_data) 함수를 만들고\n",
    "    - find_data는 찾는 숫자\n",
    "    - data_list는 데이터 리스트\n",
    "    - data_list의 중간값을 find_data와 비교해서\n",
    "      - find_data < data_list의 중간값 이라면\n",
    "        - 맨 앞부터 data_list의 중간까지 에서 다시 find_data 찾기\n",
    "      - data_list의 중간값 < find_data 이라면\n",
    "        - data_list의 중간부터 맨 끝까지에서 다시 find_data 찾기\n",
    "      - 그렇지 않다면, data_list의 중간값은 find_data 인 경우로, return data_list 중간위치ㅡ"
   ]
  },
  {
   "cell_type": "code",
   "execution_count": 2,
   "id": "eef0750f",
   "metadata": {
    "ExecuteTime": {
     "end_time": "2022-06-07T04:44:33.246617Z",
     "start_time": "2022-06-07T04:44:33.236487Z"
    }
   },
   "outputs": [],
   "source": [
    "def binary_search(data, search):\n",
    "    print (data)\n",
    "    if len(data) == 1 and search == data[0]:\n",
    "        return True \n",
    "    if len(data) == 1 and search != data[0]:\n",
    "        return False\n",
    "    if len(data) == 0:\n",
    "        return False\n",
    "    \n",
    "    medium=len(data)//2\n",
    "    if search==data[medium]:\n",
    "        return True\n",
    "    else:\n",
    "        if search>data[medium]:\n",
    "            return binary_search(data[medium:],search)\n",
    "        else:\n",
    "            return binary_search(data[:medium],search)"
   ]
  },
  {
   "cell_type": "code",
   "execution_count": 3,
   "id": "ac70dccc",
   "metadata": {
    "ExecuteTime": {
     "end_time": "2022-06-07T04:44:36.546913Z",
     "start_time": "2022-06-07T04:44:36.542042Z"
    }
   },
   "outputs": [],
   "source": [
    "import random"
   ]
  },
  {
   "cell_type": "code",
   "execution_count": 4,
   "id": "59c4d765",
   "metadata": {
    "ExecuteTime": {
     "end_time": "2022-06-07T04:44:45.696973Z",
     "start_time": "2022-06-07T04:44:45.686892Z"
    }
   },
   "outputs": [],
   "source": [
    "data_list=random.sample(range(100),10)"
   ]
  },
  {
   "cell_type": "code",
   "execution_count": 5,
   "id": "5aab4df8",
   "metadata": {
    "ExecuteTime": {
     "end_time": "2022-06-07T04:44:47.515203Z",
     "start_time": "2022-06-07T04:44:47.502230Z"
    }
   },
   "outputs": [
    {
     "data": {
      "text/plain": [
       "[59, 76, 44, 33, 7, 48, 50, 83, 34, 19]"
      ]
     },
     "execution_count": 5,
     "metadata": {},
     "output_type": "execute_result"
    }
   ],
   "source": [
    "data_list"
   ]
  },
  {
   "cell_type": "code",
   "execution_count": 6,
   "id": "bf24a2b2",
   "metadata": {
    "ExecuteTime": {
     "end_time": "2022-06-07T04:46:23.086171Z",
     "start_time": "2022-06-07T04:46:23.078949Z"
    }
   },
   "outputs": [],
   "source": [
    "data_list.sort()"
   ]
  },
  {
   "cell_type": "code",
   "execution_count": 7,
   "id": "294db353",
   "metadata": {
    "ExecuteTime": {
     "end_time": "2022-06-07T04:46:38.141339Z",
     "start_time": "2022-06-07T04:46:38.116887Z"
    }
   },
   "outputs": [
    {
     "data": {
      "text/plain": [
       "[7, 19, 33, 34, 44, 48, 50, 59, 76, 83]"
      ]
     },
     "execution_count": 7,
     "metadata": {},
     "output_type": "execute_result"
    }
   ],
   "source": [
    "data_list"
   ]
  },
  {
   "cell_type": "code",
   "execution_count": 8,
   "id": "266c2149",
   "metadata": {
    "ExecuteTime": {
     "end_time": "2022-06-07T04:51:00.603992Z",
     "start_time": "2022-06-07T04:51:00.590352Z"
    }
   },
   "outputs": [
    {
     "name": "stdout",
     "output_type": "stream",
     "text": [
      "2022-06-07 13:51:00.590352\n"
     ]
    }
   ],
   "source": [
    "import datetime\n",
    "print (datetime.datetime.now())"
   ]
  },
  {
   "cell_type": "code",
   "execution_count": 9,
   "id": "af145689",
   "metadata": {
    "ExecuteTime": {
     "end_time": "2022-06-07T04:51:03.084789Z",
     "start_time": "2022-06-07T04:51:03.071309Z"
    }
   },
   "outputs": [
    {
     "name": "stdout",
     "output_type": "stream",
     "text": [
      "2022-06-07 13:51:03.072536\n"
     ]
    }
   ],
   "source": [
    "import datetime\n",
    "print (datetime.datetime.now())"
   ]
  },
  {
   "cell_type": "code",
   "execution_count": 10,
   "id": "1124824a",
   "metadata": {
    "ExecuteTime": {
     "end_time": "2022-06-07T04:51:04.501830Z",
     "start_time": "2022-06-07T04:51:04.493818Z"
    }
   },
   "outputs": [
    {
     "name": "stdout",
     "output_type": "stream",
     "text": [
      "2022-06-07 13:51:04.493818\n"
     ]
    }
   ],
   "source": [
    "import datetime\n",
    "print (datetime.datetime.now())"
   ]
  },
  {
   "cell_type": "markdown",
   "id": "f0c2d953",
   "metadata": {},
   "source": [
    "### 순차탐색"
   ]
  },
  {
   "cell_type": "code",
   "execution_count": 20,
   "id": "8a0edc66",
   "metadata": {
    "ExecuteTime": {
     "end_time": "2022-06-07T05:00:10.518921Z",
     "start_time": "2022-06-07T05:00:10.509915Z"
    }
   },
   "outputs": [],
   "source": [
    "from random import *\n",
    "\n",
    "rand_data_list = list()\n",
    "for num in range(10):\n",
    "    rand_data_list.append(randint(1, 100))"
   ]
  },
  {
   "cell_type": "code",
   "execution_count": 21,
   "id": "9d8ffbd7",
   "metadata": {
    "ExecuteTime": {
     "end_time": "2022-06-07T05:00:10.702902Z",
     "start_time": "2022-06-07T05:00:10.690930Z"
    }
   },
   "outputs": [
    {
     "data": {
      "text/plain": [
       "[14, 77, 3, 38, 93, 8, 85, 44, 47, 80]"
      ]
     },
     "execution_count": 21,
     "metadata": {},
     "output_type": "execute_result"
    }
   ],
   "source": [
    "rand_data_list"
   ]
  },
  {
   "cell_type": "code",
   "execution_count": 26,
   "id": "fa86c02a",
   "metadata": {
    "ExecuteTime": {
     "end_time": "2022-06-07T05:00:21.567126Z",
     "start_time": "2022-06-07T05:00:21.551020Z"
    }
   },
   "outputs": [],
   "source": [
    "\n",
    "def sequencial(data_list, search_data):\n",
    "    for index in range(len(data_list)):\n",
    "        if data_list[index] == search_data:\n",
    "            return index\n",
    "    return -1"
   ]
  },
  {
   "cell_type": "code",
   "execution_count": 27,
   "id": "b3eaef40",
   "metadata": {
    "ExecuteTime": {
     "end_time": "2022-06-07T05:00:21.749541Z",
     "start_time": "2022-06-07T05:00:21.732200Z"
    }
   },
   "outputs": [
    {
     "data": {
      "text/plain": [
       "7"
      ]
     },
     "execution_count": 27,
     "metadata": {},
     "output_type": "execute_result"
    }
   ],
   "source": [
    "sequencial(rand_data_list, 44)"
   ]
  },
  {
   "cell_type": "markdown",
   "id": "7f7ee952",
   "metadata": {},
   "source": [
    "### 이진탐색 알고리즘 - 실전 코딩테스트"
   ]
  },
  {
   "cell_type": "code",
   "execution_count": 52,
   "id": "d072d0eb",
   "metadata": {
    "ExecuteTime": {
     "end_time": "2022-06-07T05:36:23.848278Z",
     "start_time": "2022-06-07T05:36:23.834214Z"
    }
   },
   "outputs": [],
   "source": [
    "N=5\n",
    "N_list=[4,1,5,2,3]\n",
    "M=5\n",
    "M_list=[1,3,7,9,5]"
   ]
  },
  {
   "cell_type": "code",
   "execution_count": 35,
   "id": "4735e678",
   "metadata": {
    "ExecuteTime": {
     "end_time": "2022-06-07T05:31:43.265769Z",
     "start_time": "2022-06-07T05:31:43.257682Z"
    }
   },
   "outputs": [
    {
     "name": "stdout",
     "output_type": "stream",
     "text": [
      "1\n",
      "1\n",
      "0\n",
      "0\n",
      "1\n"
     ]
    }
   ],
   "source": [
    "for item in range(len(M_list)):\n",
    "    if M_list[item] in N_list:\n",
    "        print(1)\n",
    "    else:\n",
    "        print(0)"
   ]
  },
  {
   "cell_type": "code",
   "execution_count": null,
   "id": "7b04cea6",
   "metadata": {},
   "outputs": [],
   "source": [
    "N=int(input())\n",
    "N_list = list(map(int, input().split()))\n",
    "M = int(input())\n",
    "M_list = list(map(int, input().split()))"
   ]
  },
  {
   "cell_type": "code",
   "execution_count": 68,
   "id": "114953c3",
   "metadata": {
    "ExecuteTime": {
     "end_time": "2022-06-07T05:46:38.596020Z",
     "start_time": "2022-06-07T05:46:38.587424Z"
    }
   },
   "outputs": [
    {
     "name": "stdout",
     "output_type": "stream",
     "text": [
      "1\n",
      "1\n",
      "0\n",
      "0\n",
      "1\n"
     ]
    }
   ],
   "source": [
    "for item in M_list:\n",
    "    if item in N_list:\n",
    "        print(1)\n",
    "    else:\n",
    "        print(0)"
   ]
  },
  {
   "cell_type": "code",
   "execution_count": null,
   "id": "4b598576",
   "metadata": {},
   "outputs": [],
   "source": []
  },
  {
   "cell_type": "code",
   "execution_count": 71,
   "id": "72678ba5",
   "metadata": {
    "ExecuteTime": {
     "end_time": "2022-06-07T06:02:07.812028Z",
     "start_time": "2022-06-07T06:02:07.799967Z"
    }
   },
   "outputs": [
    {
     "name": "stdout",
     "output_type": "stream",
     "text": [
      "1\n",
      "1\n",
      "0\n",
      "0\n",
      "1\n"
     ]
    }
   ],
   "source": [
    "N_list.sort()\n",
    "\n",
    "def binary_search(value,start,end):\n",
    "    if start>end:\n",
    "        return False\n",
    "    median=(start+end)//2\n",
    "    if N_list[median]>value:\n",
    "        return binary_search(value,start,median-1)\n",
    "    elif N_list[median]<value:\n",
    "        return binary_search(value,median+1,end)\n",
    "    else:\n",
    "        return True\n",
    "    \n",
    "for item in M_list:\n",
    "    if binary_search(item,0,N-1):\n",
    "        print(1)\n",
    "        \n",
    "    else:\n",
    "        print(0)\n",
    "        "
   ]
  },
  {
   "cell_type": "code",
   "execution_count": null,
   "id": "5a6f4545",
   "metadata": {},
   "outputs": [],
   "source": []
  },
  {
   "cell_type": "code",
   "execution_count": null,
   "id": "740f69fb",
   "metadata": {},
   "outputs": [],
   "source": [
    "N_list.sort()\n",
    "def binary_search(data, search):\n",
    "    if len(data) == 0:\n",
    "        return 0\n",
    "    elif len(data) == 1:\n",
    "        if data[0] == search:\n",
    "            return 1\n",
    "        else:\n",
    "            return 0"
   ]
  }
 ],
 "metadata": {
  "kernelspec": {
   "display_name": "Python 3",
   "language": "python",
   "name": "python3"
  },
  "language_info": {
   "codemirror_mode": {
    "name": "ipython",
    "version": 3
   },
   "file_extension": ".py",
   "mimetype": "text/x-python",
   "name": "python",
   "nbconvert_exporter": "python",
   "pygments_lexer": "ipython3",
   "version": "3.8.8"
  },
  "nbTranslate": {
   "displayLangs": [
    "*"
   ],
   "hotkey": "alt-t",
   "langInMainMenu": true,
   "sourceLang": "en",
   "targetLang": "fr",
   "useGoogleTranslate": true
  },
  "toc": {
   "base_numbering": 1,
   "nav_menu": {},
   "number_sections": true,
   "sideBar": true,
   "skip_h1_title": false,
   "title_cell": "Table of Contents",
   "title_sidebar": "Contents",
   "toc_cell": false,
   "toc_position": {},
   "toc_section_display": true,
   "toc_window_display": false
  },
  "varInspector": {
   "cols": {
    "lenName": 16,
    "lenType": 16,
    "lenVar": 40
   },
   "kernels_config": {
    "python": {
     "delete_cmd_postfix": "",
     "delete_cmd_prefix": "del ",
     "library": "var_list.py",
     "varRefreshCmd": "print(var_dic_list())"
    },
    "r": {
     "delete_cmd_postfix": ") ",
     "delete_cmd_prefix": "rm(",
     "library": "var_list.r",
     "varRefreshCmd": "cat(var_dic_list()) "
    }
   },
   "types_to_exclude": [
    "module",
    "function",
    "builtin_function_or_method",
    "instance",
    "_Feature"
   ],
   "window_display": false
  }
 },
 "nbformat": 4,
 "nbformat_minor": 5
}
