{
 "cells": [
  {
   "cell_type": "markdown",
   "id": "658c9d26",
   "metadata": {},
   "source": [
    "### 1. 탐욕 알고리즘 이란?\n",
    "- Greedy algorithm 또는 탐욕 알고리즘 이라고 불리움\n",
    "- 최적의 해에 가까운 값을 구하기 위해 사용됨\n",
    "- 여러 경우 중 하나를 결정해야할 때마다, **매순간 최적이라고 생각되는 경우를 선택**하는 방식으로 진행해서, 최종적인 값을 구하는 방식"
   ]
  },
  {
   "cell_type": "markdown",
   "id": "78d7c6b4",
   "metadata": {},
   "source": [
    "### 2. 탐욕 알고리즘 예\n",
    "### 문제1: 동전 문제\n",
    "  - 지불해야 하는 값이 4720원 일 때 1원 50원 100원, 500원 동전으로 동전의 수가 가장 적게 지불하시오.\n",
    "    - 가장 큰 동전부터 최대한 지불해야 하는 값을 채우는 방식으로 구현 가능\n",
    "    - 탐욕 알고리즘으로 매순간 최적이라고 생각되는 경우를 선택하면 됨"
   ]
  },
  {
   "cell_type": "code",
   "execution_count": 55,
   "id": "d30ded4e",
   "metadata": {
    "ExecuteTime": {
     "end_time": "2022-07-09T14:14:14.678758Z",
     "start_time": "2022-07-09T14:14:14.663611Z"
    }
   },
   "outputs": [],
   "source": [
    "coin_list=[500,100,50,1]"
   ]
  },
  {
   "cell_type": "code",
   "execution_count": 56,
   "id": "a90cbdc2",
   "metadata": {
    "ExecuteTime": {
     "end_time": "2022-07-09T14:14:14.922195Z",
     "start_time": "2022-07-09T14:14:14.903184Z"
    }
   },
   "outputs": [],
   "source": [
    "tmp = 4720\n",
    "result = 0\n",
    "coin_list = [500,100,50,1]\n",
    "for i in range(len(coin_list)):\n",
    "    result = result + (tmp//coin_list[i])\n",
    "    tmp = tmp - (tmp//coin_list[i])*coin_list[i]\n",
    "\n"
   ]
  },
  {
   "cell_type": "code",
   "execution_count": 76,
   "id": "c09036a5",
   "metadata": {
    "ExecuteTime": {
     "end_time": "2022-07-09T14:23:35.605494Z",
     "start_time": "2022-07-09T14:23:35.589625Z"
    }
   },
   "outputs": [],
   "source": [
    "def greedy(tmp,coin_list):\n",
    "\n",
    "    result = 0\n",
    "    \n",
    "    coin_list.sort(reverse=True)\n",
    "    \n",
    "    for i in range(len(coin_list)):\n",
    "        result += (tmp//coin_list[i])\n",
    "        tmp -= (tmp//coin_list[i])*coin_list[i]\n",
    "        \n",
    "    return result"
   ]
  },
  {
   "cell_type": "code",
   "execution_count": 77,
   "id": "523f90be",
   "metadata": {
    "ExecuteTime": {
     "end_time": "2022-07-09T14:23:35.908961Z",
     "start_time": "2022-07-09T14:23:35.893910Z"
    }
   },
   "outputs": [
    {
     "data": {
      "text/plain": [
       "31"
      ]
     },
     "execution_count": 77,
     "metadata": {},
     "output_type": "execute_result"
    }
   ],
   "source": [
    "greedy(4720,[500,100,50,1]) "
   ]
  },
  {
   "cell_type": "code",
   "execution_count": 79,
   "id": "21bac18d",
   "metadata": {
    "ExecuteTime": {
     "end_time": "2022-07-09T14:24:44.011350Z",
     "start_time": "2022-07-09T14:24:43.998418Z"
    }
   },
   "outputs": [
    {
     "ename": "NameError",
     "evalue": "name 'value' is not defined",
     "output_type": "error",
     "traceback": [
      "\u001b[1;31m---------------------------------------------------------------------------\u001b[0m",
      "\u001b[1;31mNameError\u001b[0m                                 Traceback (most recent call last)",
      "\u001b[1;32m<ipython-input-79-04b922b013f2>\u001b[0m in \u001b[0;36m<module>\u001b[1;34m\u001b[0m\n\u001b[0;32m      1\u001b[0m \u001b[1;32mfor\u001b[0m \u001b[0mcoin\u001b[0m \u001b[1;32min\u001b[0m \u001b[0mcoin_list\u001b[0m\u001b[1;33m:\u001b[0m\u001b[1;33m\u001b[0m\u001b[1;33m\u001b[0m\u001b[0m\n\u001b[1;32m----> 2\u001b[1;33m     \u001b[0mcoin_num\u001b[0m\u001b[1;33m=\u001b[0m\u001b[0mvalue\u001b[0m\u001b[1;33m//\u001b[0m\u001b[0mcoin\u001b[0m\u001b[1;33m\u001b[0m\u001b[1;33m\u001b[0m\u001b[0m\n\u001b[0m",
      "\u001b[1;31mNameError\u001b[0m: name 'value' is not defined"
     ]
    }
   ],
   "source": [
    "for coin in coin_list:\n",
    "    coin_num=value//coin"
   ]
  },
  {
   "cell_type": "code",
   "execution_count": null,
   "id": "31d75794",
   "metadata": {},
   "outputs": [],
   "source": []
  },
  {
   "cell_type": "code",
   "execution_count": null,
   "id": "532d394d",
   "metadata": {},
   "outputs": [],
   "source": []
  },
  {
   "cell_type": "code",
   "execution_count": 68,
   "id": "3bdc38b5",
   "metadata": {
    "ExecuteTime": {
     "end_time": "2022-07-09T14:22:24.517689Z",
     "start_time": "2022-07-09T14:22:24.509638Z"
    }
   },
   "outputs": [],
   "source": [
    "coin_list.sort(reverse=True)"
   ]
  },
  {
   "cell_type": "code",
   "execution_count": 69,
   "id": "62488ec6",
   "metadata": {
    "ExecuteTime": {
     "end_time": "2022-07-09T14:22:25.205847Z",
     "start_time": "2022-07-09T14:22:25.187964Z"
    }
   },
   "outputs": [
    {
     "data": {
      "text/plain": [
       "[500, 100, 50, 1]"
      ]
     },
     "execution_count": 69,
     "metadata": {},
     "output_type": "execute_result"
    }
   ],
   "source": [
    "coin_list"
   ]
  },
  {
   "cell_type": "code",
   "execution_count": 29,
   "id": "ec76a32b",
   "metadata": {
    "ExecuteTime": {
     "end_time": "2022-07-09T14:04:07.983241Z",
     "start_time": "2022-07-09T14:04:07.968334Z"
    }
   },
   "outputs": [
    {
     "data": {
      "text/plain": [
       "9"
      ]
     },
     "execution_count": 29,
     "metadata": {},
     "output_type": "execute_result"
    }
   ],
   "source": [
    "(4720//500)+(220//100)+(20//50)+(20//1)"
   ]
  },
  {
   "cell_type": "code",
   "execution_count": 52,
   "id": "79820fe0",
   "metadata": {
    "ExecuteTime": {
     "end_time": "2022-07-09T14:11:12.738278Z",
     "start_time": "2022-07-09T14:11:12.720083Z"
    }
   },
   "outputs": [
    {
     "data": {
      "text/plain": [
       "9"
      ]
     },
     "execution_count": 52,
     "metadata": {},
     "output_type": "execute_result"
    }
   ],
   "source": [
    "4720//500"
   ]
  },
  {
   "cell_type": "code",
   "execution_count": 22,
   "id": "6686417f",
   "metadata": {
    "ExecuteTime": {
     "end_time": "2022-07-09T14:01:48.365800Z",
     "start_time": "2022-07-09T14:01:48.351890Z"
    }
   },
   "outputs": [
    {
     "data": {
      "text/plain": [
       "2"
      ]
     },
     "execution_count": 22,
     "metadata": {},
     "output_type": "execute_result"
    }
   ],
   "source": [
    "220//100"
   ]
  },
  {
   "cell_type": "code",
   "execution_count": 31,
   "id": "cbe3f99c",
   "metadata": {
    "ExecuteTime": {
     "end_time": "2022-07-09T14:05:21.750205Z",
     "start_time": "2022-07-09T14:05:21.736798Z"
    }
   },
   "outputs": [],
   "source": [
    "tmp=4720-(4720//coin_list[0])*coin_list[0]"
   ]
  },
  {
   "cell_type": "code",
   "execution_count": 32,
   "id": "7743a659",
   "metadata": {
    "ExecuteTime": {
     "end_time": "2022-07-09T14:05:23.134144Z",
     "start_time": "2022-07-09T14:05:23.128172Z"
    }
   },
   "outputs": [
    {
     "data": {
      "text/plain": [
       "220"
      ]
     },
     "execution_count": 32,
     "metadata": {},
     "output_type": "execute_result"
    }
   ],
   "source": [
    "tmp"
   ]
  },
  {
   "cell_type": "code",
   "execution_count": 46,
   "id": "2ed9d794",
   "metadata": {
    "ExecuteTime": {
     "end_time": "2022-07-09T14:07:03.627116Z",
     "start_time": "2022-07-09T14:07:03.616806Z"
    }
   },
   "outputs": [],
   "source": [
    "tmp=4720"
   ]
  },
  {
   "cell_type": "code",
   "execution_count": 49,
   "id": "dcbc408b",
   "metadata": {
    "ExecuteTime": {
     "end_time": "2022-07-09T14:07:13.724827Z",
     "start_time": "2022-07-09T14:07:13.713459Z"
    }
   },
   "outputs": [],
   "source": [
    "tmp=tmp-(tmp//coin_list[i])*coin_list[i]"
   ]
  },
  {
   "cell_type": "code",
   "execution_count": 50,
   "id": "9e719411",
   "metadata": {
    "ExecuteTime": {
     "end_time": "2022-07-09T14:07:13.985501Z",
     "start_time": "2022-07-09T14:07:13.968642Z"
    }
   },
   "outputs": [
    {
     "data": {
      "text/plain": [
       "0"
      ]
     },
     "execution_count": 50,
     "metadata": {},
     "output_type": "execute_result"
    }
   ],
   "source": [
    "tmp"
   ]
  },
  {
   "cell_type": "code",
   "execution_count": 80,
   "id": "6c47e7be",
   "metadata": {
    "ExecuteTime": {
     "end_time": "2022-07-09T14:29:45.927914Z",
     "start_time": "2022-07-09T14:29:45.910126Z"
    }
   },
   "outputs": [],
   "source": [
    "data_list = [(10, 10), (15, 12), (20, 10), (25, 8), (30, 5)]"
   ]
  },
  {
   "cell_type": "code",
   "execution_count": 81,
   "id": "fd497a2f",
   "metadata": {
    "ExecuteTime": {
     "end_time": "2022-07-09T14:29:47.714010Z",
     "start_time": "2022-07-09T14:29:47.700756Z"
    }
   },
   "outputs": [
    {
     "data": {
      "text/plain": [
       "[(10, 10), (15, 12), (20, 10), (25, 8), (30, 5)]"
      ]
     },
     "execution_count": 81,
     "metadata": {},
     "output_type": "execute_result"
    }
   ],
   "source": [
    "data_list"
   ]
  },
  {
   "cell_type": "code",
   "execution_count": 86,
   "id": "ffe09cb4",
   "metadata": {
    "ExecuteTime": {
     "end_time": "2022-07-09T14:31:34.390277Z",
     "start_time": "2022-07-09T14:31:34.373377Z"
    }
   },
   "outputs": [],
   "source": [
    "data_list = sorted(data_list, key=lambda x: x[1] / x[0], reverse=True)"
   ]
  },
  {
   "cell_type": "code",
   "execution_count": 87,
   "id": "398762de",
   "metadata": {
    "ExecuteTime": {
     "end_time": "2022-07-09T14:31:36.282629Z",
     "start_time": "2022-07-09T14:31:36.268967Z"
    }
   },
   "outputs": [
    {
     "data": {
      "text/plain": [
       "[(10, 10), (15, 12), (20, 10), (25, 8), (30, 5)]"
      ]
     },
     "execution_count": 87,
     "metadata": {},
     "output_type": "execute_result"
    }
   ],
   "source": [
    "data_list"
   ]
  },
  {
   "cell_type": "code",
   "execution_count": null,
   "id": "4e8d1ad5",
   "metadata": {},
   "outputs": [],
   "source": [
    "long"
   ]
  },
  {
   "cell_type": "code",
   "execution_count": null,
   "id": "8ffff7c8",
   "metadata": {},
   "outputs": [],
   "source": []
  },
  {
   "cell_type": "code",
   "execution_count": null,
   "id": "0a3b5b02",
   "metadata": {},
   "outputs": [],
   "source": []
  },
  {
   "cell_type": "code",
   "execution_count": null,
   "id": "b51eabe2",
   "metadata": {},
   "outputs": [],
   "source": []
  }
 ],
 "metadata": {
  "kernelspec": {
   "display_name": "Python 3",
   "language": "python",
   "name": "python3"
  },
  "language_info": {
   "codemirror_mode": {
    "name": "ipython",
    "version": 3
   },
   "file_extension": ".py",
   "mimetype": "text/x-python",
   "name": "python",
   "nbconvert_exporter": "python",
   "pygments_lexer": "ipython3",
   "version": "3.8.8"
  },
  "nbTranslate": {
   "displayLangs": [
    "*"
   ],
   "hotkey": "alt-t",
   "langInMainMenu": true,
   "sourceLang": "en",
   "targetLang": "fr",
   "useGoogleTranslate": true
  },
  "toc": {
   "base_numbering": 1,
   "nav_menu": {},
   "number_sections": true,
   "sideBar": true,
   "skip_h1_title": false,
   "title_cell": "Table of Contents",
   "title_sidebar": "Contents",
   "toc_cell": false,
   "toc_position": {},
   "toc_section_display": true,
   "toc_window_display": false
  },
  "varInspector": {
   "cols": {
    "lenName": 16,
    "lenType": 16,
    "lenVar": 40
   },
   "kernels_config": {
    "python": {
     "delete_cmd_postfix": "",
     "delete_cmd_prefix": "del ",
     "library": "var_list.py",
     "varRefreshCmd": "print(var_dic_list())"
    },
    "r": {
     "delete_cmd_postfix": ") ",
     "delete_cmd_prefix": "rm(",
     "library": "var_list.r",
     "varRefreshCmd": "cat(var_dic_list()) "
    }
   },
   "types_to_exclude": [
    "module",
    "function",
    "builtin_function_or_method",
    "instance",
    "_Feature"
   ],
   "window_display": false
  }
 },
 "nbformat": 4,
 "nbformat_minor": 5
}
