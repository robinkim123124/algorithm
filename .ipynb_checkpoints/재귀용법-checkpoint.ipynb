{
 "cells": [
  {
   "cell_type": "code",
   "execution_count": 1,
   "id": "27e25a0e",
   "metadata": {
    "ExecuteTime": {
     "end_time": "2022-05-15T07:11:07.428263Z",
     "start_time": "2022-05-15T07:11:07.424267Z"
    }
   },
   "outputs": [],
   "source": [
    "def factorial(num):\n",
    "    if num>1:\n",
    "        return num * factorial(num-1)\n",
    "    else:\n",
    "        return num"
   ]
  },
  {
   "cell_type": "code",
   "execution_count": 3,
   "id": "8d013d57",
   "metadata": {
    "ExecuteTime": {
     "end_time": "2022-05-15T07:11:27.841074Z",
     "start_time": "2022-05-15T07:11:27.819929Z"
    }
   },
   "outputs": [
    {
     "data": {
      "text/plain": [
       "6"
      ]
     },
     "execution_count": 3,
     "metadata": {},
     "output_type": "execute_result"
    }
   ],
   "source": [
    "factorial(3)"
   ]
  },
  {
   "cell_type": "code",
   "execution_count": 4,
   "id": "ed7ed16a",
   "metadata": {
    "ExecuteTime": {
     "end_time": "2022-05-15T07:21:48.474961Z",
     "start_time": "2022-05-15T07:21:48.469833Z"
    }
   },
   "outputs": [
    {
     "name": "stdout",
     "output_type": "stream",
     "text": [
      "0\n",
      "1\n",
      "2\n",
      "6\n",
      "24\n",
      "120\n",
      "720\n",
      "5040\n",
      "40320\n",
      "362880\n"
     ]
    }
   ],
   "source": [
    "for num in range(10):\n",
    "    print(factorial(num))\n",
    "\n"
   ]
  },
  {
   "cell_type": "code",
   "execution_count": 5,
   "id": "e04aa6d0",
   "metadata": {
    "ExecuteTime": {
     "end_time": "2022-05-15T07:29:59.503226Z",
     "start_time": "2022-05-15T07:29:59.494162Z"
    }
   },
   "outputs": [],
   "source": [
    "def function(num):\n",
    "    if num<=1:\n",
    "        return num\n",
    "    return_value=num*factorial(num-1)\n",
    "    return return_value"
   ]
  },
  {
   "cell_type": "code",
   "execution_count": 6,
   "id": "613ac529",
   "metadata": {
    "ExecuteTime": {
     "end_time": "2022-05-15T07:30:02.939958Z",
     "start_time": "2022-05-15T07:30:02.929825Z"
    }
   },
   "outputs": [
    {
     "data": {
      "text/plain": [
       "6"
      ]
     },
     "execution_count": 6,
     "metadata": {},
     "output_type": "execute_result"
    }
   ],
   "source": [
    "function(3)"
   ]
  },
  {
   "cell_type": "markdown",
   "id": "45f75bf4",
   "metadata": {},
   "source": [
    "## 연습1"
   ]
  },
  {
   "cell_type": "code",
   "execution_count": 13,
   "id": "18ac3fee",
   "metadata": {
    "ExecuteTime": {
     "end_time": "2022-05-15T07:34:13.011819Z",
     "start_time": "2022-05-15T07:34:13.002822Z"
    }
   },
   "outputs": [],
   "source": [
    "def multiple(num):\n",
    "    return_value=1\n",
    "    for index in range(1,num+1):\n",
    "        return_value = return_value * index\n",
    "    return return_value"
   ]
  },
  {
   "cell_type": "code",
   "execution_count": 14,
   "id": "999e4795",
   "metadata": {
    "ExecuteTime": {
     "end_time": "2022-05-15T07:34:13.499880Z",
     "start_time": "2022-05-15T07:34:13.482095Z"
    }
   },
   "outputs": [
    {
     "data": {
      "text/plain": [
       "2"
      ]
     },
     "execution_count": 14,
     "metadata": {},
     "output_type": "execute_result"
    }
   ],
   "source": [
    "multiple(2)"
   ]
  },
  {
   "cell_type": "code",
   "execution_count": 23,
   "id": "2d9a4421",
   "metadata": {
    "ExecuteTime": {
     "end_time": "2022-05-15T07:36:43.260606Z",
     "start_time": "2022-05-15T07:36:43.250508Z"
    }
   },
   "outputs": [],
   "source": [
    "def multiple(num):\n",
    "    if num<=1:\n",
    "        return num\n",
    "    else:\n",
    "        return num*multiple(num-1)"
   ]
  },
  {
   "cell_type": "code",
   "execution_count": 26,
   "id": "0a07b2be",
   "metadata": {
    "ExecuteTime": {
     "end_time": "2022-05-15T07:37:27.650460Z",
     "start_time": "2022-05-15T07:37:27.627264Z"
    }
   },
   "outputs": [
    {
     "data": {
      "text/plain": [
       "3628800"
      ]
     },
     "execution_count": 26,
     "metadata": {},
     "output_type": "execute_result"
    }
   ],
   "source": [
    "multiple(10)"
   ]
  },
  {
   "cell_type": "markdown",
   "id": "e4e2ab5d",
   "metadata": {
    "ExecuteTime": {
     "end_time": "2022-05-15T07:38:44.366788Z",
     "start_time": "2022-05-15T07:38:44.354932Z"
    }
   },
   "source": [
    "### 연습2"
   ]
  },
  {
   "cell_type": "code",
   "execution_count": 31,
   "id": "f1f2feb2",
   "metadata": {
    "ExecuteTime": {
     "end_time": "2022-05-15T07:40:56.341325Z",
     "start_time": "2022-05-15T07:40:56.336251Z"
    }
   },
   "outputs": [],
   "source": [
    "import random"
   ]
  },
  {
   "cell_type": "code",
   "execution_count": 32,
   "id": "28a9a275",
   "metadata": {
    "ExecuteTime": {
     "end_time": "2022-05-15T07:40:56.924595Z",
     "start_time": "2022-05-15T07:40:56.914432Z"
    }
   },
   "outputs": [],
   "source": [
    "data=random.sample(range(100),5)"
   ]
  },
  {
   "cell_type": "code",
   "execution_count": 33,
   "id": "647a9654",
   "metadata": {
    "ExecuteTime": {
     "end_time": "2022-05-15T07:40:59.131253Z",
     "start_time": "2022-05-15T07:40:59.122254Z"
    }
   },
   "outputs": [
    {
     "data": {
      "text/plain": [
       "[13, 37, 54, 60, 17]"
      ]
     },
     "execution_count": 33,
     "metadata": {},
     "output_type": "execute_result"
    }
   ],
   "source": [
    "data"
   ]
  },
  {
   "cell_type": "code",
   "execution_count": 37,
   "id": "35b0942a",
   "metadata": {
    "ExecuteTime": {
     "end_time": "2022-05-15T07:41:58.884466Z",
     "start_time": "2022-05-15T07:41:58.874474Z"
    }
   },
   "outputs": [],
   "source": [
    "def sum_list(data):\n",
    "    tmp=0\n",
    "    for i in range(len(data)):\n",
    "        tmp+=data[i]\n",
    "    return tmp\n",
    "    "
   ]
  },
  {
   "cell_type": "code",
   "execution_count": 38,
   "id": "07bcbd7f",
   "metadata": {
    "ExecuteTime": {
     "end_time": "2022-05-15T07:41:59.223714Z",
     "start_time": "2022-05-15T07:41:59.218715Z"
    }
   },
   "outputs": [
    {
     "data": {
      "text/plain": [
       "181"
      ]
     },
     "execution_count": 38,
     "metadata": {},
     "output_type": "execute_result"
    }
   ],
   "source": [
    "sum_list(data)"
   ]
  },
  {
   "cell_type": "code",
   "execution_count": 39,
   "id": "5a4af93a",
   "metadata": {
    "ExecuteTime": {
     "end_time": "2022-05-15T07:42:04.041245Z",
     "start_time": "2022-05-15T07:42:04.023668Z"
    }
   },
   "outputs": [
    {
     "data": {
      "text/plain": [
       "181"
      ]
     },
     "execution_count": 39,
     "metadata": {},
     "output_type": "execute_result"
    }
   ],
   "source": [
    "sum(data)"
   ]
  },
  {
   "cell_type": "code",
   "execution_count": 7,
   "id": "69298c4a",
   "metadata": {
    "ExecuteTime": {
     "end_time": "2022-05-22T05:22:12.747770Z",
     "start_time": "2022-05-22T05:22:12.739899Z"
    }
   },
   "outputs": [],
   "source": [
    "def palindrom(string):\n",
    "    if len(string)<=1:\n",
    "        return True\n",
    "    if string[0]==string[-1]:\n",
    "        return palindrom(string[1:-1])\n",
    "    else:\n",
    "        return False\n",
    "#     if string[1:-1]==string[-1:1]:\n",
    "#         return True\n",
    "#     else:\n",
    "#         return False"
   ]
  },
  {
   "cell_type": "code",
   "execution_count": 9,
   "id": "5179d8f6",
   "metadata": {
    "ExecuteTime": {
     "end_time": "2022-05-22T05:22:34.721691Z",
     "start_time": "2022-05-22T05:22:34.716547Z"
    }
   },
   "outputs": [
    {
     "data": {
      "text/plain": [
       "True"
      ]
     },
     "execution_count": 9,
     "metadata": {},
     "output_type": "execute_result"
    }
   ],
   "source": [
    "palindrom('level')"
   ]
  },
  {
   "cell_type": "code",
   "execution_count": 49,
   "id": "03c3a081",
   "metadata": {
    "ExecuteTime": {
     "end_time": "2022-05-22T05:41:58.482995Z",
     "start_time": "2022-05-22T05:41:58.474420Z"
    }
   },
   "outputs": [],
   "source": [
    "def func(n):\n",
    "    print(n)\n",
    "    if n==1:\n",
    "        return n\n",
    "    if n%2==1:\n",
    "        return func(3*n+1)\n",
    "    else:\n",
    "        return func(n//2)"
   ]
  },
  {
   "cell_type": "code",
   "execution_count": 50,
   "id": "a17b30af",
   "metadata": {
    "ExecuteTime": {
     "end_time": "2022-05-22T05:42:01.624326Z",
     "start_time": "2022-05-22T05:42:01.610343Z"
    }
   },
   "outputs": [
    {
     "name": "stdout",
     "output_type": "stream",
     "text": [
      "3\n",
      "10\n",
      "5\n",
      "16\n",
      "8\n",
      "4\n",
      "2\n",
      "1\n"
     ]
    },
    {
     "data": {
      "text/plain": [
       "1"
      ]
     },
     "execution_count": 50,
     "metadata": {},
     "output_type": "execute_result"
    }
   ],
   "source": [
    "func(3)"
   ]
  },
  {
   "cell_type": "code",
   "execution_count": null,
   "id": "e39249a1",
   "metadata": {},
   "outputs": [],
   "source": []
  }
 ],
 "metadata": {
  "kernelspec": {
   "display_name": "Python 3",
   "language": "python",
   "name": "python3"
  },
  "language_info": {
   "codemirror_mode": {
    "name": "ipython",
    "version": 3
   },
   "file_extension": ".py",
   "mimetype": "text/x-python",
   "name": "python",
   "nbconvert_exporter": "python",
   "pygments_lexer": "ipython3",
   "version": "3.8.8"
  },
  "nbTranslate": {
   "displayLangs": [
    "*"
   ],
   "hotkey": "alt-t",
   "langInMainMenu": true,
   "sourceLang": "en",
   "targetLang": "fr",
   "useGoogleTranslate": true
  },
  "toc": {
   "base_numbering": 1,
   "nav_menu": {},
   "number_sections": true,
   "sideBar": true,
   "skip_h1_title": false,
   "title_cell": "Table of Contents",
   "title_sidebar": "Contents",
   "toc_cell": false,
   "toc_position": {},
   "toc_section_display": true,
   "toc_window_display": false
  },
  "varInspector": {
   "cols": {
    "lenName": 16,
    "lenType": 16,
    "lenVar": 40
   },
   "kernels_config": {
    "python": {
     "delete_cmd_postfix": "",
     "delete_cmd_prefix": "del ",
     "library": "var_list.py",
     "varRefreshCmd": "print(var_dic_list())"
    },
    "r": {
     "delete_cmd_postfix": ") ",
     "delete_cmd_prefix": "rm(",
     "library": "var_list.r",
     "varRefreshCmd": "cat(var_dic_list()) "
    }
   },
   "types_to_exclude": [
    "module",
    "function",
    "builtin_function_or_method",
    "instance",
    "_Feature"
   ],
   "window_display": false
  }
 },
 "nbformat": 4,
 "nbformat_minor": 5
}
