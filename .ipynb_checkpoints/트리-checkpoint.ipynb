{
 "cells": [
  {
   "cell_type": "markdown",
   "id": "38303005",
   "metadata": {
    "ExecuteTime": {
     "end_time": "2022-04-24T03:20:01.173297Z",
     "start_time": "2022-04-24T03:20:01.155590Z"
    }
   },
   "source": [
    "### 1. 트리 (Tree) 구조\n",
    "- 트리: Node와 Branch를 이용해서, 사이클을 이루지 않도록 구성한 데이터 구조\n",
    "- 실제로 어디에 많이 사용되나? \n",
    "  - 트리 중 이진 트리 (Binary Tree) 형태의 구조로, 탐색(검색) 알고리즘 구현을 위해 많이 사용됨"
   ]
  },
  {
   "cell_type": "markdown",
   "id": "dbb995f7",
   "metadata": {},
   "source": [
    "### 2. 알아둘 용어\n",
    "- Node: 트리에서 데이터를 저장하는 기본 요소 (데이터와 다른 연결된 노드에 대한 Branch 정보 포함)\n",
    "- Root Node: 트리 맨 위에 있는 노드\n",
    "- Level: 최상위 노드를 Level 0으로 하였을 때, 하위 Branch로 연결된 노드의 깊이를 나타냄\n",
    "- Parent Node: 어떤 노드의 다음 레벨에 연결된 노드\n",
    "- Child Node: 어떤 노드의 상위 레벨에 연결된 노드\n",
    "- Leaf Node (Terminal Node): Child Node가 하나도 없는 노드\n",
    "- Sibling (Brother Node): 동일한 Parent Node를 가진 노드\n",
    "- Depth: 트리에서 Node가 가질 수 있는 최대 Level\n",
    "<img src=\"http://www.fun-coding.org/00_Images/tree.png\" width=\"600\" />\n"
   ]
  },
  {
   "cell_type": "markdown",
   "id": "fca251fd",
   "metadata": {},
   "source": [
    "### 노드 클래스 만들기"
   ]
  },
  {
   "cell_type": "code",
   "execution_count": 13,
   "id": "bbc29b4b",
   "metadata": {
    "ExecuteTime": {
     "end_time": "2022-04-24T04:07:52.323629Z",
     "start_time": "2022-04-24T04:07:52.308809Z"
    }
   },
   "outputs": [],
   "source": [
    "class Node:\n",
    "    def __init__(self,value):\n",
    "        self.value=value\n",
    "        self.left=None\n",
    "        self.right=None"
   ]
  },
  {
   "cell_type": "code",
   "execution_count": 14,
   "id": "8829c1b5",
   "metadata": {
    "ExecuteTime": {
     "end_time": "2022-04-24T04:08:02.977118Z",
     "start_time": "2022-04-24T04:08:02.963854Z"
    }
   },
   "outputs": [],
   "source": [
    "head=Node(3)"
   ]
  },
  {
   "cell_type": "code",
   "execution_count": 15,
   "id": "8a6b86ac",
   "metadata": {
    "ExecuteTime": {
     "end_time": "2022-04-24T04:08:05.789910Z",
     "start_time": "2022-04-24T04:08:05.772955Z"
    }
   },
   "outputs": [
    {
     "data": {
      "text/plain": [
       "<__main__.Node at 0x1d8cb56e580>"
      ]
     },
     "execution_count": 15,
     "metadata": {},
     "output_type": "execute_result"
    }
   ],
   "source": [
    "head"
   ]
  },
  {
   "cell_type": "code",
   "execution_count": null,
   "id": "7a152848",
   "metadata": {},
   "outputs": [],
   "source": []
  },
  {
   "cell_type": "code",
   "execution_count": null,
   "id": "4750d83c",
   "metadata": {},
   "outputs": [],
   "source": []
  },
  {
   "cell_type": "markdown",
   "id": "eefdcf66",
   "metadata": {
    "ExecuteTime": {
     "end_time": "2022-04-24T03:33:05.897383Z",
     "start_time": "2022-04-24T03:33:05.885914Z"
    }
   },
   "source": [
    "#### 5.2. 이진 탐색 트리에 데이터 넣기\n",
    "* 이진 탐색 트리 조건에 부합하게 데이터를 넣어야 함\n",
    "* 이진 트리 : 최대 브랜치가 2개인 트리"
   ]
  },
  {
   "cell_type": "code",
   "execution_count": 28,
   "id": "63f460d9",
   "metadata": {
    "ExecuteTime": {
     "end_time": "2022-04-24T04:09:45.088054Z",
     "start_time": "2022-04-24T04:09:45.076534Z"
    }
   },
   "outputs": [],
   "source": [
    "class NodeMgmt:\n",
    "    def __init__(self, head):\n",
    "        self.head = head\n",
    "    \n",
    "    def insert(self, value):\n",
    "        self.current_node = self.head\n",
    "        while True:\n",
    "            if value < self.current_node.value:\n",
    "                if self.current_node.left != None:\n",
    "                    self.current_node = self.current_node.left\n",
    "                else:\n",
    "                    self.current_node.left = Node(value)\n",
    "                    break\n",
    "            else:\n",
    "                if self.current_node.right != None:\n",
    "                    self.current_node = self.current_node.right\n",
    "                else:\n",
    "                    self.current_node.right = Node(value)\n",
    "                    break"
   ]
  },
  {
   "cell_type": "code",
   "execution_count": 29,
   "id": "77ba6c32",
   "metadata": {
    "ExecuteTime": {
     "end_time": "2022-04-24T04:09:45.501025Z",
     "start_time": "2022-04-24T04:09:45.491527Z"
    }
   },
   "outputs": [],
   "source": [
    "head=Node(1)"
   ]
  },
  {
   "cell_type": "code",
   "execution_count": 30,
   "id": "b2a63fc3",
   "metadata": {
    "ExecuteTime": {
     "end_time": "2022-04-24T04:09:46.834103Z",
     "start_time": "2022-04-24T04:09:46.828602Z"
    }
   },
   "outputs": [],
   "source": [
    " BST = NodeMgmt(head)"
   ]
  },
  {
   "cell_type": "code",
   "execution_count": 31,
   "id": "d979965c",
   "metadata": {
    "ExecuteTime": {
     "end_time": "2022-04-24T04:09:47.250021Z",
     "start_time": "2022-04-24T04:09:47.243695Z"
    }
   },
   "outputs": [],
   "source": [
    "BST.insert(2)"
   ]
  },
  {
   "cell_type": "code",
   "execution_count": 32,
   "id": "7f14f5f7",
   "metadata": {
    "ExecuteTime": {
     "end_time": "2022-04-24T04:09:57.521165Z",
     "start_time": "2022-04-24T04:09:57.508054Z"
    }
   },
   "outputs": [],
   "source": [
    "BST.insert(3)\n",
    "BST.insert(0)\n",
    "BST.insert(4)\n",
    "BST.insert(8)"
   ]
  },
  {
   "cell_type": "code",
   "execution_count": 33,
   "id": "2aa3d3a5",
   "metadata": {
    "ExecuteTime": {
     "end_time": "2022-04-24T04:10:03.410518Z",
     "start_time": "2022-04-24T04:10:03.396315Z"
    }
   },
   "outputs": [
    {
     "ename": "AttributeError",
     "evalue": "'NodeMgmt' object has no attribute 'search'",
     "output_type": "error",
     "traceback": [
      "\u001b[1;31m---------------------------------------------------------------------------\u001b[0m",
      "\u001b[1;31mAttributeError\u001b[0m                            Traceback (most recent call last)",
      "\u001b[1;32m<ipython-input-33-b6351b458bc1>\u001b[0m in \u001b[0;36m<module>\u001b[1;34m\u001b[0m\n\u001b[1;32m----> 1\u001b[1;33m \u001b[0mBST\u001b[0m\u001b[1;33m.\u001b[0m\u001b[0msearch\u001b[0m\u001b[1;33m(\u001b[0m\u001b[1;33m-\u001b[0m\u001b[1;36m1\u001b[0m\u001b[1;33m)\u001b[0m\u001b[1;33m\u001b[0m\u001b[1;33m\u001b[0m\u001b[0m\n\u001b[0m",
      "\u001b[1;31mAttributeError\u001b[0m: 'NodeMgmt' object has no attribute 'search'"
     ]
    }
   ],
   "source": [
    "BST.search(-1)"
   ]
  },
  {
   "cell_type": "code",
   "execution_count": 35,
   "id": "91313f2e",
   "metadata": {
    "ExecuteTime": {
     "end_time": "2022-04-24T04:17:33.300852Z",
     "start_time": "2022-04-24T04:17:33.283182Z"
    }
   },
   "outputs": [],
   "source": [
    "class NodeMgmt:\n",
    "    def __init__(self, head):\n",
    "        self.head = head\n",
    "    \n",
    "    def insert(self, value):\n",
    "        self.current_node = self.head\n",
    "        while True:\n",
    "            if value < self.current_node.value:\n",
    "                if self.current_node.left != None:\n",
    "                    self.current_node = self.current_node.left\n",
    "                else:\n",
    "                    self.current_node.left = Node(value)\n",
    "                    break\n",
    "            else:\n",
    "                if self.current_node.right != None:\n",
    "                    self.current_node = self.current_node.right\n",
    "                else:\n",
    "                    self.current_node.right = Node(value)\n",
    "                    break\n",
    "                    \n",
    "    def search(self,value):\n",
    "        self.current_node=self.head\n",
    "        while self.current_node:\n",
    "            if self.current_node.value==value:\n",
    "                return True\n",
    "            elif value<self.current_node.value:\n",
    "                self.current_node=self.current_node.left #2\n",
    "            else:\n",
    "                self.current_node=self.current_node.right #3\n",
    "        return False #2,3이 none -> 브랜치가 없으면 False인거임\n",
    "            "
   ]
  },
  {
   "cell_type": "code",
   "execution_count": 36,
   "id": "5e1a8f6b",
   "metadata": {
    "ExecuteTime": {
     "end_time": "2022-04-24T04:17:41.152492Z",
     "start_time": "2022-04-24T04:17:41.139578Z"
    }
   },
   "outputs": [],
   "source": [
    "head = Node(1)\n",
    "BST = NodeMgmt(head)\n",
    "BST.insert(2)\n",
    "BST.insert(3)\n",
    "BST.insert(0)\n",
    "BST.insert(4)\n",
    "BST.insert(8)"
   ]
  },
  {
   "cell_type": "code",
   "execution_count": 40,
   "id": "192c3383",
   "metadata": {
    "ExecuteTime": {
     "end_time": "2022-04-24T04:18:03.275706Z",
     "start_time": "2022-04-24T04:18:03.267438Z"
    }
   },
   "outputs": [
    {
     "data": {
      "text/plain": [
       "False"
      ]
     },
     "execution_count": 40,
     "metadata": {},
     "output_type": "execute_result"
    }
   ],
   "source": [
    "BST.search(5)"
   ]
  },
  {
   "cell_type": "markdown",
   "id": "ff4202c4",
   "metadata": {},
   "source": [
    "#### 5.4. 이진 탐색 트리 삭제 \n",
    "* 매우 복잡함. **경우를 나누어서 이해하는 것이 좋음**\n",
    "\n",
    "#### 5.4.1. Leaf Node 삭제 \n",
    "* Leaf Node: Child Node 가 없는 Node\n",
    "* 삭제할 Node의 Parent Node가 삭제할 Node를 가리키지 않도록 한다. \n",
    "<img src=\"http://www.fun-coding.org/00_Images/tree_remove_leaf.png\" width=\"800\" />\n",
    "\n",
    "#### 5.4.2. Child Node 가 하나인 Node 삭제 \n",
    "* 삭제할 Node의 Parent Node가 삭제할 Node의 Child Node를 가리키도록 한다.\n",
    "<img src=\"http://www.fun-coding.org/00_Images/tree_remove_1child.png\" width=\"800\" />\n",
    "\n",
    "#### 5.4.3. Child Node 가 두 개인 Node 삭제\n",
    "1. **삭제할 Node의 오른쪽 자식 중, 가장 작은 값을 삭제할 Node의 Parent Node가 가리키도록 한다.**\n",
    "2. 삭제할 Node의 왼쪽 자식 중, 가장 큰 값을 삭제할 Node의 Parent Node가 가리키도록 한다.\n",
    "<img src=\"http://www.fun-coding.org/00_Images/tree_remove_2child.png\" width=\"800\" />\n",
    "\n",
    "##### 5.4.3.1. 삭제할 Node의 오른쪽 자식중, 가장 작은 값을 삭제할 Node의 Parent Node가 가리키게 할 경우\n",
    "- 삭제할 Node의 오른쪽 자식 선택\n",
    "- 오른쪽 자식의 가장 왼쪽에 있는 Node를 선택\n",
    "- 해당 Node를 삭제할 Node의 Parent Node의 왼쪽 Branch가 가리키게 함\n",
    "- 해당 Node의 왼쪽 Branch가 삭제할 Node의 왼쪽 Child Node를 가리키게 함\n",
    "- 해당 Node의 오른쪽 Branch가 삭제할 Node의 오른쪽 Child Node를 가리키게 함\n",
    "- 만약 해당 Node가 오른쪽 Child Node를 가지고 있었을 경우에는, 해당 Node의 본래 Parent Node의 왼쪽 Branch가 해당 오른쪽 Child Node를 가리키게 함"
   ]
  },
  {
   "cell_type": "code",
   "execution_count": null,
   "id": "8775be4f",
   "metadata": {},
   "outputs": [],
   "source": [
    "def delete(self,value):\n",
    "    searched=False\n",
    "    self.current_node=self.head\n",
    "    self.parent=self.head\n",
    "    while self.current_node:\n",
    "        if self.current_node.value==value:\n",
    "            searched=True\n",
    "            break\n",
    "        elif value<self.current_node.vaue:\n",
    "            self.parent=self.current_node\n",
    "            self.current_node=self.current_node.left\n",
    "        else:\n",
    "             self.parent=self.current_node\n",
    "            self.current_node=self.current_node.right\n",
    "    if searched=False:\n",
    "        return False\n",
    "            \n",
    "    "
   ]
  },
  {
   "cell_type": "markdown",
   "id": "9318304f",
   "metadata": {},
   "source": [
    "#### case1 # self.current_node 가 삭제할 Node, self.parent는 삭제할 Node의 Parent Node인 상태"
   ]
  },
  {
   "cell_type": "code",
   "execution_count": null,
   "id": "28acd461",
   "metadata": {},
   "outputs": [],
   "source": [
    "if self.current_node.left=None and self.current_node.right==Node:\n",
    "    if value<self.parent.value:\n",
    "        self.parent.left=None\n",
    "    else:\n",
    "        self.parent.right=None\n",
    "    del self.current_node\n",
    "        "
   ]
  },
  {
   "cell_type": "markdown",
   "id": "c22d6a75",
   "metadata": {
    "ExecuteTime": {
     "end_time": "2022-04-24T05:10:01.087719Z",
     "start_time": "2022-04-24T05:10:01.080039Z"
    }
   },
   "source": [
    "#### 5.5.2. Case2: 삭제할 Node가 Child Node를 한 개 가지고 있을 경우\n",
    "<img src=\"http://www.fun-coding.org/00_Images/tree_remove_1child_code.png\" width=\"400\" />"
   ]
  },
  {
   "cell_type": "code",
   "execution_count": null,
   "id": "efcd2a7b",
   "metadata": {},
   "outputs": [],
   "source": [
    "    if self.current_node.left != None and self.current_node.right == None:\n",
    "        if value < self.parent.value:\n",
    "            self.parent.left = self.current_node.left\n",
    "        else:\n",
    "            self.parent.right = self.current_node.left\n",
    "    elif self.current_node.left == None and self.current_node.right != None:\n",
    "        if value < self.parent.value:\n",
    "            self.parent.left = self.current_node.right\n",
    "        else:\n",
    "            self.parent.right = self.current_node.right"
   ]
  },
  {
   "cell_type": "markdown",
   "id": "8c63daf3",
   "metadata": {
    "ExecuteTime": {
     "end_time": "2022-04-24T05:36:28.919142Z",
     "start_time": "2022-04-24T05:36:28.903937Z"
    }
   },
   "source": [
    "#### 5.5.3. Case3-1: 삭제할 Node가 Child Node를 두 개 가지고 있을 경우 (삭제할 Node가 Parent Node 왼쪽에 있을 때)\n",
    "* 기본 사용 가능 전략\n",
    "  1. **삭제할 Node의 오른쪽 자식 중, 가장 작은 값을 삭제할 Node의 Parent Node가 가리키도록 한다.**\n",
    "  2. 삭제할 Node의 왼쪽 자식 중, 가장 큰 값을 삭제할 Node의 Parent Node가 가리키도록 한다.\n",
    "* 기본 사용 가능 전략 중, 1번 전략을 사용하여 코드를 구현하기로 함\n",
    "  - 경우의 수가 또다시 두가지가 있음\n",
    "    - **Case3-1-1:** 삭제할 Node가 Parent Node의 왼쪽에 있고, 삭제할 Node의 오른쪽 자식 중, 가장 작은 값을 가진 Node의 Child Node가 없을 때\n",
    "    - **Case3-1-2:** 삭제할 Node가 Parent Node의 왼쪽에 있고, 삭제할 Node의 오른쪽 자식 중, 가장 작은 값을 가진 Node의 오른쪽에 Child Node가 있을 때\n",
    "       - 가장 작은 값을 가진 Node의 Child Node가 왼쪽에 있을 경우는 없음, 왜냐하면 왼쪽 Node가 있다는 것은 해당 Node보다 더 작은 값을 가진 Node가 있다는 뜻이기 때문임\n",
    "\n",
    "\n",
    "<img src=\"http://www.fun-coding.org/00_Images/tree_remove_2child_code_left.png\" width=\"600\" />"
   ]
  },
  {
   "cell_type": "code",
   "execution_count": null,
   "id": "6bba6c78",
   "metadata": {},
   "outputs": [],
   "source": [
    "    if self.current_node.left != None and self.current_node.right != None: # case3\n",
    "        if value < self.parent.value: # case3-1\n",
    "            self.change_node = self.current_node.right\n",
    "            self.change_node_parent = self.current_node.right\n",
    "            while self.change_node.left != None:\n",
    "                self.change_node_parent = self.change_node\n",
    "                self.change_node = self.change_node.left\n",
    "            if self.change_node.right != None:\n",
    "                self.change_node_parent.left = self.change_node.right\n",
    "            else:\n",
    "                self.change_node_parent.left = None\n",
    "            self.parent.left = self.change_node\n",
    "            self.change_node.right = self.current_node.right\n",
    "            self.change_node.left = self.change_node.left"
   ]
  },
  {
   "cell_type": "markdown",
   "id": "7b7ccdcd",
   "metadata": {
    "ExecuteTime": {
     "end_time": "2022-04-24T05:43:48.974433Z",
     "start_time": "2022-04-24T05:43:48.958503Z"
    }
   },
   "source": [
    "#### 5.5.4. Case3-2: 삭제할 Node가 Child Node를 두 개 가지고 있을 경우 (삭제할 Node가 Parent Node 오른쪽에 있을 때)\n",
    "* 기본 사용 가능 전략\n",
    "  1. **삭제할 Node의 오른쪽 자식 중, 가장 작은 값을 삭제할 Node의 Parent Node가 가리키도록 한다.**\n",
    "  2. 삭제할 Node의 왼쪽 자식 중, 가장 큰 값을 삭제할 Node의 Parent Node가 가리키도록 한다.\n",
    "* 기본 사용 가능 전략 중, 1번 전략을 사용하여 코드를 구현하기로 함\n",
    "  - 경우의 수가 또다시 두가지가 있음\n",
    "    - **Case3-2-1:** 삭제할 Node가 Parent Node의 오른쪽에 있고, 삭제할 Node의 오른쪽 자식 중, 가장 작은 값을 가진 Node의 Child Node가 없을 때\n",
    "    - **Case3-2-2:** 삭제할 Node가 Parent Node의 오른쪽에 있고, 삭제할 Node의 오른쪽 자식 중, 가장 작은 값을 가진 Node의 오른쪽에 Child Node가 있을 때\n",
    "       - 가장 작은 값을 가진 Node의 Child Node가 왼쪽에 있을 경우는 없음, 왜냐하면 왼쪽 Node가 있다는 것은 해당 Node보다 더 작은 값을 가진 Node가 있다는 뜻이기 때문임\n",
    "\n",
    "\n",
    "<img src=\"http://www.fun-coding.org/00_Images/tree_remove_2child_code_right.png\" width=\"600\" />"
   ]
  },
  {
   "cell_type": "code",
   "execution_count": null,
   "id": "88886a33",
   "metadata": {},
   "outputs": [],
   "source": [
    "        else:\n",
    "            self.change_node = self.current_node.right\n",
    "            self.change_node_parent = self.current_node.right\n",
    "            while self.change_node.left != None:\n",
    "                self.change_node_parent = self.change_node\n",
    "                self.change_node = self.cㅍ hange_node.left\n",
    "            if self.change_node.right != None:\n",
    "                self.change_node_parent.left = self.change_node.right\n",
    "            else:\n",
    "                self.change_node_parent.left = None\n",
    "            self.parent.right = self.change_node\n",
    "            self.change_node.left = self.current_node.left\n",
    "            self.change_node.right = self.current_node.right"
   ]
  },
  {
   "cell_type": "code",
   "execution_count": 1,
   "id": "c3a7bf54",
   "metadata": {
    "ExecuteTime": {
     "end_time": "2022-04-26T08:13:58.423155Z",
     "start_time": "2022-04-26T08:13:58.404024Z"
    }
   },
   "outputs": [],
   "source": [
    "class Node:\n",
    "    def __init__(self, value):\n",
    "        self.value = value\n",
    "        self.left = None\n",
    "        self.right = None\n",
    "\n",
    "        \n",
    "class NodeMgmt:\n",
    "    def __init__(self, head):\n",
    "        self.head = head\n",
    "    \n",
    "    def insert(self, value):\n",
    "        self.current_node = self.head\n",
    "        while True:\n",
    "            if value < self.current_node.value:\n",
    "                if self.current_node.left != None:\n",
    "                    self.current_node = self.current_node.left\n",
    "                else:\n",
    "                    self.current_node.left = Node(value)\n",
    "                    break\n",
    "            else:\n",
    "                if self.current_node.right != None:\n",
    "                    self.current_node = self.current_node.right\n",
    "                else:\n",
    "                    self.current_node.right = Node(value)\n",
    "                    break\n",
    "    \n",
    "    def search(self, value):\n",
    "        self.current_node = self.head\n",
    "        while self.current_node:\n",
    "            if self.current_node.value == value:\n",
    "                return True\n",
    "            elif value < self.current_node.value:\n",
    "                self.current_node = self.current_node.left\n",
    "            else:\n",
    "                self.current_node = self.current_node.right\n",
    "        return False        \n",
    "    \n",
    "    def delete(self, value):\n",
    "        # 삭제할 노드 탐색\n",
    "        searched = False\n",
    "        self.current_node = self.head\n",
    "        self.parent = self.head\n",
    "        while self.current_node:\n",
    "            if self.current_node.value == value:\n",
    "                searched = True\n",
    "                break\n",
    "            elif value < self.current_node.value:\n",
    "                self.parent = self.current_node\n",
    "                self.current_node = self.current_node.left\n",
    "            else:\n",
    "                self.parent = self.current_node\n",
    "                self.current_node = self.current_node.right\n",
    "\n",
    "        if searched == False:\n",
    "            return False    \n",
    "\n",
    "        # case1\n",
    "        if  self.current_node.left == None and self.current_node.right == None:\n",
    "            if value < self.parent.value:\n",
    "                self.parent.left = None\n",
    "            else:\n",
    "                self.parent.right = None\n",
    "        \n",
    "        # case2\n",
    "        elif self.current_node.left != None and self.current_node.right == None:\n",
    "            if value < self.parent.value:\n",
    "                self.parent.left = self.current_node.left\n",
    "            else:\n",
    "                self.parent.right = self.current_node.left\n",
    "        elif self.current_node.left == None and self.current_node.right != None:\n",
    "            if value < self.parent.value:\n",
    "                self.parent.left = self.current_node.right\n",
    "            else:\n",
    "                self.parent.right = self.current_node.right        \n",
    "        \n",
    "        # case 3\n",
    "        elif self.current_node.left != None and self.current_node.right != None:\n",
    "            # case3-1\n",
    "            if value < self.parent.value:\n",
    "                self.change_node = self.current_node.right\n",
    "                self.change_node_parent = self.current_node.right\n",
    "                while self.change_node.left != None:\n",
    "                    self.change_node_parent = self.change_node\n",
    "                    self.change_node = self.change_node.left\n",
    "                if self.change_node.right != None:\n",
    "                    self.change_node_parent.left = self.change_node.right\n",
    "                else:\n",
    "                    self.change_node_parent.left = None\n",
    "                self.parent.left = self.change_node\n",
    "                self.change_node.right = self.current_node.right\n",
    "                self.change_node.left = self.change_node.left\n",
    "            # case 3-2\n",
    "            else:\n",
    "                self.change_node = self.current_node.right\n",
    "                self.change_node_parent = self.current_node.right\n",
    "                while self.change_node.left != None:\n",
    "                    self.change_node_parent = self.change_node\n",
    "                    self.change_node = self.change_node.left\n",
    "                if self.change_node.right != None:\n",
    "                    self.change_node_parent.left = self.change_node.right\n",
    "                else:\n",
    "                    self.change_node_parent.left = None\n",
    "                self.parent.right = self.change_node\n",
    "                self.change_node.right = self.current_node.right\n",
    "                self.change_node.left = self.current_node.left\n",
    "\n",
    "        return True"
   ]
  },
  {
   "cell_type": "code",
   "execution_count": 2,
   "id": "3843d60c",
   "metadata": {
    "ExecuteTime": {
     "end_time": "2022-04-26T08:17:52.230575Z",
     "start_time": "2022-04-26T08:17:52.221474Z"
    }
   },
   "outputs": [],
   "source": [
    "import random"
   ]
  },
  {
   "cell_type": "code",
   "execution_count": 9,
   "id": "0a03004c",
   "metadata": {
    "ExecuteTime": {
     "end_time": "2022-04-26T08:20:40.445217Z",
     "start_time": "2022-04-26T08:20:40.432956Z"
    }
   },
   "outputs": [],
   "source": [
    "bst_nums=set()"
   ]
  },
  {
   "cell_type": "code",
   "execution_count": 12,
   "id": "13c99c32",
   "metadata": {
    "ExecuteTime": {
     "end_time": "2022-04-26T08:20:46.019705Z",
     "start_time": "2022-04-26T08:20:46.007709Z"
    }
   },
   "outputs": [
    {
     "name": "stdout",
     "output_type": "stream",
     "text": [
      "{515, 4, 517, 18, 19, 48, 56, 57, 59, 64, 578, 69, 76, 592, 599, 91, 93, 607, 612, 617, 624, 129, 130, 154, 670, 675, 163, 688, 184, 186, 190, 708, 198, 200, 201, 714, 713, 208, 223, 741, 234, 749, 237, 752, 244, 248, 253, 768, 258, 785, 805, 807, 297, 810, 301, 813, 302, 819, 820, 823, 830, 838, 328, 332, 845, 333, 848, 850, 852, 854, 857, 859, 864, 869, 359, 371, 885, 377, 890, 380, 386, 906, 908, 396, 404, 919, 923, 431, 946, 445, 466, 469, 472, 985, 991, 994, 488, 493, 497, 501}\n"
     ]
    }
   ],
   "source": [
    "while len(bst_nums)!=100:\n",
    "    bst_nums.add(random.randint(0,999)) #100 까지 중복된건 제거하고 출력됨\n",
    "print(bst_nums)"
   ]
  },
  {
   "cell_type": "code",
   "execution_count": 14,
   "id": "62e464ae",
   "metadata": {
    "ExecuteTime": {
     "end_time": "2022-04-26T08:20:52.561717Z",
     "start_time": "2022-04-26T08:20:52.547324Z"
    }
   },
   "outputs": [
    {
     "data": {
      "text/plain": [
       "set"
      ]
     },
     "execution_count": 14,
     "metadata": {},
     "output_type": "execute_result"
    }
   ],
   "source": [
    "type(bst_nums)"
   ]
  },
  {
   "cell_type": "code",
   "execution_count": 13,
   "id": "3822b7d1",
   "metadata": {
    "ExecuteTime": {
     "end_time": "2022-04-26T08:20:46.384602Z",
     "start_time": "2022-04-26T08:20:46.369435Z"
    }
   },
   "outputs": [
    {
     "data": {
      "text/plain": [
       "{4,\n",
       " 18,\n",
       " 19,\n",
       " 48,\n",
       " 56,\n",
       " 57,\n",
       " 59,\n",
       " 64,\n",
       " 69,\n",
       " 76,\n",
       " 91,\n",
       " 93,\n",
       " 129,\n",
       " 130,\n",
       " 154,\n",
       " 163,\n",
       " 184,\n",
       " 186,\n",
       " 190,\n",
       " 198,\n",
       " 200,\n",
       " 201,\n",
       " 208,\n",
       " 223,\n",
       " 234,\n",
       " 237,\n",
       " 244,\n",
       " 248,\n",
       " 253,\n",
       " 258,\n",
       " 297,\n",
       " 301,\n",
       " 302,\n",
       " 328,\n",
       " 332,\n",
       " 333,\n",
       " 359,\n",
       " 371,\n",
       " 377,\n",
       " 380,\n",
       " 386,\n",
       " 396,\n",
       " 404,\n",
       " 431,\n",
       " 445,\n",
       " 466,\n",
       " 469,\n",
       " 472,\n",
       " 488,\n",
       " 493,\n",
       " 497,\n",
       " 501,\n",
       " 515,\n",
       " 517,\n",
       " 578,\n",
       " 592,\n",
       " 599,\n",
       " 607,\n",
       " 612,\n",
       " 617,\n",
       " 624,\n",
       " 670,\n",
       " 675,\n",
       " 688,\n",
       " 708,\n",
       " 713,\n",
       " 714,\n",
       " 741,\n",
       " 749,\n",
       " 752,\n",
       " 768,\n",
       " 785,\n",
       " 805,\n",
       " 807,\n",
       " 810,\n",
       " 813,\n",
       " 819,\n",
       " 820,\n",
       " 823,\n",
       " 830,\n",
       " 838,\n",
       " 845,\n",
       " 848,\n",
       " 850,\n",
       " 852,\n",
       " 854,\n",
       " 857,\n",
       " 859,\n",
       " 864,\n",
       " 869,\n",
       " 885,\n",
       " 890,\n",
       " 906,\n",
       " 908,\n",
       " 919,\n",
       " 923,\n",
       " 946,\n",
       " 985,\n",
       " 991,\n",
       " 994}"
      ]
     },
     "execution_count": 13,
     "metadata": {},
     "output_type": "execute_result"
    }
   ],
   "source": [
    "bst_nums"
   ]
  },
  {
   "cell_type": "code",
   "execution_count": null,
   "id": "bbe0a21e",
   "metadata": {},
   "outputs": [],
   "source": [
    "### 선택된 100개의 숫자를 이진탐색트리에 입력, 임의로 루트노드는 500을 넣음"
   ]
  },
  {
   "cell_type": "code",
   "execution_count": 15,
   "id": "7335f17c",
   "metadata": {
    "ExecuteTime": {
     "end_time": "2022-04-26T08:22:23.766897Z",
     "start_time": "2022-04-26T08:22:23.754508Z"
    }
   },
   "outputs": [],
   "source": [
    "head=Node(500)\n",
    "binary_tree=NodeMgmt(head)\n",
    "for num in bst_nums:\n",
    "    binary_tree.insert(num)"
   ]
  },
  {
   "cell_type": "code",
   "execution_count": 18,
   "id": "ab01e48c",
   "metadata": {
    "ExecuteTime": {
     "end_time": "2022-04-26T08:23:53.447944Z",
     "start_time": "2022-04-26T08:23:53.433777Z"
    }
   },
   "outputs": [],
   "source": [
    "###입력한 100개의 숫자 검색\n",
    "for num in bst_nums:\n",
    "    if binary_tree.search(num)==False:\n",
    "        print('fail',num)"
   ]
  },
  {
   "cell_type": "code",
   "execution_count": 19,
   "id": "f7c61aaa",
   "metadata": {
    "ExecuteTime": {
     "end_time": "2022-04-26T08:26:45.658595Z",
     "start_time": "2022-04-26T08:26:45.649881Z"
    }
   },
   "outputs": [],
   "source": [
    "### 입력한 100개의 숫자중 10개의 숫자를 선택\n",
    "\n",
    "delete_nums=set()\n",
    "bst_nums=list(bst_nums)\n",
    "while len(delete_nums)!=10:\n",
    "    delete_nums.add(bst_nums[random.randint(0,99)])\n",
    "    \n",
    "for del_num in delete_nums:\n",
    "    if binary_tree.delete(del_num)==False:\n",
    "        print('delete')"
   ]
  },
  {
   "cell_type": "markdown",
   "id": "160f2673",
   "metadata": {},
   "source": [
    "### 6. 이진 탐색 트리의 시간 복잡도와 단점\n",
    "#### 6.1. 시간 복잡도 (탐색시)\n",
    "  - depth (트리의 높이) 를 h라고 표기한다면, O(h)\n",
    "  - n개의 노드를 가진다면, $h = log_2{n} $ 에 가까우므로, 시간 복잡도는 $ O(log{n}) $ \n",
    "     - 참고: 빅오 표기법에서 $log{n}$ 에서의 log의 밑은 10이 아니라, 2입니다.\n",
    "       - 한번 실행시마다, 50%의 실행할 수도 있는 명령을 제거한다는 의미. 즉 50%의 실행시간을 단축시킬 수 있다는 것을 의미함\n",
    "<img src=\"https://www.mathwarehouse.com/programming/images/binary-search-tree/binary-search-tree-sorted-array-animation.gif\" />\n",
    "\n",
    "(출처: https://www.mathwarehouse.com/programming/gifs/binary-search-tree.php#binary-search-tree-insertion-node)"
   ]
  },
  {
   "cell_type": "code",
   "execution_count": null,
   "id": "f20bfd6d",
   "metadata": {},
   "outputs": [],
   "source": []
  }
 ],
 "metadata": {
  "kernelspec": {
   "display_name": "Python 3",
   "language": "python",
   "name": "python3"
  },
  "language_info": {
   "codemirror_mode": {
    "name": "ipython",
    "version": 3
   },
   "file_extension": ".py",
   "mimetype": "text/x-python",
   "name": "python",
   "nbconvert_exporter": "python",
   "pygments_lexer": "ipython3",
   "version": "3.8.8"
  },
  "nbTranslate": {
   "displayLangs": [
    "*"
   ],
   "hotkey": "alt-t",
   "langInMainMenu": true,
   "sourceLang": "en",
   "targetLang": "fr",
   "useGoogleTranslate": true
  },
  "toc": {
   "base_numbering": 1,
   "nav_menu": {},
   "number_sections": true,
   "sideBar": true,
   "skip_h1_title": false,
   "title_cell": "Table of Contents",
   "title_sidebar": "Contents",
   "toc_cell": false,
   "toc_position": {},
   "toc_section_display": true,
   "toc_window_display": false
  },
  "varInspector": {
   "cols": {
    "lenName": 16,
    "lenType": 16,
    "lenVar": 40
   },
   "kernels_config": {
    "python": {
     "delete_cmd_postfix": "",
     "delete_cmd_prefix": "del ",
     "library": "var_list.py",
     "varRefreshCmd": "print(var_dic_list())"
    },
    "r": {
     "delete_cmd_postfix": ") ",
     "delete_cmd_prefix": "rm(",
     "library": "var_list.r",
     "varRefreshCmd": "cat(var_dic_list()) "
    }
   },
   "types_to_exclude": [
    "module",
    "function",
    "builtin_function_or_method",
    "instance",
    "_Feature"
   ],
   "window_display": false
  }
 },
 "nbformat": 4,
 "nbformat_minor": 5
}
