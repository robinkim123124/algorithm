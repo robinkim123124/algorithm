{
 "cells": [
  {
   "cell_type": "markdown",
   "id": "ed2c7824",
   "metadata": {},
   "source": [
    "## 대표적인 정렬5: 퀵 정렬 (quick sort) "
   ]
  },
  {
   "cell_type": "markdown",
   "id": "fa6543ec",
   "metadata": {},
   "source": [
    "### 1. 퀵 정렬 (quick sort) 이란?\n",
    "* <font color='#BF360C'>정렬 알고리즘의 꽃</font>\n",
    "* 기준점(pivot 이라고 부름)을 정해서, 기준점보다 작은 데이터는 왼쪽(left), 큰 데이터는 오른쪽(right) 으로 모으는 함수를 작성함\n",
    "* 각 왼쪽(left), 오른쪽(right)은 재귀용법을 사용해서 다시 동일 함수를 호출하여 위 작업을 반복함\n",
    "* 함수는 왼쪽(left) + 기준점(pivot) + 오른쪽(right) 을 리턴함"
   ]
  },
  {
   "cell_type": "code",
   "execution_count": 2,
   "id": "e4bfc818",
   "metadata": {
    "ExecuteTime": {
     "end_time": "2022-06-07T02:27:03.065465Z",
     "start_time": "2022-06-07T02:27:03.044010Z"
    }
   },
   "outputs": [],
   "source": [
    "import random \n",
    "data_list = random.sample(range(100), 10)"
   ]
  },
  {
   "cell_type": "code",
   "execution_count": 3,
   "id": "588b8289",
   "metadata": {
    "ExecuteTime": {
     "end_time": "2022-06-07T02:27:04.599747Z",
     "start_time": "2022-06-07T02:27:04.581101Z"
    }
   },
   "outputs": [
    {
     "data": {
      "text/plain": [
       "[73, 58, 79, 72, 67, 55, 22, 35, 27, 52]"
      ]
     },
     "execution_count": 3,
     "metadata": {},
     "output_type": "execute_result"
    }
   ],
   "source": [
    "data_list"
   ]
  },
  {
   "cell_type": "code",
   "execution_count": 6,
   "id": "2e1c139a",
   "metadata": {
    "ExecuteTime": {
     "end_time": "2022-06-07T02:29:47.650362Z",
     "start_time": "2022-06-07T02:29:47.641666Z"
    }
   },
   "outputs": [],
   "source": [
    "left=list()\n",
    "right=list()\n",
    "pivot=data_list[0]"
   ]
  },
  {
   "cell_type": "code",
   "execution_count": 7,
   "id": "7569c46a",
   "metadata": {
    "ExecuteTime": {
     "end_time": "2022-06-07T02:29:47.895662Z",
     "start_time": "2022-06-07T02:29:47.880977Z"
    }
   },
   "outputs": [],
   "source": [
    "for index in range(1,len(data_list)):\n",
    "    if data_list[index]<pivot:\n",
    "        left.append(data_list[index])\n",
    "    else:\n",
    "        right.append(data_list[index])"
   ]
  },
  {
   "cell_type": "code",
   "execution_count": 8,
   "id": "e33e3058",
   "metadata": {
    "ExecuteTime": {
     "end_time": "2022-06-07T02:29:51.535410Z",
     "start_time": "2022-06-07T02:29:51.529564Z"
    }
   },
   "outputs": [
    {
     "data": {
      "text/plain": [
       "[58, 72, 67, 55, 22, 35, 27, 52]"
      ]
     },
     "execution_count": 8,
     "metadata": {},
     "output_type": "execute_result"
    }
   ],
   "source": [
    "left"
   ]
  },
  {
   "cell_type": "code",
   "execution_count": 9,
   "id": "dd84042c",
   "metadata": {
    "ExecuteTime": {
     "end_time": "2022-06-07T02:29:52.745567Z",
     "start_time": "2022-06-07T02:29:52.730192Z"
    }
   },
   "outputs": [
    {
     "data": {
      "text/plain": [
       "[79]"
      ]
     },
     "execution_count": 9,
     "metadata": {},
     "output_type": "execute_result"
    }
   ],
   "source": [
    "right"
   ]
  },
  {
   "cell_type": "code",
   "execution_count": 16,
   "id": "8faae54e",
   "metadata": {
    "ExecuteTime": {
     "end_time": "2022-06-07T02:55:06.663333Z",
     "start_time": "2022-06-07T02:55:06.657249Z"
    }
   },
   "outputs": [],
   "source": [
    "def qsort(data):\n",
    "    if len(data)<=1:\n",
    "        return data\n",
    "    \n",
    "    left,right=list(),list()\n",
    "    pivot=data[0]\n",
    "    \n",
    "    for index in range(1,len(data)):\n",
    "        if data[index]<pivot:\n",
    "            left.append(data[index])\n",
    "        else:\n",
    "            right.append(data[index])\n",
    "        \n",
    "    return qsort(left)+[pivot]+qsort(right)"
   ]
  },
  {
   "cell_type": "code",
   "execution_count": 17,
   "id": "47a3bc2a",
   "metadata": {
    "ExecuteTime": {
     "end_time": "2022-06-07T02:55:07.354167Z",
     "start_time": "2022-06-07T02:55:07.344902Z"
    }
   },
   "outputs": [
    {
     "data": {
      "text/plain": [
       "[1, 12, 15, 32, 39, 52, 62]"
      ]
     },
     "execution_count": 17,
     "metadata": {},
     "output_type": "execute_result"
    }
   ],
   "source": [
    "qsort([1,52,39,32,12,62,15])"
   ]
  },
  {
   "cell_type": "markdown",
   "id": "ede5063b",
   "metadata": {},
   "source": [
    "### 리스트 컴프리핸션 사용"
   ]
  },
  {
   "cell_type": "code",
   "execution_count": 23,
   "id": "d09e4f6e",
   "metadata": {
    "ExecuteTime": {
     "end_time": "2022-06-07T03:12:54.555936Z",
     "start_time": "2022-06-07T03:12:54.550926Z"
    }
   },
   "outputs": [],
   "source": [
    "def qsort(data):\n",
    "    if len(data) <= 1:\n",
    "        return data\n",
    "    \n",
    "    pivot = data[0]\n",
    "\n",
    "    left = [ item for item in data[1:] if pivot > item ]\n",
    "    right = [ item for item in data[1:] if pivot <= item ]\n",
    "    \n",
    "    return qsort(left) + [pivot] + qsort(right)"
   ]
  },
  {
   "cell_type": "code",
   "execution_count": 24,
   "id": "3f1d705d",
   "metadata": {
    "ExecuteTime": {
     "end_time": "2022-06-07T03:12:54.844911Z",
     "start_time": "2022-06-07T03:12:54.830632Z"
    }
   },
   "outputs": [
    {
     "data": {
      "text/plain": [
       "[1, 12, 15, 32, 39, 52, 62]"
      ]
     },
     "execution_count": 24,
     "metadata": {},
     "output_type": "execute_result"
    }
   ],
   "source": [
    "qsort([1,52,39,32,12,62,15])"
   ]
  },
  {
   "cell_type": "markdown",
   "id": "904ec456",
   "metadata": {},
   "source": [
    "### 병합정렬"
   ]
  },
  {
   "cell_type": "markdown",
   "id": "214e5085",
   "metadata": {},
   "source": [
    "### 1. 병합 정렬 (merge sort) \n",
    "* 재귀용법을 활용한 정렬 알고리즘\n",
    "  1. 리스트를 절반으로 잘라 비슷한 크기의 두 부분 리스트로 나눈다.\n",
    "  2. 각 부분 리스트를 재귀적으로 합병 정렬을 이용해 정렬한다.\n",
    "  3. 두 부분 리스트를 다시 하나의 정렬된 리스트로 합병한다.\n",
    "\n",
    "#### 직접 눈으로 보면 더 이해가 쉽다: https://visualgo.net/en/sorting\n",
    "\n",
    "<img src=\"https://upload.wikimedia.org/wikipedia/commons/c/cc/Merge-sort-example-300px.gif\" width=500/>\n",
    "\n",
    "출처: [위키피디아](https://ko.wikipedia.org/wiki/%ED%95%A9%EB%B3%91_%EC%A0%95%EB%A0%AC)"
   ]
  },
  {
   "cell_type": "code",
   "execution_count": 35,
   "id": "ad7e25c2",
   "metadata": {
    "ExecuteTime": {
     "end_time": "2022-06-07T04:13:20.665177Z",
     "start_time": "2022-06-07T04:13:20.650916Z"
    }
   },
   "outputs": [],
   "source": [
    "def mergesplit(data):\n",
    "    if len(data) <= 1:\n",
    "        return data\n",
    "    medium = int(len(data) / 2)\n",
    "    left = mergesplit(data[:medium])\n",
    "    right = mergesplit(data[medium:])\n",
    "    return merge(left, right)"
   ]
  },
  {
   "cell_type": "code",
   "execution_count": null,
   "id": "bd59d68c",
   "metadata": {},
   "outputs": [],
   "source": []
  }
 ],
 "metadata": {
  "kernelspec": {
   "display_name": "Python 3",
   "language": "python",
   "name": "python3"
  },
  "language_info": {
   "codemirror_mode": {
    "name": "ipython",
    "version": 3
   },
   "file_extension": ".py",
   "mimetype": "text/x-python",
   "name": "python",
   "nbconvert_exporter": "python",
   "pygments_lexer": "ipython3",
   "version": "3.8.8"
  },
  "nbTranslate": {
   "displayLangs": [
    "*"
   ],
   "hotkey": "alt-t",
   "langInMainMenu": true,
   "sourceLang": "en",
   "targetLang": "fr",
   "useGoogleTranslate": true
  },
  "toc": {
   "base_numbering": 1,
   "nav_menu": {},
   "number_sections": true,
   "sideBar": true,
   "skip_h1_title": false,
   "title_cell": "Table of Contents",
   "title_sidebar": "Contents",
   "toc_cell": false,
   "toc_position": {},
   "toc_section_display": true,
   "toc_window_display": false
  },
  "varInspector": {
   "cols": {
    "lenName": 16,
    "lenType": 16,
    "lenVar": 40
   },
   "kernels_config": {
    "python": {
     "delete_cmd_postfix": "",
     "delete_cmd_prefix": "del ",
     "library": "var_list.py",
     "varRefreshCmd": "print(var_dic_list())"
    },
    "r": {
     "delete_cmd_postfix": ") ",
     "delete_cmd_prefix": "rm(",
     "library": "var_list.r",
     "varRefreshCmd": "cat(var_dic_list()) "
    }
   },
   "types_to_exclude": [
    "module",
    "function",
    "builtin_function_or_method",
    "instance",
    "_Feature"
   ],
   "window_display": false
  }
 },
 "nbformat": 4,
 "nbformat_minor": 5
}
