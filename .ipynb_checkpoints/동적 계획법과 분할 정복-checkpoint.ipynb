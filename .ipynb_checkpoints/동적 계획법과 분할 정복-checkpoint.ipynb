{
 "cells": [
  {
   "cell_type": "markdown",
   "id": "f2f26a35",
   "metadata": {
    "ExecuteTime": {
     "end_time": "2022-05-23T03:26:55.917242Z",
     "start_time": "2022-05-23T03:26:55.911417Z"
    }
   },
   "source": [
    "## 동적계획법"
   ]
  },
  {
   "cell_type": "code",
   "execution_count": 4,
   "id": "64f54cb6",
   "metadata": {
    "ExecuteTime": {
     "end_time": "2022-05-22T07:07:06.861160Z",
     "start_time": "2022-05-22T07:07:06.847785Z"
    }
   },
   "outputs": [],
   "source": [
    "def fibo(num):\n",
    "    if num<=1:\n",
    "        return num\n",
    "    return fibo(num-1)+fibo(num-2)"
   ]
  },
  {
   "cell_type": "code",
   "execution_count": 5,
   "id": "2359bb10",
   "metadata": {
    "ExecuteTime": {
     "end_time": "2022-05-22T07:07:07.118497Z",
     "start_time": "2022-05-22T07:07:07.094190Z"
    }
   },
   "outputs": [
    {
     "data": {
      "text/plain": [
       "3"
      ]
     },
     "execution_count": 5,
     "metadata": {},
     "output_type": "execute_result"
    }
   ],
   "source": [
    "fibo(4)"
   ]
  },
  {
   "cell_type": "code",
   "execution_count": 18,
   "id": "bc844d33",
   "metadata": {
    "ExecuteTime": {
     "end_time": "2022-05-22T07:15:50.841316Z",
     "start_time": "2022-05-22T07:15:50.821069Z"
    }
   },
   "outputs": [],
   "source": [
    "def fibo_dp(num):\n",
    "    cache = [ 0 for index in range(num + 1)]\n",
    "    cache[0] = 0\n",
    "    cache[1] = 1\n",
    "    \n",
    "    for index in range(2, num + 1):\n",
    "        cache[index] = cache[index - 1] + cache[index - 2]\n",
    "    return cache[num]"
   ]
  },
  {
   "cell_type": "code",
   "execution_count": 19,
   "id": "ce9d7cfd",
   "metadata": {
    "ExecuteTime": {
     "end_time": "2022-05-22T07:15:51.116996Z",
     "start_time": "2022-05-22T07:15:51.101688Z"
    }
   },
   "outputs": [
    {
     "data": {
      "text/plain": [
       "2"
      ]
     },
     "execution_count": 19,
     "metadata": {},
     "output_type": "execute_result"
    }
   ],
   "source": [
    "fibo_dp(3)"
   ]
  },
  {
   "cell_type": "markdown",
   "id": "4aa4a414",
   "metadata": {},
   "source": [
    "### 1. 연습 문제: https://www.acmicpc.net/problem/11726"
   ]
  },
  {
   "cell_type": "markdown",
   "id": "4cc706a2",
   "metadata": {},
   "source": [
    "#### 풀이 전략"
   ]
  },
  {
   "cell_type": "markdown",
   "id": "d31414b1",
   "metadata": {},
   "source": [
    "-1.빈리스트 만들기(입력값에 따른)<br>\n",
    "-2.초기값을 설정<br>\n",
    "-3.점화식 기반으로 계산값 적용하기<br>\n",
    "-4.특정 입력값에 따른 계산값을 리스트에서 추출하기<br>"
   ]
  },
  {
   "cell_type": "markdown",
   "id": "fd602d35",
   "metadata": {},
   "source": [
    "#### 빈리스트 만들기"
   ]
  },
  {
   "cell_type": "code",
   "execution_count": 3,
   "id": "041c3f7e",
   "metadata": {
    "ExecuteTime": {
     "end_time": "2022-05-23T03:55:24.188584Z",
     "start_time": "2022-05-23T03:55:24.183814Z"
    }
   },
   "outputs": [],
   "source": [
    "dp=[0]*1001"
   ]
  },
  {
   "cell_type": "markdown",
   "id": "6cd82cf0",
   "metadata": {},
   "source": [
    "#### 초기값설정"
   ]
  },
  {
   "cell_type": "code",
   "execution_count": 5,
   "id": "fdbbdc6f",
   "metadata": {
    "ExecuteTime": {
     "end_time": "2022-05-23T03:55:38.997840Z",
     "start_time": "2022-05-23T03:55:38.980414Z"
    }
   },
   "outputs": [],
   "source": [
    "dp[1]=1\n",
    "dp[2]=2"
   ]
  },
  {
   "cell_type": "markdown",
   "id": "7db1ae29",
   "metadata": {},
   "source": [
    "#### 점화식 기반으로 계산값 적용하기"
   ]
  },
  {
   "cell_type": "code",
   "execution_count": null,
   "id": "82b98f24",
   "metadata": {},
   "outputs": [],
   "source": [
    "for index in range(3,1001):\n",
    "    dp[index]=dp[index-1]+dp[index-2]"
   ]
  },
  {
   "cell_type": "code",
   "execution_count": null,
   "id": "fff3e611",
   "metadata": {},
   "outputs": [],
   "source": []
  },
  {
   "cell_type": "markdown",
   "id": "9c422e91",
   "metadata": {},
   "source": [
    "#### 전체코드"
   ]
  },
  {
   "cell_type": "code",
   "execution_count": 7,
   "id": "89c4d9db",
   "metadata": {
    "ExecuteTime": {
     "end_time": "2022-05-23T03:59:51.732257Z",
     "start_time": "2022-05-23T03:59:51.717010Z"
    }
   },
   "outputs": [
    {
     "name": "stdout",
     "output_type": "stream",
     "text": [
      "2\n",
      "55\n"
     ]
    }
   ],
   "source": [
    "dp=[0]*1001\n",
    "dp[1]=1\n",
    "dp[2]=2\n",
    "for index in range(3,1001):\n",
    "    dp[index]=dp[index-1]+dp[index-2]\n",
    "print(dp[2]%10007)\n",
    "print(dp[9]%10007)"
   ]
  },
  {
   "cell_type": "markdown",
   "id": "704966df",
   "metadata": {},
   "source": [
    "### 입력값을 받는다면 "
   ]
  },
  {
   "cell_type": "code",
   "execution_count": 8,
   "id": "ee19ad34",
   "metadata": {
    "ExecuteTime": {
     "end_time": "2022-05-23T04:03:29.847904Z",
     "start_time": "2022-05-23T04:03:22.900147Z"
    }
   },
   "outputs": [
    {
     "name": "stdout",
     "output_type": "stream",
     "text": [
      "9\n",
      "55\n"
     ]
    }
   ],
   "source": [
    "n=int(input())\n",
    "\n",
    "dp=[0]*1001\n",
    "dp[1]=1\n",
    "dp[2]=2\n",
    "for index in range(3,1001):\n",
    "    dp[index]=dp[index-1]+dp[index-2]\n",
    "\n",
    "print(dp[n]%10007)"
   ]
  },
  {
   "cell_type": "markdown",
   "id": "de36ec91",
   "metadata": {},
   "source": [
    "### 2. 연습문제: https://www.acmicpc.net/problem/9461"
   ]
  },
  {
   "cell_type": "markdown",
   "id": "10a75a88",
   "metadata": {},
   "source": [
    "- 1, 1, 1, 2, 2, 3, 4, 5, 7, 9, 12, ...\n",
    "- 규칙 찾아보기: dp[ i + 3 ] = dp [ i ] + dp [ i + 1 ]"
   ]
  },
  {
   "cell_type": "code",
   "execution_count": 27,
   "id": "28adbeca",
   "metadata": {
    "ExecuteTime": {
     "end_time": "2022-05-23T04:30:15.986518Z",
     "start_time": "2022-05-23T04:30:15.977917Z"
    }
   },
   "outputs": [],
   "source": [
    "dp=[0]*101"
   ]
  },
  {
   "cell_type": "code",
   "execution_count": 28,
   "id": "4efea4f1",
   "metadata": {
    "ExecuteTime": {
     "end_time": "2022-05-23T04:30:16.232998Z",
     "start_time": "2022-05-23T04:30:16.217770Z"
    }
   },
   "outputs": [],
   "source": [
    "dp[1]=1\n",
    "dp[2]=1"
   ]
  },
  {
   "cell_type": "code",
   "execution_count": 35,
   "id": "da27a8df",
   "metadata": {
    "ExecuteTime": {
     "end_time": "2022-05-23T04:36:45.317698Z",
     "start_time": "2022-05-23T04:36:43.919232Z"
    }
   },
   "outputs": [
    {
     "name": "stdout",
     "output_type": "stream",
     "text": [
      "12\n",
      "16\n"
     ]
    }
   ],
   "source": [
    "n=int(input())\n",
    "dp=[0]*101\n",
    "dp[1]=1\n",
    "dp[2]=1\n",
    "for index in range(3,101):\n",
    "    dp[index]=dp[index-2]+dp[index-3]\n",
    "print(dp[n])"
   ]
  },
  {
   "cell_type": "markdown",
   "id": "74778fb0",
   "metadata": {},
   "source": [
    "### 추가 참고 문제: 3. https://www.acmicpc.net/problem/1904"
   ]
  },
  {
   "cell_type": "markdown",
   "id": "770fd4d5",
   "metadata": {
    "ExecuteTime": {
     "end_time": "2022-05-23T04:37:56.560373Z",
     "start_time": "2022-05-23T04:37:56.543096Z"
    }
   },
   "source": [
    "- N = 1(1) : 1\n",
    "- N = 2(2) : 00 11\n",
    "- N = 3(3) : 100 001 111\n",
    "- N = 4(4) : 0000 1100 1001 0011 1111\n",
    "- N = n : (n - 2)00 (n - 1)1\n",
    "> 즉 dp[n] = dp[n - 2] + dp[n - 1]"
   ]
  },
  {
   "cell_type": "code",
   "execution_count": null,
   "id": "4c76e426",
   "metadata": {},
   "outputs": [],
   "source": []
  }
 ],
 "metadata": {
  "kernelspec": {
   "display_name": "Python 3",
   "language": "python",
   "name": "python3"
  },
  "language_info": {
   "codemirror_mode": {
    "name": "ipython",
    "version": 3
   },
   "file_extension": ".py",
   "mimetype": "text/x-python",
   "name": "python",
   "nbconvert_exporter": "python",
   "pygments_lexer": "ipython3",
   "version": "3.8.8"
  },
  "nbTranslate": {
   "displayLangs": [
    "*"
   ],
   "hotkey": "alt-t",
   "langInMainMenu": true,
   "sourceLang": "en",
   "targetLang": "fr",
   "useGoogleTranslate": true
  },
  "toc": {
   "base_numbering": 1,
   "nav_menu": {},
   "number_sections": true,
   "sideBar": true,
   "skip_h1_title": false,
   "title_cell": "Table of Contents",
   "title_sidebar": "Contents",
   "toc_cell": false,
   "toc_position": {},
   "toc_section_display": true,
   "toc_window_display": false
  },
  "varInspector": {
   "cols": {
    "lenName": 16,
    "lenType": 16,
    "lenVar": 40
   },
   "kernels_config": {
    "python": {
     "delete_cmd_postfix": "",
     "delete_cmd_prefix": "del ",
     "library": "var_list.py",
     "varRefreshCmd": "print(var_dic_list())"
    },
    "r": {
     "delete_cmd_postfix": ") ",
     "delete_cmd_prefix": "rm(",
     "library": "var_list.r",
     "varRefreshCmd": "cat(var_dic_list()) "
    }
   },
   "types_to_exclude": [
    "module",
    "function",
    "builtin_function_or_method",
    "instance",
    "_Feature"
   ],
   "window_display": false
  }
 },
 "nbformat": 4,
 "nbformat_minor": 5
}
