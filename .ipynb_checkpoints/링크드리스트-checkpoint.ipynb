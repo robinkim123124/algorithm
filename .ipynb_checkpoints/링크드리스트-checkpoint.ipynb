{
 "cells": [
  {
   "cell_type": "code",
   "execution_count": 17,
   "id": "c71cbf65",
   "metadata": {
    "ExecuteTime": {
     "end_time": "2022-04-10T07:57:56.164725Z",
     "start_time": "2022-04-10T07:57:56.156068Z"
    }
   },
   "outputs": [],
   "source": [
    "# 링크드리스트 : 첫번째 노드만 알면 그다음 주소와 노드가 연결되어있어서\n",
    "#마지막 노드까지 출력가능"
   ]
  },
  {
   "cell_type": "code",
   "execution_count": 1,
   "id": "c34409e3",
   "metadata": {
    "ExecuteTime": {
     "end_time": "2022-04-10T07:22:30.659647Z",
     "start_time": "2022-04-10T07:22:30.648140Z"
    }
   },
   "outputs": [],
   "source": [
    "class Node:\n",
    "    def __init__(self,data):\n",
    "        self.data=data\n",
    "        self.next=None"
   ]
  },
  {
   "cell_type": "code",
   "execution_count": 2,
   "id": "3583809f",
   "metadata": {
    "ExecuteTime": {
     "end_time": "2022-04-10T07:24:44.904657Z",
     "start_time": "2022-04-10T07:24:44.891727Z"
    }
   },
   "outputs": [],
   "source": [
    "class Node:\n",
    "    def __init__(self, data, next=None):\n",
    "        self.data = data\n",
    "        self.next = next"
   ]
  },
  {
   "cell_type": "code",
   "execution_count": 3,
   "id": "bcdd9150",
   "metadata": {
    "ExecuteTime": {
     "end_time": "2022-04-10T07:25:18.529325Z",
     "start_time": "2022-04-10T07:25:18.523642Z"
    }
   },
   "outputs": [],
   "source": [
    "node1=Node(1)\n",
    "node2=Node(2)"
   ]
  },
  {
   "cell_type": "code",
   "execution_count": 6,
   "id": "cbfc2e4c",
   "metadata": {
    "ExecuteTime": {
     "end_time": "2022-04-10T07:33:46.349210Z",
     "start_time": "2022-04-10T07:33:46.341610Z"
    }
   },
   "outputs": [],
   "source": [
    "node1.next=node2\n",
    "head=node1"
   ]
  },
  {
   "cell_type": "code",
   "execution_count": 8,
   "id": "fe2d131d",
   "metadata": {
    "ExecuteTime": {
     "end_time": "2022-04-10T07:33:53.061259Z",
     "start_time": "2022-04-10T07:33:53.052032Z"
    }
   },
   "outputs": [
    {
     "data": {
      "text/plain": [
       "<__main__.Node at 0x1b43cfc0460>"
      ]
     },
     "execution_count": 8,
     "metadata": {},
     "output_type": "execute_result"
    }
   ],
   "source": [
    "node1"
   ]
  },
  {
   "cell_type": "code",
   "execution_count": 12,
   "id": "120cf55d",
   "metadata": {
    "ExecuteTime": {
     "end_time": "2022-04-10T07:55:30.393819Z",
     "start_time": "2022-04-10T07:55:30.386686Z"
    }
   },
   "outputs": [],
   "source": [
    "class Node:\n",
    "    def __init__(self, data, next=None):\n",
    "        self.data = data\n",
    "        self.next = next\n",
    "        \n",
    "        \n",
    "def add(data):\n",
    "    node = head\n",
    "    while node.next:\n",
    "        node = node.next\n",
    "    node.next = Node(data) \n",
    "\n",
    "        "
   ]
  },
  {
   "cell_type": "code",
   "execution_count": 13,
   "id": "efba764a",
   "metadata": {
    "ExecuteTime": {
     "end_time": "2022-04-10T07:55:31.218902Z",
     "start_time": "2022-04-10T07:55:31.202129Z"
    }
   },
   "outputs": [],
   "source": [
    "node1=Node(1)\n",
    "head=node1"
   ]
  },
  {
   "cell_type": "code",
   "execution_count": 14,
   "id": "22cd9e21",
   "metadata": {
    "ExecuteTime": {
     "end_time": "2022-04-10T07:55:31.756124Z",
     "start_time": "2022-04-10T07:55:31.747036Z"
    }
   },
   "outputs": [],
   "source": [
    "for index in range(2,10):\n",
    "    add(index)"
   ]
  },
  {
   "cell_type": "code",
   "execution_count": 18,
   "id": "7c258f8c",
   "metadata": {
    "ExecuteTime": {
     "end_time": "2022-04-10T08:39:51.268798Z",
     "start_time": "2022-04-10T08:39:51.259109Z"
    }
   },
   "outputs": [
    {
     "name": "stdout",
     "output_type": "stream",
     "text": [
      "1\n",
      "2\n",
      "3\n",
      "4\n",
      "5\n",
      "6\n",
      "7\n",
      "8\n",
      "9\n"
     ]
    }
   ],
   "source": [
    "node=head\n",
    "while node.next:\n",
    "    print(node.data)\n",
    "    node=node.next\n",
    "print(node.data)"
   ]
  },
  {
   "cell_type": "code",
   "execution_count": 19,
   "id": "77e68a5a",
   "metadata": {
    "ExecuteTime": {
     "end_time": "2022-04-10T08:40:07.522017Z",
     "start_time": "2022-04-10T08:40:07.506890Z"
    }
   },
   "outputs": [
    {
     "name": "stdout",
     "output_type": "stream",
     "text": [
      "1\n",
      "2\n",
      "3\n",
      "4\n",
      "5\n",
      "6\n",
      "7\n",
      "8\n",
      "9\n"
     ]
    }
   ],
   "source": [
    "node = head\n",
    "while node.next: #node의 넥스트가 none이 아닐 때만 반복문 실행\n",
    "    print(node.data)\n",
    "    node = node.next\n",
    "print (node.data)"
   ]
  },
  {
   "cell_type": "markdown",
   "id": "74515ba5",
   "metadata": {
    "ExecuteTime": {
     "end_time": "2022-04-10T08:42:46.243881Z",
     "start_time": "2022-04-10T08:42:46.234920Z"
    }
   },
   "source": [
    "### 3. 링크드 리스트의 장단점 (전통적인 C언어에서의 배열과 링크드 리스트)\n",
    "* 장점\n",
    "  - 미리 데이터 공간을 미리 할당하지 않아도 됨\n",
    "    - 배열은 **미리 데이터 공간을 할당** 해야 함\n",
    "* 단점\n",
    "  - 연결을 위한 별도 데이터 공간이 필요하므로, 저장공간 효율이 높지 않음\n",
    "  - 연결 정보를 찾는 시간이 필요하므로 접근 속도가 느림\n",
    "  - 중간 데이터 삭제시, 앞뒤 데이터의 연결을 재구성해야 하는 부가적인 작업 필요"
   ]
  },
  {
   "cell_type": "markdown",
   "id": "8594413a",
   "metadata": {},
   "source": [
    "### 데이터 연결내에 값 추가하기"
   ]
  },
  {
   "cell_type": "code",
   "execution_count": 22,
   "id": "f0dfadf8",
   "metadata": {
    "ExecuteTime": {
     "end_time": "2022-04-10T09:11:58.011100Z",
     "start_time": "2022-04-10T09:11:58.002409Z"
    }
   },
   "outputs": [],
   "source": [
    "node3=Node(1.5)"
   ]
  },
  {
   "cell_type": "code",
   "execution_count": 23,
   "id": "5487e2be",
   "metadata": {
    "ExecuteTime": {
     "end_time": "2022-04-10T09:11:58.468294Z",
     "start_time": "2022-04-10T09:11:58.458243Z"
    }
   },
   "outputs": [],
   "source": [
    "node=head\n",
    "search=True\n",
    "while search:\n",
    "    if node.data==1:\n",
    "        search=False\n",
    "    else:\n",
    "        node=node.next\n",
    "\n",
    "node_next=node.next\n",
    "node.next=node3 \n",
    "node3.next=node_next"
   ]
  },
  {
   "cell_type": "code",
   "execution_count": 24,
   "id": "52f3ae1c",
   "metadata": {
    "ExecuteTime": {
     "end_time": "2022-04-10T09:12:06.168145Z",
     "start_time": "2022-04-10T09:12:06.154025Z"
    }
   },
   "outputs": [
    {
     "name": "stdout",
     "output_type": "stream",
     "text": [
      "1\n",
      "1.5\n",
      "2\n",
      "3\n",
      "4\n",
      "5\n",
      "6\n",
      "7\n",
      "8\n",
      "9\n"
     ]
    }
   ],
   "source": [
    "node = head\n",
    "while node.next:\n",
    "    print(node.data)\n",
    "    node = node.next\n",
    "print (node.data)"
   ]
  },
  {
   "cell_type": "markdown",
   "id": "92a809a8",
   "metadata": {},
   "source": [
    "### 객체 지향 프로그래밍으로 리스트 구현하기"
   ]
  },
  {
   "cell_type": "code",
   "execution_count": 26,
   "id": "7bf82147",
   "metadata": {
    "ExecuteTime": {
     "end_time": "2022-04-10T09:18:34.404652Z",
     "start_time": "2022-04-10T09:18:34.394809Z"
    }
   },
   "outputs": [],
   "source": [
    "class Node:\n",
    "    def __init__(self, data, next=None):\n",
    "        self.data = data\n",
    "        self.next = next\n",
    "    \n",
    "class NodeMgmt:\n",
    "    def __init__(self, data):\n",
    "        self.head = Node(data)\n",
    "        \n",
    "    def add(self, data):\n",
    "        if self.head == '':\n",
    "            self.head = Node(data)\n",
    "        else:\n",
    "            node = self.head\n",
    "            while node.next:\n",
    "                node = node.next\n",
    "            node.next = Node(data)\n",
    "        \n",
    "    def desc(self):\n",
    "        node = self.head\n",
    "        while node:\n",
    "            print (node.data)\n",
    "            node = node.next"
   ]
  },
  {
   "cell_type": "code",
   "execution_count": 28,
   "id": "51b199f0",
   "metadata": {
    "ExecuteTime": {
     "end_time": "2022-04-10T09:19:03.411299Z",
     "start_time": "2022-04-10T09:19:03.387778Z"
    }
   },
   "outputs": [
    {
     "name": "stdout",
     "output_type": "stream",
     "text": [
      "0\n"
     ]
    }
   ],
   "source": [
    "linkedlist1 = NodeMgmt(0)\n",
    "linkedlist1.desc()"
   ]
  },
  {
   "cell_type": "code",
   "execution_count": 29,
   "id": "a980a781",
   "metadata": {
    "ExecuteTime": {
     "end_time": "2022-04-10T09:19:46.872664Z",
     "start_time": "2022-04-10T09:19:46.858664Z"
    }
   },
   "outputs": [
    {
     "name": "stdout",
     "output_type": "stream",
     "text": [
      "0\n",
      "1\n",
      "2\n",
      "3\n",
      "4\n",
      "5\n",
      "6\n",
      "7\n",
      "8\n",
      "9\n"
     ]
    }
   ],
   "source": [
    "for data in range(1,10):\n",
    "    linkedlist1.add(data)\n",
    "linkedlist1.desc()"
   ]
  },
  {
   "cell_type": "markdown",
   "id": "44a1034a",
   "metadata": {},
   "source": [
    "### 6. 링크드 리스트의 복잡한 기능2 (특정 노드를 삭제)\n",
    "* 다음 코드는 위의 코드에서 delete 메서드만 추가한 것이므로 해당 메서드만 확인하면 됨"
   ]
  },
  {
   "cell_type": "code",
   "execution_count": 33,
   "id": "9bfef5ba",
   "metadata": {
    "ExecuteTime": {
     "end_time": "2022-04-11T05:40:49.945757Z",
     "start_time": "2022-04-11T05:40:49.931971Z"
    }
   },
   "outputs": [],
   "source": [
    "class Node:\n",
    "    def __init__(self,data,next=None):\n",
    "        self.data=data\n",
    "        self.next=next\n",
    "        \n",
    "class NodeMgmt:\n",
    "    def __init__(self,data):\n",
    "        self.head=Node(data)\n",
    "        \n",
    "    def add(self,data):\n",
    "        if self.head == '':\n",
    "            self.head=Node(data)\n",
    "        else:\n",
    "            node=self.head\n",
    "            while node.next:\n",
    "                node=node.next\n",
    "            node.next=Node(data)\n",
    "            \n",
    "    def desc(self):\n",
    "        node=self.head\n",
    "        while node:\n",
    "            print(node.data)\n",
    "            node=node.next\n",
    "            \n",
    "    def delete(self,data):\n",
    "        if self.head=='':\n",
    "            print('해당 값을 가진 노드가 없습니다')\n",
    "            return\n",
    "        \n",
    "        if self.head.data==data:\n",
    "            temp=self.head\n",
    "            self.head=self.head.next\n",
    "            del temp\n",
    "            \n",
    "        else:\n",
    "            node=self.head\n",
    "            while node.next:\n",
    "                if node.next.data==data:\n",
    "                    temp=node.next\n",
    "                    node.next=nodee.next.next\n",
    "                    del temp\n",
    "                    teturn\n",
    "                else:\n",
    "                    node=node.next\n",
    "    def search_node(self,data):\n",
    "        node=self.head\n",
    "        while node:\n",
    "            if node.data==data:\n",
    "                return node\n",
    "            else:\n",
    "                node=node.next\n",
    "            "
   ]
  },
  {
   "cell_type": "code",
   "execution_count": 34,
   "id": "77e64159",
   "metadata": {
    "ExecuteTime": {
     "end_time": "2022-04-11T05:40:54.113097Z",
     "start_time": "2022-04-11T05:40:54.108012Z"
    }
   },
   "outputs": [],
   "source": [
    "linkedlist1=NodeMgmt(0)"
   ]
  },
  {
   "cell_type": "code",
   "execution_count": 35,
   "id": "07ae78e2",
   "metadata": {
    "ExecuteTime": {
     "end_time": "2022-04-11T05:40:54.385787Z",
     "start_time": "2022-04-11T05:40:54.372538Z"
    }
   },
   "outputs": [
    {
     "name": "stdout",
     "output_type": "stream",
     "text": [
      "0\n"
     ]
    }
   ],
   "source": [
    "linkedlist1.desc() ## 테스트를 위해 1개노드를 생성"
   ]
  },
  {
   "cell_type": "code",
   "execution_count": 36,
   "id": "98eb6076",
   "metadata": {
    "ExecuteTime": {
     "end_time": "2022-04-11T05:40:54.863083Z",
     "start_time": "2022-04-11T05:40:54.851795Z"
    }
   },
   "outputs": [
    {
     "data": {
      "text/plain": [
       "<__main__.Node at 0x1cbd2b916a0>"
      ]
     },
     "execution_count": 36,
     "metadata": {},
     "output_type": "execute_result"
    }
   ],
   "source": [
    "linkedlist1.head #헤드가 살아있음을 확인"
   ]
  },
  {
   "cell_type": "code",
   "execution_count": 37,
   "id": "3c992599",
   "metadata": {
    "ExecuteTime": {
     "end_time": "2022-04-11T05:40:55.258772Z",
     "start_time": "2022-04-11T05:40:55.251453Z"
    }
   },
   "outputs": [],
   "source": [
    "linkedlist1.delete(0)"
   ]
  },
  {
   "cell_type": "code",
   "execution_count": 38,
   "id": "feeb60a9",
   "metadata": {
    "ExecuteTime": {
     "end_time": "2022-04-11T05:40:55.685099Z",
     "start_time": "2022-04-11T05:40:55.678040Z"
    }
   },
   "outputs": [],
   "source": [
    "linkedlist1.head # 정상적으로 딜리트 된 것 확인"
   ]
  },
  {
   "cell_type": "code",
   "execution_count": 39,
   "id": "67f34fa8",
   "metadata": {
    "ExecuteTime": {
     "end_time": "2022-04-11T05:40:56.266361Z",
     "start_time": "2022-04-11T05:40:56.258270Z"
    }
   },
   "outputs": [
    {
     "name": "stdout",
     "output_type": "stream",
     "text": [
      "0\n"
     ]
    }
   ],
   "source": [
    "linkedlist1 = NodeMgmt(0) #다시 노드 생성\n",
    "linkedlist1.desc()"
   ]
  },
  {
   "cell_type": "code",
   "execution_count": 40,
   "id": "09c6d1b4",
   "metadata": {
    "ExecuteTime": {
     "end_time": "2022-04-11T05:40:57.086946Z",
     "start_time": "2022-04-11T05:40:57.068394Z"
    }
   },
   "outputs": [
    {
     "name": "stdout",
     "output_type": "stream",
     "text": [
      "0\n",
      "1\n",
      "2\n",
      "3\n",
      "4\n",
      "5\n",
      "6\n",
      "7\n",
      "8\n",
      "9\n"
     ]
    }
   ],
   "source": [
    "for data in range(1,10):\n",
    "    linkedlist1.add(data)\n",
    "linkedlist1.desc()"
   ]
  },
  {
   "cell_type": "code",
   "execution_count": 42,
   "id": "8e9b20fc",
   "metadata": {
    "ExecuteTime": {
     "end_time": "2022-04-11T05:41:13.255441Z",
     "start_time": "2022-04-11T05:41:13.244352Z"
    }
   },
   "outputs": [
    {
     "name": "stdout",
     "output_type": "stream",
     "text": [
      "4\n"
     ]
    }
   ],
   "source": [
    "# 테스트\n",
    "node_mgmt = NodeMgmt(0)\n",
    "for data in range(1, 10):\n",
    "    node_mgmt.add(data)\n",
    "\n",
    "node = node_mgmt.search_node(4)\n",
    "print (node.data)"
   ]
  },
  {
   "cell_type": "code",
   "execution_count": 43,
   "id": "949a6cd9",
   "metadata": {
    "ExecuteTime": {
     "end_time": "2022-04-11T05:42:14.172648Z",
     "start_time": "2022-04-11T05:42:14.164296Z"
    }
   },
   "outputs": [],
   "source": [
    "for data in range(1, 10):\n",
    "    node_mgmt.add(data)"
   ]
  },
  {
   "cell_type": "code",
   "execution_count": 46,
   "id": "ad56d16d",
   "metadata": {
    "ExecuteTime": {
     "end_time": "2022-04-11T05:42:37.226405Z",
     "start_time": "2022-04-11T05:42:37.220251Z"
    }
   },
   "outputs": [],
   "source": [
    "node=node_mgmt.search_node(4)"
   ]
  },
  {
   "cell_type": "code",
   "execution_count": 51,
   "id": "1820c1a0",
   "metadata": {
    "ExecuteTime": {
     "end_time": "2022-04-11T05:49:10.375874Z",
     "start_time": "2022-04-11T05:49:10.357091Z"
    }
   },
   "outputs": [
    {
     "name": "stdout",
     "output_type": "stream",
     "text": [
      "4\n"
     ]
    }
   ],
   "source": [
    "print(node.data)"
   ]
  },
  {
   "cell_type": "markdown",
   "id": "d4201149",
   "metadata": {},
   "source": [
    "### 7. 다양한 링크드 리스트 구조 \n",
    "* 더블 링크드 리스트(Doubly linked list) 기본 구조 \n",
    "  - 이중 연결 리스트라고도 함\n",
    "  - 장점: 양방향으로 연결되어 있어서 노드 탐색이 양쪽으로 모두 가능\n",
    "  <br>\n",
    "<img src=\"https://www.fun-coding.org/00_Images/doublelinkedlist.png\" />\n",
    "(출처: wikipedia, https://en.wikipedia.org/wiki/Linked_list)"
   ]
  },
  {
   "cell_type": "code",
   "execution_count": null,
   "id": "1bf9b3fa",
   "metadata": {},
   "outputs": [],
   "source": [
    "class Node:\n",
    "    def __init__(self,data,prev=None,next=None)\n",
    "        self.prev=prev\n",
    "        self.data=data\n",
    "        self.next=next\n",
    "        \n",
    "class NodeMgmt:\n",
    "    def __init__(self,data):\n",
    "        self.head=Node(data)\n",
    "        \n",
    "        "
   ]
  }
 ],
 "metadata": {
  "kernelspec": {
   "display_name": "Python 3",
   "language": "python",
   "name": "python3"
  },
  "language_info": {
   "codemirror_mode": {
    "name": "ipython",
    "version": 3
   },
   "file_extension": ".py",
   "mimetype": "text/x-python",
   "name": "python",
   "nbconvert_exporter": "python",
   "pygments_lexer": "ipython3",
   "version": "3.8.8"
  },
  "nbTranslate": {
   "displayLangs": [
    "*"
   ],
   "hotkey": "alt-t",
   "langInMainMenu": true,
   "sourceLang": "en",
   "targetLang": "fr",
   "useGoogleTranslate": true
  },
  "toc": {
   "base_numbering": 1,
   "nav_menu": {},
   "number_sections": true,
   "sideBar": true,
   "skip_h1_title": false,
   "title_cell": "Table of Contents",
   "title_sidebar": "Contents",
   "toc_cell": false,
   "toc_position": {},
   "toc_section_display": true,
   "toc_window_display": false
  },
  "varInspector": {
   "cols": {
    "lenName": 16,
    "lenType": 16,
    "lenVar": 40
   },
   "kernels_config": {
    "python": {
     "delete_cmd_postfix": "",
     "delete_cmd_prefix": "del ",
     "library": "var_list.py",
     "varRefreshCmd": "print(var_dic_list())"
    },
    "r": {
     "delete_cmd_postfix": ") ",
     "delete_cmd_prefix": "rm(",
     "library": "var_list.r",
     "varRefreshCmd": "cat(var_dic_list()) "
    }
   },
   "types_to_exclude": [
    "module",
    "function",
    "builtin_function_or_method",
    "instance",
    "_Feature"
   ],
   "window_display": false
  }
 },
 "nbformat": 4,
 "nbformat_minor": 5
}
