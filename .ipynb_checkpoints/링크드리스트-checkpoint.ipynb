{
 "cells": [
  {
   "cell_type": "code",
   "execution_count": 17,
   "id": "e7baf389",
   "metadata": {
    "ExecuteTime": {
     "end_time": "2022-04-10T07:57:56.164725Z",
     "start_time": "2022-04-10T07:57:56.156068Z"
    }
   },
   "outputs": [],
   "source": [
    "# 링크드리스트 : 첫번째 노드만 알면 그다음 주소와 노드가 연결되어있어서\n",
    "#마지막 노드까지 출력가능"
   ]
  },
  {
   "cell_type": "code",
   "execution_count": 1,
   "id": "c34409e3",
   "metadata": {
    "ExecuteTime": {
     "end_time": "2022-04-10T07:22:30.659647Z",
     "start_time": "2022-04-10T07:22:30.648140Z"
    }
   },
   "outputs": [],
   "source": [
    "class Node:\n",
    "    def __init__(self,data):\n",
    "        self.data=data\n",
    "        self.next=None"
   ]
  },
  {
   "cell_type": "code",
   "execution_count": 2,
   "id": "e3a76618",
   "metadata": {
    "ExecuteTime": {
     "end_time": "2022-04-10T07:24:44.904657Z",
     "start_time": "2022-04-10T07:24:44.891727Z"
    }
   },
   "outputs": [],
   "source": [
    "class Node:\n",
    "    def __init__(self, data, next=None):\n",
    "        self.data = data\n",
    "        self.next = next"
   ]
  },
  {
   "cell_type": "code",
   "execution_count": 3,
   "id": "c779d93d",
   "metadata": {
    "ExecuteTime": {
     "end_time": "2022-04-10T07:25:18.529325Z",
     "start_time": "2022-04-10T07:25:18.523642Z"
    }
   },
   "outputs": [],
   "source": [
    "node1=Node(1)\n",
    "node2=Node(2)"
   ]
  },
  {
   "cell_type": "code",
   "execution_count": 6,
   "id": "e2c037ab",
   "metadata": {
    "ExecuteTime": {
     "end_time": "2022-04-10T07:33:46.349210Z",
     "start_time": "2022-04-10T07:33:46.341610Z"
    }
   },
   "outputs": [],
   "source": [
    "node1.next=node2\n",
    "head=node1"
   ]
  },
  {
   "cell_type": "code",
   "execution_count": 8,
   "id": "e60629b0",
   "metadata": {
    "ExecuteTime": {
     "end_time": "2022-04-10T07:33:53.061259Z",
     "start_time": "2022-04-10T07:33:53.052032Z"
    }
   },
   "outputs": [
    {
     "data": {
      "text/plain": [
       "<__main__.Node at 0x1b43cfc0460>"
      ]
     },
     "execution_count": 8,
     "metadata": {},
     "output_type": "execute_result"
    }
   ],
   "source": [
    "node1"
   ]
  },
  {
   "cell_type": "code",
   "execution_count": 12,
   "id": "c7945db7",
   "metadata": {
    "ExecuteTime": {
     "end_time": "2022-04-10T07:55:30.393819Z",
     "start_time": "2022-04-10T07:55:30.386686Z"
    }
   },
   "outputs": [],
   "source": [
    "class Node:\n",
    "    def __init__(self, data, next=None):\n",
    "        self.data = data\n",
    "        self.next = next\n",
    "        \n",
    "        \n",
    "def add(data):\n",
    "    node = head\n",
    "    while node.next:\n",
    "        node = node.next\n",
    "    node.next = Node(data) \n",
    "\n",
    "        "
   ]
  },
  {
   "cell_type": "code",
   "execution_count": 13,
   "id": "b523dd76",
   "metadata": {
    "ExecuteTime": {
     "end_time": "2022-04-10T07:55:31.218902Z",
     "start_time": "2022-04-10T07:55:31.202129Z"
    }
   },
   "outputs": [],
   "source": [
    "node1=Node(1)\n",
    "head=node1"
   ]
  },
  {
   "cell_type": "code",
   "execution_count": 14,
   "id": "6cf34d28",
   "metadata": {
    "ExecuteTime": {
     "end_time": "2022-04-10T07:55:31.756124Z",
     "start_time": "2022-04-10T07:55:31.747036Z"
    }
   },
   "outputs": [],
   "source": [
    "for index in range(2,10):\n",
    "    add(index)"
   ]
  },
  {
   "cell_type": "code",
   "execution_count": 18,
   "id": "a8e93adb",
   "metadata": {
    "ExecuteTime": {
     "end_time": "2022-04-10T08:39:51.268798Z",
     "start_time": "2022-04-10T08:39:51.259109Z"
    }
   },
   "outputs": [
    {
     "name": "stdout",
     "output_type": "stream",
     "text": [
      "1\n",
      "2\n",
      "3\n",
      "4\n",
      "5\n",
      "6\n",
      "7\n",
      "8\n",
      "9\n"
     ]
    }
   ],
   "source": [
    "node=head\n",
    "while node.next:\n",
    "    print(node.data)\n",
    "    node=node.next\n",
    "print(node.data)"
   ]
  },
  {
   "cell_type": "code",
   "execution_count": 19,
   "id": "48a08979",
   "metadata": {
    "ExecuteTime": {
     "end_time": "2022-04-10T08:40:07.522017Z",
     "start_time": "2022-04-10T08:40:07.506890Z"
    }
   },
   "outputs": [
    {
     "name": "stdout",
     "output_type": "stream",
     "text": [
      "1\n",
      "2\n",
      "3\n",
      "4\n",
      "5\n",
      "6\n",
      "7\n",
      "8\n",
      "9\n"
     ]
    }
   ],
   "source": [
    "node = head\n",
    "while node.next: #node의 넥스트가 none이 아닐 때만 반복문 실행\n",
    "    print(node.data)\n",
    "    node = node.next\n",
    "print (node.data)"
   ]
  },
  {
   "cell_type": "markdown",
   "id": "694376db",
   "metadata": {
    "ExecuteTime": {
     "end_time": "2022-04-10T08:42:46.243881Z",
     "start_time": "2022-04-10T08:42:46.234920Z"
    }
   },
   "source": [
    "### 3. 링크드 리스트의 장단점 (전통적인 C언어에서의 배열과 링크드 리스트)\n",
    "* 장점\n",
    "  - 미리 데이터 공간을 미리 할당하지 않아도 됨\n",
    "    - 배열은 **미리 데이터 공간을 할당** 해야 함\n",
    "* 단점\n",
    "  - 연결을 위한 별도 데이터 공간이 필요하므로, 저장공간 효율이 높지 않음\n",
    "  - 연결 정보를 찾는 시간이 필요하므로 접근 속도가 느림\n",
    "  - 중간 데이터 삭제시, 앞뒤 데이터의 연결을 재구성해야 하는 부가적인 작업 필요"
   ]
  },
  {
   "cell_type": "markdown",
   "id": "a24a6235",
   "metadata": {},
   "source": [
    "### 데이터 연결내에 값 추가하기"
   ]
  },
  {
   "cell_type": "code",
   "execution_count": 22,
   "id": "bad857de",
   "metadata": {
    "ExecuteTime": {
     "end_time": "2022-04-10T09:11:58.011100Z",
     "start_time": "2022-04-10T09:11:58.002409Z"
    }
   },
   "outputs": [],
   "source": [
    "node3=Node(1.5)"
   ]
  },
  {
   "cell_type": "code",
   "execution_count": 23,
   "id": "caa2f7b1",
   "metadata": {
    "ExecuteTime": {
     "end_time": "2022-04-10T09:11:58.468294Z",
     "start_time": "2022-04-10T09:11:58.458243Z"
    }
   },
   "outputs": [],
   "source": [
    "node=head\n",
    "search=True\n",
    "while search:\n",
    "    if node.data==1:\n",
    "        search=False\n",
    "    else:\n",
    "        node=node.next\n",
    "\n",
    "node_next=node.next\n",
    "node.next=node3 \n",
    "node3.next=node_next"
   ]
  },
  {
   "cell_type": "code",
   "execution_count": 24,
   "id": "be3e96c1",
   "metadata": {
    "ExecuteTime": {
     "end_time": "2022-04-10T09:12:06.168145Z",
     "start_time": "2022-04-10T09:12:06.154025Z"
    }
   },
   "outputs": [
    {
     "name": "stdout",
     "output_type": "stream",
     "text": [
      "1\n",
      "1.5\n",
      "2\n",
      "3\n",
      "4\n",
      "5\n",
      "6\n",
      "7\n",
      "8\n",
      "9\n"
     ]
    }
   ],
   "source": [
    "node = head\n",
    "while node.next:\n",
    "    print(node.data)\n",
    "    node = node.next\n",
    "print (node.data)"
   ]
  },
  {
   "cell_type": "markdown",
   "id": "b735350f",
   "metadata": {},
   "source": [
    "### 객체 지향 프로그래밍으로 리스트 구현하기"
   ]
  },
  {
   "cell_type": "code",
   "execution_count": 26,
   "id": "85ef1296",
   "metadata": {
    "ExecuteTime": {
     "end_time": "2022-04-10T09:18:34.404652Z",
     "start_time": "2022-04-10T09:18:34.394809Z"
    }
   },
   "outputs": [],
   "source": [
    "class Node:\n",
    "    def __init__(self, data, next=None):\n",
    "        self.data = data\n",
    "        self.next = next\n",
    "    \n",
    "class NodeMgmt:\n",
    "    def __init__(self, data):\n",
    "        self.head = Node(data)\n",
    "        \n",
    "    def add(self, data):\n",
    "        if self.head == '':\n",
    "            self.head = Node(data)\n",
    "        else:\n",
    "            node = self.head\n",
    "            while node.next:\n",
    "                node = node.next\n",
    "            node.next = Node(data)\n",
    "        \n",
    "    def desc(self):\n",
    "        node = self.head\n",
    "        while node:\n",
    "            print (node.data)\n",
    "            node = node.next"
   ]
  },
  {
   "cell_type": "code",
   "execution_count": 28,
   "id": "43a31d9a",
   "metadata": {
    "ExecuteTime": {
     "end_time": "2022-04-10T09:19:03.411299Z",
     "start_time": "2022-04-10T09:19:03.387778Z"
    }
   },
   "outputs": [
    {
     "name": "stdout",
     "output_type": "stream",
     "text": [
      "0\n"
     ]
    }
   ],
   "source": [
    "linkedlist1 = NodeMgmt(0)\n",
    "linkedlist1.desc()"
   ]
  },
  {
   "cell_type": "code",
   "execution_count": 29,
   "id": "1a499fc7",
   "metadata": {
    "ExecuteTime": {
     "end_time": "2022-04-10T09:19:46.872664Z",
     "start_time": "2022-04-10T09:19:46.858664Z"
    }
   },
   "outputs": [
    {
     "name": "stdout",
     "output_type": "stream",
     "text": [
      "0\n",
      "1\n",
      "2\n",
      "3\n",
      "4\n",
      "5\n",
      "6\n",
      "7\n",
      "8\n",
      "9\n"
     ]
    }
   ],
   "source": [
    "for data in range(1,10):\n",
    "    linkedlist1.add(data)\n",
    "linkedlist1.desc()"
   ]
  },
  {
   "cell_type": "code",
   "execution_count": null,
   "id": "8851394b",
   "metadata": {},
   "outputs": [],
   "source": []
  }
 ],
 "metadata": {
  "kernelspec": {
   "display_name": "Python 3",
   "language": "python",
   "name": "python3"
  },
  "language_info": {
   "codemirror_mode": {
    "name": "ipython",
    "version": 3
   },
   "file_extension": ".py",
   "mimetype": "text/x-python",
   "name": "python",
   "nbconvert_exporter": "python",
   "pygments_lexer": "ipython3",
   "version": "3.8.8"
  },
  "nbTranslate": {
   "displayLangs": [
    "*"
   ],
   "hotkey": "alt-t",
   "langInMainMenu": true,
   "sourceLang": "en",
   "targetLang": "fr",
   "useGoogleTranslate": true
  },
  "toc": {
   "base_numbering": 1,
   "nav_menu": {},
   "number_sections": true,
   "sideBar": true,
   "skip_h1_title": false,
   "title_cell": "Table of Contents",
   "title_sidebar": "Contents",
   "toc_cell": false,
   "toc_position": {},
   "toc_section_display": true,
   "toc_window_display": false
  },
  "varInspector": {
   "cols": {
    "lenName": 16,
    "lenType": 16,
    "lenVar": 40
   },
   "kernels_config": {
    "python": {
     "delete_cmd_postfix": "",
     "delete_cmd_prefix": "del ",
     "library": "var_list.py",
     "varRefreshCmd": "print(var_dic_list())"
    },
    "r": {
     "delete_cmd_postfix": ") ",
     "delete_cmd_prefix": "rm(",
     "library": "var_list.r",
     "varRefreshCmd": "cat(var_dic_list()) "
    }
   },
   "types_to_exclude": [
    "module",
    "function",
    "builtin_function_or_method",
    "instance",
    "_Feature"
   ],
   "window_display": false
  }
 },
 "nbformat": 4,
 "nbformat_minor": 5
}
