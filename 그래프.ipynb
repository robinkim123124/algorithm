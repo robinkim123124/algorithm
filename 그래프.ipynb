{
 "cells": [
  {
   "cell_type": "markdown",
   "id": "14501f1d",
   "metadata": {},
   "source": [
    "### 그래프"
   ]
  },
  {
   "cell_type": "markdown",
   "id": "f9180a9e",
   "metadata": {},
   "source": [
    "그래프는 실제 세계의 현상이나 사물을 정점 또는 노드와 간선으로 표현 하기 위해 사용"
   ]
  },
  {
   "cell_type": "code",
   "execution_count": 6,
   "id": "016134bc",
   "metadata": {
    "ExecuteTime": {
     "end_time": "2022-06-29T06:07:27.053991Z",
     "start_time": "2022-06-29T06:07:27.038585Z"
    }
   },
   "outputs": [],
   "source": [
    "graph = dict()\n",
    "\n",
    "graph['A'] = ['B', 'C']\n",
    "graph['B'] = ['A', 'D']\n",
    "graph['C'] = ['A', 'G', 'H', 'I']\n",
    "graph['D'] = ['B', 'E', 'F']\n",
    "graph['E'] = ['D']\n",
    "graph['F'] = ['D']\n",
    "graph['G'] = ['C']\n",
    "graph['H'] = ['C']\n",
    "graph['I'] = ['C', 'J']\n",
    "graph['J'] = ['I']"
   ]
  },
  {
   "cell_type": "code",
   "execution_count": 7,
   "id": "fbca750a",
   "metadata": {
    "ExecuteTime": {
     "end_time": "2022-06-29T06:07:29.847152Z",
     "start_time": "2022-06-29T06:07:29.839558Z"
    }
   },
   "outputs": [
    {
     "data": {
      "text/plain": [
       "{'A': ['B', 'C'],\n",
       " 'B': ['A', 'D'],\n",
       " 'C': ['A', 'G', 'H', 'I'],\n",
       " 'D': ['B', 'E', 'F'],\n",
       " 'E': ['D'],\n",
       " 'F': ['D'],\n",
       " 'G': ['C'],\n",
       " 'H': ['C'],\n",
       " 'I': ['C', 'J'],\n",
       " 'J': ['I']}"
      ]
     },
     "execution_count": 7,
     "metadata": {},
     "output_type": "execute_result"
    }
   ],
   "source": [
    "graph"
   ]
  },
  {
   "cell_type": "code",
   "execution_count": 8,
   "id": "c04391b0",
   "metadata": {
    "ExecuteTime": {
     "end_time": "2022-06-29T06:14:38.948423Z",
     "start_time": "2022-06-29T06:14:38.934928Z"
    }
   },
   "outputs": [],
   "source": [
    "data = [1, 2, 3]\n",
    "data.extend([4, 5])"
   ]
  },
  {
   "cell_type": "code",
   "execution_count": 9,
   "id": "348464ea",
   "metadata": {
    "ExecuteTime": {
     "end_time": "2022-06-29T06:14:39.989036Z",
     "start_time": "2022-06-29T06:14:39.974386Z"
    }
   },
   "outputs": [
    {
     "data": {
      "text/plain": [
       "[1, 2, 3, 4, 5]"
      ]
     },
     "execution_count": 9,
     "metadata": {},
     "output_type": "execute_result"
    }
   ],
   "source": [
    "data"
   ]
  },
  {
   "cell_type": "code",
   "execution_count": 50,
   "id": "7d329ca1",
   "metadata": {
    "ExecuteTime": {
     "end_time": "2022-06-29T07:43:08.999478Z",
     "start_time": "2022-06-29T07:43:08.985009Z"
    }
   },
   "outputs": [
    {
     "data": {
      "text/plain": [
       "{'A': ['B', 'C'],\n",
       " 'B': ['A', 'D'],\n",
       " 'C': ['A', 'G', 'H', 'I'],\n",
       " 'D': ['B', 'E', 'F'],\n",
       " 'E': ['D'],\n",
       " 'F': ['D'],\n",
       " 'G': ['C'],\n",
       " 'H': ['C'],\n",
       " 'I': ['C', 'J'],\n",
       " 'J': ['I']}"
      ]
     },
     "execution_count": 50,
     "metadata": {},
     "output_type": "execute_result"
    }
   ],
   "source": [
    "graph"
   ]
  },
  {
   "cell_type": "code",
   "execution_count": 12,
   "id": "7365ea70",
   "metadata": {
    "ExecuteTime": {
     "end_time": "2022-06-29T07:26:51.480871Z",
     "start_time": "2022-06-29T07:26:51.474610Z"
    }
   },
   "outputs": [],
   "source": [
    "def bfs(graph, start_node):\n",
    "    visited = list()\n",
    "    need_visit = list()\n",
    "    \n",
    "    need_visit.append(start_node)\n",
    "    \n",
    "    while need_visit:\n",
    "        node = need_visit.pop(0)\n",
    "        if node not in visited:\n",
    "            visited.append(node)\n",
    "            need_visit.extend(graph[node])\n",
    "    \n",
    "    return visited"
   ]
  },
  {
   "cell_type": "code",
   "execution_count": 13,
   "id": "541f6b5e",
   "metadata": {
    "ExecuteTime": {
     "end_time": "2022-06-29T07:26:51.974610Z",
     "start_time": "2022-06-29T07:26:51.955094Z"
    }
   },
   "outputs": [
    {
     "data": {
      "text/plain": [
       "['A', 'B', 'C', 'D', 'G', 'H', 'I', 'E', 'F', 'J']"
      ]
     },
     "execution_count": 13,
     "metadata": {},
     "output_type": "execute_result"
    }
   ],
   "source": [
    "bfs(graph, 'A')"
   ]
  },
  {
   "cell_type": "code",
   "execution_count": 34,
   "id": "fb42099c",
   "metadata": {
    "ExecuteTime": {
     "end_time": "2022-06-29T07:32:24.183459Z",
     "start_time": "2022-06-29T07:32:24.176946Z"
    }
   },
   "outputs": [],
   "source": [
    "visited = list()\n",
    "need_visit = list()\n",
    "\n",
    "need_visit.append('A')"
   ]
  },
  {
   "cell_type": "code",
   "execution_count": 24,
   "id": "0f52f6f0",
   "metadata": {
    "ExecuteTime": {
     "end_time": "2022-06-29T07:29:45.477381Z",
     "start_time": "2022-06-29T07:29:45.466419Z"
    }
   },
   "outputs": [
    {
     "data": {
      "text/plain": [
       "'A'"
      ]
     },
     "execution_count": 24,
     "metadata": {},
     "output_type": "execute_result"
    }
   ],
   "source": [
    "need_visit.pop(0)"
   ]
  },
  {
   "cell_type": "code",
   "execution_count": 35,
   "id": "3a0c51e0",
   "metadata": {
    "ExecuteTime": {
     "end_time": "2022-06-29T07:32:25.190935Z",
     "start_time": "2022-06-29T07:32:25.177296Z"
    }
   },
   "outputs": [
    {
     "name": "stdout",
     "output_type": "stream",
     "text": [
      "r\n",
      "r\n",
      "r\n",
      "r\n",
      "r\n",
      "r\n",
      "r\n",
      "r\n",
      "r\n",
      "r\n",
      "r\n",
      "r\n",
      "r\n",
      "r\n",
      "r\n",
      "r\n",
      "r\n",
      "r\n",
      "r\n"
     ]
    }
   ],
   "source": [
    "while need_visit:\n",
    "    node = need_visit.pop(0)\n",
    "    if node not in visited:\n",
    "        visited.append(node)\n",
    "        need_visit.extend(graph[node])\n",
    "    print('r')\n"
   ]
  },
  {
   "cell_type": "code",
   "execution_count": 37,
   "id": "d54986d1",
   "metadata": {
    "ExecuteTime": {
     "end_time": "2022-06-29T07:34:02.021672Z",
     "start_time": "2022-06-29T07:34:02.010145Z"
    }
   },
   "outputs": [
    {
     "data": {
      "text/plain": [
       "['A', 'B', 'C', 'D', 'G', 'H', 'I', 'E', 'F', 'J']"
      ]
     },
     "execution_count": 37,
     "metadata": {},
     "output_type": "execute_result"
    }
   ],
   "source": [
    "visited"
   ]
  },
  {
   "cell_type": "code",
   "execution_count": 42,
   "id": "dcdfb25a",
   "metadata": {
    "ExecuteTime": {
     "end_time": "2022-06-29T07:41:45.685549Z",
     "start_time": "2022-06-29T07:41:45.665580Z"
    }
   },
   "outputs": [],
   "source": [
    "def bfs(graph, start_node):\n",
    "    visited = list()\n",
    "    need_visit = list()\n",
    "    \n",
    "    need_visit.append(start_node)\n",
    "    count = 0\n",
    "    while need_visit:\n",
    "        print(count)\n",
    "        count += 1\n",
    "        node = need_visit.pop(0)\n",
    "        if node not in visited:\n",
    "            visited.append(node)\n",
    "            need_visit.extend(graph[node])\n",
    "    print (count)\n",
    "    return visited"
   ]
  },
  {
   "cell_type": "code",
   "execution_count": 43,
   "id": "967da49f",
   "metadata": {
    "ExecuteTime": {
     "end_time": "2022-06-29T07:41:46.173713Z",
     "start_time": "2022-06-29T07:41:46.152135Z"
    }
   },
   "outputs": [
    {
     "name": "stdout",
     "output_type": "stream",
     "text": [
      "0\n",
      "1\n",
      "2\n",
      "3\n",
      "4\n",
      "5\n",
      "6\n",
      "7\n",
      "8\n",
      "9\n",
      "10\n",
      "11\n",
      "12\n",
      "13\n",
      "14\n",
      "15\n",
      "16\n",
      "17\n",
      "18\n",
      "19\n"
     ]
    },
    {
     "data": {
      "text/plain": [
       "['A', 'B', 'C', 'D', 'G', 'H', 'I', 'E', 'F', 'J']"
      ]
     },
     "execution_count": 43,
     "metadata": {},
     "output_type": "execute_result"
    }
   ],
   "source": [
    "bfs(graph, 'A')"
   ]
  },
  {
   "cell_type": "code",
   "execution_count": 51,
   "id": "36959ebc",
   "metadata": {
    "ExecuteTime": {
     "end_time": "2022-06-29T07:43:19.059089Z",
     "start_time": "2022-06-29T07:43:19.041248Z"
    }
   },
   "outputs": [],
   "source": [
    "need_visit.extend(graph[node])"
   ]
  },
  {
   "cell_type": "code",
   "execution_count": 54,
   "id": "3a16280a",
   "metadata": {
    "ExecuteTime": {
     "end_time": "2022-06-29T07:43:31.788916Z",
     "start_time": "2022-06-29T07:43:31.778963Z"
    }
   },
   "outputs": [
    {
     "data": {
      "text/plain": [
       "'B'"
      ]
     },
     "execution_count": 54,
     "metadata": {},
     "output_type": "execute_result"
    }
   ],
   "source": [
    "need_visit.pop(0)"
   ]
  },
  {
   "cell_type": "code",
   "execution_count": null,
   "id": "acd3f675",
   "metadata": {},
   "outputs": [],
   "source": []
  },
  {
   "cell_type": "code",
   "execution_count": null,
   "id": "997fe983",
   "metadata": {},
   "outputs": [],
   "source": []
  }
 ],
 "metadata": {
  "kernelspec": {
   "display_name": "Python 3",
   "language": "python",
   "name": "python3"
  },
  "language_info": {
   "codemirror_mode": {
    "name": "ipython",
    "version": 3
   },
   "file_extension": ".py",
   "mimetype": "text/x-python",
   "name": "python",
   "nbconvert_exporter": "python",
   "pygments_lexer": "ipython3",
   "version": "3.8.8"
  },
  "nbTranslate": {
   "displayLangs": [
    "*"
   ],
   "hotkey": "alt-t",
   "langInMainMenu": true,
   "sourceLang": "en",
   "targetLang": "fr",
   "useGoogleTranslate": true
  },
  "toc": {
   "base_numbering": 1,
   "nav_menu": {},
   "number_sections": true,
   "sideBar": true,
   "skip_h1_title": false,
   "title_cell": "Table of Contents",
   "title_sidebar": "Contents",
   "toc_cell": false,
   "toc_position": {},
   "toc_section_display": true,
   "toc_window_display": false
  },
  "varInspector": {
   "cols": {
    "lenName": 16,
    "lenType": 16,
    "lenVar": 40
   },
   "kernels_config": {
    "python": {
     "delete_cmd_postfix": "",
     "delete_cmd_prefix": "del ",
     "library": "var_list.py",
     "varRefreshCmd": "print(var_dic_list())"
    },
    "r": {
     "delete_cmd_postfix": ") ",
     "delete_cmd_prefix": "rm(",
     "library": "var_list.r",
     "varRefreshCmd": "cat(var_dic_list()) "
    }
   },
   "types_to_exclude": [
    "module",
    "function",
    "builtin_function_or_method",
    "instance",
    "_Feature"
   ],
   "window_display": false
  }
 },
 "nbformat": 4,
 "nbformat_minor": 5
}
