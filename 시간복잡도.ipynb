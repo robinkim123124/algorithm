{
 "cells": [
  {
   "cell_type": "markdown",
   "id": "8ade68ae",
   "metadata": {},
   "source": [
    "### 1. 알고리즘 복잡도 계산 항목\n",
    "1. **시간 복잡도**: 알고리즘 실행 속도\n",
    "2. **공간 복잡도**: 알고리즘이 사용하는 메모리 사이즈\n",
    "\n",
    "> 가장 중요한 시간 복잡도를 꼭 이해하고 계산할 수 있어야 함"
   ]
  },
  {
   "cell_type": "code",
   "execution_count": 1,
   "id": "aa9b861a",
   "metadata": {
    "ExecuteTime": {
     "end_time": "2022-04-12T13:29:30.078598Z",
     "start_time": "2022-04-12T13:29:29.872602Z"
    }
   },
   "outputs": [
    {
     "ename": "NameError",
     "evalue": "name 'n' is not defined",
     "output_type": "error",
     "traceback": [
      "\u001b[1;31m---------------------------------------------------------------------------\u001b[0m",
      "\u001b[1;31mNameError\u001b[0m                                 Traceback (most recent call last)",
      "\u001b[1;32m<ipython-input-1-0930eb4f9034>\u001b[0m in \u001b[0;36m<module>\u001b[1;34m\u001b[0m\n\u001b[1;32m----> 1\u001b[1;33m \u001b[1;32mif\u001b[0m \u001b[0mn\u001b[0m\u001b[1;33m>\u001b[0m\u001b[1;36m10\u001b[0m\u001b[1;33m:\u001b[0m\u001b[1;33m\u001b[0m\u001b[1;33m\u001b[0m\u001b[0m\n\u001b[0m\u001b[0;32m      2\u001b[0m     \u001b[0mprint\u001b[0m\u001b[1;33m(\u001b[0m\u001b[0mn\u001b[0m\u001b[1;33m)\u001b[0m\u001b[1;33m\u001b[0m\u001b[1;33m\u001b[0m\u001b[0m\n",
      "\u001b[1;31mNameError\u001b[0m: name 'n' is not defined"
     ]
    }
   ],
   "source": [
    "if n>10:\n",
    "    print(n)"
   ]
  },
  {
   "cell_type": "code",
   "execution_count": 17,
   "id": "972ab148",
   "metadata": {
    "ExecuteTime": {
     "end_time": "2022-04-12T13:45:22.919069Z",
     "start_time": "2022-04-12T13:45:22.910001Z"
    }
   },
   "outputs": [
    {
     "name": "stdout",
     "output_type": "stream",
     "text": [
      "time : 0.0\n"
     ]
    }
   ],
   "source": [
    "start = time.time()\n",
    "def sum_all(n):\n",
    "    total=0\n",
    "    for num in range(1,n+1):\n",
    "        total+=num\n",
    "    return total\n",
    "print(\"time :\", time.time() - start)"
   ]
  },
  {
   "cell_type": "code",
   "execution_count": 18,
   "id": "a384e948",
   "metadata": {
    "ExecuteTime": {
     "end_time": "2022-04-12T13:45:29.201675Z",
     "start_time": "2022-04-12T13:45:29.198611Z"
    }
   },
   "outputs": [
    {
     "name": "stdout",
     "output_type": "stream",
     "text": [
      "time : 0.0\n"
     ]
    }
   ],
   "source": [
    "start = time.time()\n",
    "sum_all(5)\n",
    "print(\"time :\", time.time() - start)"
   ]
  },
  {
   "cell_type": "code",
   "execution_count": 8,
   "id": "4f9aada7",
   "metadata": {
    "ExecuteTime": {
     "end_time": "2022-04-12T13:45:02.735974Z",
     "start_time": "2022-04-12T13:45:02.733912Z"
    }
   },
   "outputs": [],
   "source": [
    "import time"
   ]
  },
  {
   "cell_type": "code",
   "execution_count": 15,
   "id": "ad3f3cfb",
   "metadata": {
    "ExecuteTime": {
     "end_time": "2022-04-12T13:45:14.276739Z",
     "start_time": "2022-04-12T13:45:14.269092Z"
    }
   },
   "outputs": [],
   "source": [
    "\n",
    "def sum_all(n):\n",
    "    return int(n * (n + 1) / 2)\n"
   ]
  },
  {
   "cell_type": "code",
   "execution_count": 16,
   "id": "7c3ce8d5",
   "metadata": {
    "ExecuteTime": {
     "end_time": "2022-04-12T13:45:14.506035Z",
     "start_time": "2022-04-12T13:45:14.492507Z"
    }
   },
   "outputs": [
    {
     "name": "stdout",
     "output_type": "stream",
     "text": [
      "time : 0.0\n"
     ]
    }
   ],
   "source": [
    "start = time.time()\n",
    "sum_all(5)\n",
    "print(\"time :\", time.time() - start)"
   ]
  },
  {
   "cell_type": "code",
   "execution_count": null,
   "id": "fe9236f8",
   "metadata": {},
   "outputs": [],
   "source": []
  },
  {
   "cell_type": "code",
   "execution_count": null,
   "id": "7fe98a6a",
   "metadata": {},
   "outputs": [],
   "source": []
  }
 ],
 "metadata": {
  "kernelspec": {
   "display_name": "Python 3",
   "language": "python",
   "name": "python3"
  },
  "language_info": {
   "codemirror_mode": {
    "name": "ipython",
    "version": 3
   },
   "file_extension": ".py",
   "mimetype": "text/x-python",
   "name": "python",
   "nbconvert_exporter": "python",
   "pygments_lexer": "ipython3",
   "version": "3.8.8"
  },
  "nbTranslate": {
   "displayLangs": [
    "*"
   ],
   "hotkey": "alt-t",
   "langInMainMenu": true,
   "sourceLang": "en",
   "targetLang": "fr",
   "useGoogleTranslate": true
  },
  "toc": {
   "base_numbering": 1,
   "nav_menu": {},
   "number_sections": true,
   "sideBar": true,
   "skip_h1_title": false,
   "title_cell": "Table of Contents",
   "title_sidebar": "Contents",
   "toc_cell": false,
   "toc_position": {},
   "toc_section_display": true,
   "toc_window_display": false
  },
  "varInspector": {
   "cols": {
    "lenName": 16,
    "lenType": 16,
    "lenVar": 40
   },
   "kernels_config": {
    "python": {
     "delete_cmd_postfix": "",
     "delete_cmd_prefix": "del ",
     "library": "var_list.py",
     "varRefreshCmd": "print(var_dic_list())"
    },
    "r": {
     "delete_cmd_postfix": ") ",
     "delete_cmd_prefix": "rm(",
     "library": "var_list.r",
     "varRefreshCmd": "cat(var_dic_list()) "
    }
   },
   "types_to_exclude": [
    "module",
    "function",
    "builtin_function_or_method",
    "instance",
    "_Feature"
   ],
   "window_display": false
  }
 },
 "nbformat": 4,
 "nbformat_minor": 5
}
