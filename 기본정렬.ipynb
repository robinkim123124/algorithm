{
 "cells": [
  {
   "cell_type": "markdown",
   "id": "eca3c2f3",
   "metadata": {},
   "source": [
    "### 2. 버블 정렬 (bubble sort) 란?\n",
    "* 두 인접한 데이터를 비교해서, 앞에 있는 데이터가 뒤에 있는 데이터보다 크면, 자리를 바꾸는 정렬 알고리즘\n",
    "\n",
    "#### 직접 눈으로 보면 더 이해가 쉽다: https://visualgo.net/en/sorting\n",
    "\n",
    "<img src=\"https://upload.wikimedia.org/wikipedia/commons/c/c8/Bubble-sort-example-300px.gif\" width=600/>\n",
    "\n",
    "> 출처: https://en.wikipedia.org/wiki/Bubble_sort"
   ]
  },
  {
   "cell_type": "code",
   "execution_count": 9,
   "id": "8aa4c131",
   "metadata": {
    "ExecuteTime": {
     "end_time": "2022-05-08T06:09:33.488766Z",
     "start_time": "2022-05-08T06:09:33.476933Z"
    }
   },
   "outputs": [],
   "source": [
    "def bubblesort(data):\n",
    "    for index in range(len(data) - 1): # 턴\n",
    "        swap = False\n",
    "        for index2 in range(len(data) - index - 1):  #index : 턴  턴을 빼준만큼만 비교 -뒤에서부터\n",
    "             if data[index2] > data[index2 + 1]:\n",
    "                data[index2], data[index2 + 1] = data[index2 + 1], data[index2]\n",
    "                swap = True \n",
    "        \n",
    "        if swap == False:\n",
    "            break\n",
    "    return data"
   ]
  },
  {
   "cell_type": "code",
   "execution_count": 17,
   "id": "d545ebc2",
   "metadata": {
    "ExecuteTime": {
     "end_time": "2022-05-08T06:53:44.991593Z",
     "start_time": "2022-05-08T06:53:44.983619Z"
    }
   },
   "outputs": [],
   "source": [
    "import random\n",
    "    \n",
    "data_list=random.sample(range(100),50)\n"
   ]
  },
  {
   "cell_type": "code",
   "execution_count": 23,
   "id": "f816a74f",
   "metadata": {
    "ExecuteTime": {
     "end_time": "2022-05-08T06:54:18.660601Z",
     "start_time": "2022-05-08T06:54:18.648496Z"
    }
   },
   "outputs": [
    {
     "data": {
      "text/plain": [
       "[1,\n",
       " 2,\n",
       " 3,\n",
       " 4,\n",
       " 13,\n",
       " 14,\n",
       " 15,\n",
       " 16,\n",
       " 17,\n",
       " 18,\n",
       " 21,\n",
       " 22,\n",
       " 25,\n",
       " 26,\n",
       " 29,\n",
       " 30,\n",
       " 32,\n",
       " 33,\n",
       " 34,\n",
       " 35,\n",
       " 36,\n",
       " 38,\n",
       " 39,\n",
       " 40,\n",
       " 42,\n",
       " 43,\n",
       " 47,\n",
       " 49,\n",
       " 50,\n",
       " 51,\n",
       " 52,\n",
       " 53,\n",
       " 54,\n",
       " 55,\n",
       " 56,\n",
       " 57,\n",
       " 58,\n",
       " 59,\n",
       " 60,\n",
       " 61,\n",
       " 62,\n",
       " 72,\n",
       " 74,\n",
       " 75,\n",
       " 76,\n",
       " 78,\n",
       " 86,\n",
       " 87,\n",
       " 93,\n",
       " 97]"
      ]
     },
     "execution_count": 23,
     "metadata": {},
     "output_type": "execute_result"
    }
   ],
   "source": [
    "bubblesort(data_list)"
   ]
  },
  {
   "cell_type": "markdown",
   "id": "d94f82d8",
   "metadata": {},
   "source": [
    "### 1. 삽입 정렬 (insertion sort) 란?\n",
    "* 삽입 정렬은 두 번째 인덱스부터 시작\n",
    "* 해당 인덱스(key 값) 앞에 있는 데이터(B)부터 비교해서 key 값이 더 작으면, B값을 뒤 인덱스로 복사\n",
    "* 이를 key 값이 더 큰 데이터를 만날때까지 반복, 그리고 큰 데이터를 만난 위치 바로 뒤에 key 값을 이동\n",
    "\n",
    "#### 직접 눈으로 보면 더 이해가 쉽다: https://visualgo.net/en/sorting\n",
    "\n",
    "<img src=\"https://upload.wikimedia.org/wikipedia/commons/9/9c/Insertion-sort-example.gif\" />\n",
    "\n",
    "> 출처: https://commons.wikimedia.org/wiki/File:Insertion-sort-example.gif"
   ]
  },
  {
   "cell_type": "code",
   "execution_count": 24,
   "id": "cd3dcc84",
   "metadata": {
    "ExecuteTime": {
     "end_time": "2022-05-08T07:40:02.914123Z",
     "start_time": "2022-05-08T07:40:02.906566Z"
    }
   },
   "outputs": [],
   "source": [
    "def insertion_sort(data):\n",
    "    for index in range(len(data) - 1):\n",
    "        for index2 in range(index + 1, 0, -1):\n",
    "            if data[index2] < data[index2 - 1]:\n",
    "                data[index2], data[index2 - 1] = data[index2 - 1], data[index2]\n",
    "            else:\n",
    "                break\n",
    "    return data"
   ]
  },
  {
   "cell_type": "code",
   "execution_count": 25,
   "id": "b13bb33e",
   "metadata": {
    "ExecuteTime": {
     "end_time": "2022-05-08T07:40:06.629953Z",
     "start_time": "2022-05-08T07:40:06.613049Z"
    }
   },
   "outputs": [
    {
     "name": "stdout",
     "output_type": "stream",
     "text": [
      "[2, 3, 5, 6, 7, 8, 11, 12, 13, 14, 17, 20, 22, 24, 27, 31, 33, 37, 39, 41, 43, 45, 47, 48, 52, 53, 54, 56, 59, 60, 63, 66, 68, 70, 71, 72, 73, 75, 77, 79, 80, 85, 86, 88, 89, 90, 92, 93, 98, 99]\n"
     ]
    }
   ],
   "source": [
    "import random\n",
    "\n",
    "data_list = random.sample(range(100), 50)\n",
    "print (insertion_sort(data_list))"
   ]
  },
  {
   "cell_type": "markdown",
   "id": "fa1f70cb",
   "metadata": {},
   "source": [
    "## 대표적인 정렬3: 선택 정렬 (selection sort) "
   ]
  },
  {
   "cell_type": "markdown",
   "id": "f230cb54",
   "metadata": {},
   "source": [
    "### 1. 선택 정렬 (selection sort) 란?\n",
    "* 다음과 같은 순서를 반복하며 정렬하는 알고리즘\n",
    "  1. 주어진 데이터 중, 최소값을 찾음\n",
    "  2. 해당 최소값을 데이터 맨 앞에 위치한 값과 교체함\n",
    "  3. 맨 앞의 위치를 뺀 나머지 데이터를 동일한 방법으로 반복함\n",
    "\n",
    "#### 직접 눈으로 보면 더 이해가 쉽다: https://visualgo.net/en/sorting\n",
    "\n",
    "<img src=\"https://upload.wikimedia.org/wikipedia/commons/9/94/Selection-Sort-Animation.gif\" width=100>\n",
    "\n",
    "출처: https://en.wikipedia.org/wiki/Selection_sort"
   ]
  },
  {
   "cell_type": "code",
   "execution_count": 2,
   "id": "c4bfbe5d",
   "metadata": {
    "ExecuteTime": {
     "end_time": "2022-05-15T06:41:45.812947Z",
     "start_time": "2022-05-15T06:41:45.802617Z"
    }
   },
   "outputs": [],
   "source": [
    "import random\n",
    "\n",
    "data= random.sample(range(100), 10)"
   ]
  },
  {
   "cell_type": "code",
   "execution_count": 6,
   "id": "2956d77d",
   "metadata": {
    "ExecuteTime": {
     "end_time": "2022-05-15T06:42:09.485599Z",
     "start_time": "2022-05-15T06:42:09.475848Z"
    }
   },
   "outputs": [
    {
     "data": {
      "text/plain": [
       "[91, 73, 82, 69, 12, 64, 8, 59, 30, 34]"
      ]
     },
     "execution_count": 6,
     "metadata": {},
     "output_type": "execute_result"
    }
   ],
   "source": [
    "data"
   ]
  },
  {
   "cell_type": "code",
   "execution_count": 13,
   "id": "e7d8ad8d",
   "metadata": {
    "ExecuteTime": {
     "end_time": "2022-05-15T06:44:46.192224Z",
     "start_time": "2022-05-15T06:44:46.181141Z"
    }
   },
   "outputs": [
    {
     "name": "stdout",
     "output_type": "stream",
     "text": [
      "[8, 12, 30, 34, 59, 64, 69, 73, 82, 91]\n"
     ]
    }
   ],
   "source": [
    "for stand in range(len(data)-1):\n",
    "    lowest=stand\n",
    "    for index in range(stand,len(data)):\n",
    "        if data[lowest]>data[index]:\n",
    "            lowest=index\n",
    "    data[lowest],data[stand]=data[stand],data[lowest]\n",
    "print(data)"
   ]
  },
  {
   "cell_type": "code",
   "execution_count": 12,
   "id": "dc8f3f8a",
   "metadata": {
    "ExecuteTime": {
     "end_time": "2022-05-15T06:42:55.881057Z",
     "start_time": "2022-05-15T06:42:55.868205Z"
    }
   },
   "outputs": [
    {
     "data": {
      "text/plain": [
       "8"
      ]
     },
     "execution_count": 12,
     "metadata": {},
     "output_type": "execute_result"
    }
   ],
   "source": [
    "stand"
   ]
  },
  {
   "cell_type": "code",
   "execution_count": 10,
   "id": "2b7e1d3a",
   "metadata": {
    "ExecuteTime": {
     "end_time": "2022-05-15T06:42:52.245910Z",
     "start_time": "2022-05-15T06:42:52.235263Z"
    }
   },
   "outputs": [
    {
     "data": {
      "text/plain": [
       "10"
      ]
     },
     "execution_count": 10,
     "metadata": {},
     "output_type": "execute_result"
    }
   ],
   "source": [
    "len(data)"
   ]
  },
  {
   "cell_type": "markdown",
   "id": "b4824a81",
   "metadata": {},
   "source": [
    "### 공간복잡도"
   ]
  },
  {
   "cell_type": "code",
   "execution_count": 14,
   "id": "dd759664",
   "metadata": {
    "ExecuteTime": {
     "end_time": "2022-05-15T06:55:03.288681Z",
     "start_time": "2022-05-15T06:55:03.284336Z"
    }
   },
   "outputs": [],
   "source": [
    "def factorial(n):\n",
    "    fac=1\n",
    "    for index in range(2,n+1):\n",
    "        fac=fac*index\n",
    "    return fac"
   ]
  },
  {
   "cell_type": "code",
   "execution_count": 15,
   "id": "20e4ac37",
   "metadata": {
    "ExecuteTime": {
     "end_time": "2022-05-15T06:55:07.518993Z",
     "start_time": "2022-05-15T06:55:07.507514Z"
    }
   },
   "outputs": [
    {
     "data": {
      "text/plain": [
       "720"
      ]
     },
     "execution_count": 15,
     "metadata": {},
     "output_type": "execute_result"
    }
   ],
   "source": [
    "factorial(6)"
   ]
  },
  {
   "cell_type": "code",
   "execution_count": null,
   "id": "f2bf3019",
   "metadata": {},
   "outputs": [],
   "source": []
  }
 ],
 "metadata": {
  "kernelspec": {
   "display_name": "Python 3",
   "language": "python",
   "name": "python3"
  },
  "language_info": {
   "codemirror_mode": {
    "name": "ipython",
    "version": 3
   },
   "file_extension": ".py",
   "mimetype": "text/x-python",
   "name": "python",
   "nbconvert_exporter": "python",
   "pygments_lexer": "ipython3",
   "version": "3.8.8"
  },
  "nbTranslate": {
   "displayLangs": [
    "*"
   ],
   "hotkey": "alt-t",
   "langInMainMenu": true,
   "sourceLang": "en",
   "targetLang": "fr",
   "useGoogleTranslate": true
  },
  "toc": {
   "base_numbering": 1,
   "nav_menu": {},
   "number_sections": true,
   "sideBar": true,
   "skip_h1_title": false,
   "title_cell": "Table of Contents",
   "title_sidebar": "Contents",
   "toc_cell": false,
   "toc_position": {},
   "toc_section_display": true,
   "toc_window_display": false
  },
  "varInspector": {
   "cols": {
    "lenName": 16,
    "lenType": 16,
    "lenVar": 40
   },
   "kernels_config": {
    "python": {
     "delete_cmd_postfix": "",
     "delete_cmd_prefix": "del ",
     "library": "var_list.py",
     "varRefreshCmd": "print(var_dic_list())"
    },
    "r": {
     "delete_cmd_postfix": ") ",
     "delete_cmd_prefix": "rm(",
     "library": "var_list.r",
     "varRefreshCmd": "cat(var_dic_list()) "
    }
   },
   "types_to_exclude": [
    "module",
    "function",
    "builtin_function_or_method",
    "instance",
    "_Feature"
   ],
   "window_display": false
  }
 },
 "nbformat": 4,
 "nbformat_minor": 5
}
