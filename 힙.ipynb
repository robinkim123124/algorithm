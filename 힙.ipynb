{
 "cells": [
  {
   "cell_type": "markdown",
   "id": "2b5724e7",
   "metadata": {},
   "source": [
    "### 1. 힙 (Heap) 이란?\n",
    "- 힙: 데이터에서 최대값과 최소값을 빠르게 찾기 위해 고안된 완전 이진 트리(Complete Binary Tree)\n",
    "  - 완전 이진 트리: 노드를 삽입할 때 최하단 왼쪽 노드부터 차례대로 삽입하는 트리\n",
    "\n",
    "<img src=\"https://www.fun-coding.org/00_Images/completebinarytree.png\" width=300>\n",
    "\n",
    "- 힙을 사용하는 이유\n",
    "  - 배열에 데이터를 넣고, 최대값과 최소값을 찾으려면 O(n) 이 걸림\n",
    "  - 이에 반해, 힙에 데이터를 넣고, 최대값과 최소값을 찾으면, $ O(log n) $ 이 걸림\n",
    "  - 우선순위 큐와 같이 최대값 또는 최소값을 빠르게 찾아야 하는 자료구조 및 알고리즘 구현 등에 활용됨"
   ]
  },
  {
   "cell_type": "code",
   "execution_count": 1,
   "id": "f15a26f5",
   "metadata": {
    "ExecuteTime": {
     "end_time": "2022-04-26T08:43:42.392348Z",
     "start_time": "2022-04-26T08:43:42.373492Z"
    }
   },
   "outputs": [],
   "source": [
    "class Heap:\n",
    "    def __init__(self,data):\n",
    "        self.heap_array=list()\n",
    "        self.heap_array.append(None)\n",
    "        self.heap_array.append(data)\n",
    "        \n",
    "    def insert(self,data):\n",
    "        if len(self.heap_array)==0:\n",
    "            self.heap.array.append(None)\n",
    "            self.heap_array.append(data)\n",
    "            return True\n",
    "        \n",
    "        self.heap_array.append(data)\n",
    "        return True"
   ]
  },
  {
   "cell_type": "markdown",
   "id": "376c84b1",
   "metadata": {},
   "source": [
    "### 3. 힙 (Heap) 동작\n",
    "- 데이터를 힙 구조에 삽입, 삭제하는 과정을 그림을 통해 선명하게 이해하기\n",
    "\n",
    "### 힙에 데이터 삽입하기 - 기본 동작 \n",
    "- 힙은 완전 이진 트리이므로, 삽입할 노드는 기본적으로 왼쪽 최하단부 노드부터 채워지는 형태로 삽입\n",
    "<img src=\"https://www.fun-coding.org/00_Images/heap_ordinary.png\">"
   ]
  },
  {
   "cell_type": "code",
   "execution_count": 15,
   "id": "41e2e207",
   "metadata": {
    "ExecuteTime": {
     "end_time": "2022-05-08T04:54:24.841577Z",
     "start_time": "2022-05-08T04:54:24.822808Z"
    }
   },
   "outputs": [],
   "source": [
    "class Heap:\n",
    "    def __init__(self, data):\n",
    "        self.heap_array = list()\n",
    "        self.heap_array.append(None)\n",
    "        self.heap_array.append(data)\n",
    "        \n",
    "    def move_up(self, inserted_idx):\n",
    "        if inserted_idx <= 1:\n",
    "            return False\n",
    "        \n",
    "        parent_idx = inserted_idx // 2\n",
    "        if self.heap_array[inserted_idx] > self.heap_array[parent_idx]:\n",
    "            return True\n",
    "        else:\n",
    "            return False\n",
    "        \n",
    "    def insert(self, data):\n",
    "        if len(self.heap_array) == 0:\n",
    "            self.heap_array.append(None)\n",
    "            self.heap_array.append(data)\n",
    "            return True\n",
    "        \n",
    "        self.heap_array.append(data)\n",
    "        \n",
    "        inserted_idx = len(self.heap_array) - 1\n",
    "        \n",
    "        while self.move_up(inserted_idx):\n",
    "            parent_idx = inserted_idx // 2\n",
    "            self.heap_array[inserted_idx], self.heap_array[parent_idx] = self.heap_array[parent_idx], self.heap_array[inserted_idx]\n",
    "            inserted_idx = parent_idx\n",
    "        \n",
    "        return True\n"
   ]
  },
  {
   "cell_type": "code",
   "execution_count": 11,
   "id": "22848c2c",
   "metadata": {
    "ExecuteTime": {
     "end_time": "2022-05-08T04:50:36.501379Z",
     "start_time": "2022-05-08T04:50:36.489010Z"
    }
   },
   "outputs": [
    {
     "data": {
      "text/plain": [
       "[None, 1]"
      ]
     },
     "execution_count": 11,
     "metadata": {},
     "output_type": "execute_result"
    }
   ],
   "source": [
    "heap=Heap(1)\n",
    "heap.heap_array"
   ]
  },
  {
   "cell_type": "code",
   "execution_count": 12,
   "id": "5ddc701d",
   "metadata": {
    "ExecuteTime": {
     "end_time": "2022-05-08T04:53:29.930972Z",
     "start_time": "2022-05-08T04:53:29.921012Z"
    }
   },
   "outputs": [],
   "source": [
    "heap=Heap(15)"
   ]
  },
  {
   "cell_type": "code",
   "execution_count": 16,
   "id": "fb4021ae",
   "metadata": {
    "ExecuteTime": {
     "end_time": "2022-05-08T04:54:58.204935Z",
     "start_time": "2022-05-08T04:54:58.195201Z"
    }
   },
   "outputs": [
    {
     "data": {
      "text/plain": [
       "True"
      ]
     },
     "execution_count": 16,
     "metadata": {},
     "output_type": "execute_result"
    }
   ],
   "source": [
    "heap=Heap(15)\n",
    "heap.insert(10)\n",
    "heap.insert(8)\n",
    "heap.insert(5)\n",
    "heap.insert(4)\n",
    "heap.insert(20)\n"
   ]
  },
  {
   "cell_type": "code",
   "execution_count": 17,
   "id": "eb9dfd4a",
   "metadata": {
    "ExecuteTime": {
     "end_time": "2022-05-08T04:55:08.663873Z",
     "start_time": "2022-05-08T04:55:08.645815Z"
    }
   },
   "outputs": [
    {
     "data": {
      "text/plain": [
       "[None, 20, 10, 15, 5, 4, 8]"
      ]
     },
     "execution_count": 17,
     "metadata": {},
     "output_type": "execute_result"
    }
   ],
   "source": [
    "heap.heap_array"
   ]
  },
  {
   "cell_type": "code",
   "execution_count": null,
   "id": "e6182faa",
   "metadata": {},
   "outputs": [],
   "source": [
    " "
   ]
  }
 ],
 "metadata": {
  "kernelspec": {
   "display_name": "Python 3",
   "language": "python",
   "name": "python3"
  },
  "language_info": {
   "codemirror_mode": {
    "name": "ipython",
    "version": 3
   },
   "file_extension": ".py",
   "mimetype": "text/x-python",
   "name": "python",
   "nbconvert_exporter": "python",
   "pygments_lexer": "ipython3",
   "version": "3.8.8"
  },
  "nbTranslate": {
   "displayLangs": [
    "*"
   ],
   "hotkey": "alt-t",
   "langInMainMenu": true,
   "sourceLang": "en",
   "targetLang": "fr",
   "useGoogleTranslate": true
  },
  "toc": {
   "base_numbering": 1,
   "nav_menu": {},
   "number_sections": true,
   "sideBar": true,
   "skip_h1_title": false,
   "title_cell": "Table of Contents",
   "title_sidebar": "Contents",
   "toc_cell": false,
   "toc_position": {},
   "toc_section_display": true,
   "toc_window_display": false
  },
  "varInspector": {
   "cols": {
    "lenName": 16,
    "lenType": 16,
    "lenVar": 40
   },
   "kernels_config": {
    "python": {
     "delete_cmd_postfix": "",
     "delete_cmd_prefix": "del ",
     "library": "var_list.py",
     "varRefreshCmd": "print(var_dic_list())"
    },
    "r": {
     "delete_cmd_postfix": ") ",
     "delete_cmd_prefix": "rm(",
     "library": "var_list.r",
     "varRefreshCmd": "cat(var_dic_list()) "
    }
   },
   "types_to_exclude": [
    "module",
    "function",
    "builtin_function_or_method",
    "instance",
    "_Feature"
   ],
   "window_display": false
  }
 },
 "nbformat": 4,
 "nbformat_minor": 5
}
